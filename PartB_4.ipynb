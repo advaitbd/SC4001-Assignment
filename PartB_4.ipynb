{
 "cells": [
  {
   "attachments": {},
   "cell_type": "markdown",
   "metadata": {
    "id": "Pp6KAX1UXqaK"
   },
   "source": [
    "CS4001/4042 Assignment 1, Part B, Q4\n",
    "---\n",
    "\n",
    "Model degradation is a common issue faced when deploying machine learning models (including neural networks) in the real world. New data points could exhibit a different pattern from older data points due to factors such as changes in government policy or market sentiments. For instance, housing prices in Singapore have been increasing and the Singapore government has introduced 3 rounds of cooling measures over the past years (16 December 2021, 30 September 2022, 27 April 2023).\n",
    "\n",
    "In such situations, the distribution of the new data points could differ from the original data distribution which the models were trained on. Recall that machine learning models often work with the assumption that the test distribution should be similar to train distribution. When this assumption is violated, model performance will be adversely impacted.  In the last part of this assignment, we will investigate to what extent model degradation has occurred.\n"
   ]
  },
  {
   "attachments": {},
   "cell_type": "markdown",
   "metadata": {
    "id": "WsfKoCAMj9uo"
   },
   "source": [
    "\n",
    "\n",
    "---\n",
    "\n",
    "\n",
    "\n",
    "---\n",
    "\n"
   ]
  },
  {
   "attachments": {},
   "cell_type": "markdown",
   "metadata": {
    "id": "Rjdf67uIarDX"
   },
   "source": [
    "Your co-investigators used a linear regression model to rapidly test out several combinations of train/test splits and shared with you their findings in a brief report attached in Appendix A below. You wish to investigate whether your deep learning model corroborates with their findings."
   ]
  },
  {
   "cell_type": "code",
   "execution_count": 27,
   "metadata": {
    "id": "M3-BW2LW4Icq"
   },
   "outputs": [
    {
     "name": "stdout",
     "output_type": "stream",
     "text": [
      "Requirement already satisfied: alibi-detect in ./env/lib/python3.9/site-packages (0.11.4)\n",
      "Requirement already satisfied: requests<3.0.0,>=2.21.0 in ./env/lib/python3.9/site-packages (from alibi-detect) (2.31.0)\n",
      "Requirement already satisfied: typing-extensions>=3.7.4.3 in ./env/lib/python3.9/site-packages (from alibi-detect) (4.8.0)\n",
      "Requirement already satisfied: matplotlib<4.0.0,>=3.0.0 in ./env/lib/python3.9/site-packages (from alibi-detect) (3.8.0)\n",
      "Requirement already satisfied: scikit-learn<2.0.0,>=0.20.2 in ./env/lib/python3.9/site-packages (from alibi-detect) (1.3.1)\n",
      "Requirement already satisfied: numpy<2.0.0,>=1.16.2 in ./env/lib/python3.9/site-packages (from alibi-detect) (1.24.4)\n",
      "Requirement already satisfied: opencv-python<5.0.0,>=3.2.0 in ./env/lib/python3.9/site-packages (from alibi-detect) (4.8.1.78)\n",
      "Requirement already satisfied: toml<1.0.0,>=0.10.1 in ./env/lib/python3.9/site-packages (from alibi-detect) (0.10.2)\n",
      "Requirement already satisfied: pydantic<2.0.0,>=1.8.0 in ./env/lib/python3.9/site-packages (from alibi-detect) (1.10.13)\n",
      "Requirement already satisfied: transformers<5.0.0,>=4.0.0 in ./env/lib/python3.9/site-packages (from alibi-detect) (4.34.0)\n",
      "Requirement already satisfied: dill<0.4.0,>=0.3.0 in ./env/lib/python3.9/site-packages (from alibi-detect) (0.3.7)\n",
      "Requirement already satisfied: numba!=0.54.0,<0.58.0,>=0.50.0 in ./env/lib/python3.9/site-packages (from alibi-detect) (0.57.1)\n",
      "Requirement already satisfied: catalogue<3.0.0,>=2.0.0 in ./env/lib/python3.9/site-packages (from alibi-detect) (2.0.10)\n",
      "Requirement already satisfied: scipy<2.0.0,>=1.3.0 in ./env/lib/python3.9/site-packages (from alibi-detect) (1.11.3)\n",
      "Requirement already satisfied: Pillow<10.0.0,>=5.4.1 in ./env/lib/python3.9/site-packages (from alibi-detect) (9.5.0)\n",
      "Requirement already satisfied: scikit-image!=0.17.1,<0.22,>=0.14.2 in ./env/lib/python3.9/site-packages (from alibi-detect) (0.21.0)\n",
      "Requirement already satisfied: pandas<3.0.0,>=1.0.0 in ./env/lib/python3.9/site-packages (from alibi-detect) (2.1.1)\n",
      "Requirement already satisfied: tqdm<5.0.0,>=4.28.1 in ./env/lib/python3.9/site-packages (from alibi-detect) (4.66.1)\n",
      "Requirement already satisfied: kiwisolver>=1.0.1 in ./env/lib/python3.9/site-packages (from matplotlib<4.0.0,>=3.0.0->alibi-detect) (1.4.5)\n",
      "Requirement already satisfied: pyparsing>=2.3.1 in ./env/lib/python3.9/site-packages (from matplotlib<4.0.0,>=3.0.0->alibi-detect) (3.1.1)\n",
      "Requirement already satisfied: python-dateutil>=2.7 in ./env/lib/python3.9/site-packages (from matplotlib<4.0.0,>=3.0.0->alibi-detect) (2.8.2)\n",
      "Requirement already satisfied: contourpy>=1.0.1 in ./env/lib/python3.9/site-packages (from matplotlib<4.0.0,>=3.0.0->alibi-detect) (1.1.1)\n",
      "Requirement already satisfied: fonttools>=4.22.0 in ./env/lib/python3.9/site-packages (from matplotlib<4.0.0,>=3.0.0->alibi-detect) (4.43.1)\n",
      "Requirement already satisfied: packaging>=20.0 in ./env/lib/python3.9/site-packages (from matplotlib<4.0.0,>=3.0.0->alibi-detect) (23.2)\n",
      "Requirement already satisfied: importlib-resources>=3.2.0 in ./env/lib/python3.9/site-packages (from matplotlib<4.0.0,>=3.0.0->alibi-detect) (6.1.0)\n",
      "Requirement already satisfied: cycler>=0.10 in ./env/lib/python3.9/site-packages (from matplotlib<4.0.0,>=3.0.0->alibi-detect) (0.12.1)\n",
      "Requirement already satisfied: zipp>=3.1.0 in ./env/lib/python3.9/site-packages (from importlib-resources>=3.2.0->matplotlib<4.0.0,>=3.0.0->alibi-detect) (3.17.0)\n",
      "Requirement already satisfied: llvmlite<0.41,>=0.40.0dev0 in ./env/lib/python3.9/site-packages (from numba!=0.54.0,<0.58.0,>=0.50.0->alibi-detect) (0.40.1)\n",
      "Requirement already satisfied: pytz>=2020.1 in ./env/lib/python3.9/site-packages (from pandas<3.0.0,>=1.0.0->alibi-detect) (2023.3.post1)\n",
      "Requirement already satisfied: tzdata>=2022.1 in ./env/lib/python3.9/site-packages (from pandas<3.0.0,>=1.0.0->alibi-detect) (2023.3)\n",
      "Requirement already satisfied: six>=1.5 in ./env/lib/python3.9/site-packages (from python-dateutil>=2.7->matplotlib<4.0.0,>=3.0.0->alibi-detect) (1.16.0)\n",
      "Requirement already satisfied: urllib3<3,>=1.21.1 in ./env/lib/python3.9/site-packages (from requests<3.0.0,>=2.21.0->alibi-detect) (2.0.6)\n",
      "Requirement already satisfied: certifi>=2017.4.17 in ./env/lib/python3.9/site-packages (from requests<3.0.0,>=2.21.0->alibi-detect) (2023.7.22)\n",
      "Requirement already satisfied: idna<4,>=2.5 in ./env/lib/python3.9/site-packages (from requests<3.0.0,>=2.21.0->alibi-detect) (3.4)\n",
      "Requirement already satisfied: charset-normalizer<4,>=2 in ./env/lib/python3.9/site-packages (from requests<3.0.0,>=2.21.0->alibi-detect) (3.3.0)\n",
      "Requirement already satisfied: tifffile>=2022.8.12 in ./env/lib/python3.9/site-packages (from scikit-image!=0.17.1,<0.22,>=0.14.2->alibi-detect) (2023.9.26)\n",
      "Requirement already satisfied: imageio>=2.27 in ./env/lib/python3.9/site-packages (from scikit-image!=0.17.1,<0.22,>=0.14.2->alibi-detect) (2.31.5)\n",
      "Requirement already satisfied: lazy_loader>=0.2 in ./env/lib/python3.9/site-packages (from scikit-image!=0.17.1,<0.22,>=0.14.2->alibi-detect) (0.3)\n",
      "Requirement already satisfied: networkx>=2.8 in ./env/lib/python3.9/site-packages (from scikit-image!=0.17.1,<0.22,>=0.14.2->alibi-detect) (3.1)\n",
      "Requirement already satisfied: PyWavelets>=1.1.1 in ./env/lib/python3.9/site-packages (from scikit-image!=0.17.1,<0.22,>=0.14.2->alibi-detect) (1.4.1)\n",
      "Requirement already satisfied: joblib>=1.1.1 in ./env/lib/python3.9/site-packages (from scikit-learn<2.0.0,>=0.20.2->alibi-detect) (1.3.2)\n",
      "Requirement already satisfied: threadpoolctl>=2.0.0 in ./env/lib/python3.9/site-packages (from scikit-learn<2.0.0,>=0.20.2->alibi-detect) (3.2.0)\n",
      "Requirement already satisfied: safetensors>=0.3.1 in ./env/lib/python3.9/site-packages (from transformers<5.0.0,>=4.0.0->alibi-detect) (0.4.0)\n",
      "Requirement already satisfied: regex!=2019.12.17 in ./env/lib/python3.9/site-packages (from transformers<5.0.0,>=4.0.0->alibi-detect) (2023.10.3)\n",
      "Requirement already satisfied: filelock in ./env/lib/python3.9/site-packages (from transformers<5.0.0,>=4.0.0->alibi-detect) (3.12.4)\n",
      "Requirement already satisfied: pyyaml>=5.1 in ./env/lib/python3.9/site-packages (from transformers<5.0.0,>=4.0.0->alibi-detect) (6.0.1)\n",
      "Requirement already satisfied: huggingface-hub<1.0,>=0.16.4 in ./env/lib/python3.9/site-packages (from transformers<5.0.0,>=4.0.0->alibi-detect) (0.17.3)\n",
      "Requirement already satisfied: tokenizers<0.15,>=0.14 in ./env/lib/python3.9/site-packages (from transformers<5.0.0,>=4.0.0->alibi-detect) (0.14.1)\n",
      "Requirement already satisfied: fsspec in ./env/lib/python3.9/site-packages (from huggingface-hub<1.0,>=0.16.4->transformers<5.0.0,>=4.0.0->alibi-detect) (2023.9.2)\n",
      "\u001b[33mWARNING: You are using pip version 21.2.3; however, version 23.2.1 is available.\n",
      "You should consider upgrading via the '/Users/advait/Desktop/gitpositories/SC4001-Assignment/env/bin/python -m pip install --upgrade pip' command.\u001b[0m\n"
     ]
    }
   ],
   "source": [
    "!pip install alibi-detect"
   ]
  },
  {
   "cell_type": "code",
   "execution_count": 28,
   "metadata": {
    "id": "E7dD3Ihi4GF9"
   },
   "outputs": [],
   "source": [
    "SEED = 42\n",
    "\n",
    "import os\n",
    "\n",
    "import random\n",
    "random.seed(SEED)\n",
    "\n",
    "import numpy as np\n",
    "np.random.seed(SEED)\n",
    "\n",
    "import pandas as pd\n",
    "import pytorch_tabular\n",
    "import math\n",
    "from sklearn.metrics import r2_score, mean_squared_error\n",
    "from alibi_detect.cd import TabularDrift"
   ]
  },
  {
   "attachments": {},
   "cell_type": "markdown",
   "metadata": {
    "id": "xJjXNMOqcHVJ"
   },
   "source": [
    "> Evaluate your model from B1 on data from year 2022 and report the test R2."
   ]
  },
  {
   "cell_type": "code",
   "execution_count": 29,
   "metadata": {
    "id": "fOUcXL5OXASY"
   },
   "outputs": [
    {
     "name": "stderr",
     "output_type": "stream",
     "text": [
      "2023-10-13 16:02:21,349 - {pytorch_tabular.tabular_model:129} - INFO - Experiment Tracking is turned off\n",
      "2023-10-13 16:02:21,352 - {pytorch_tabular.tabular_model:268} - INFO - Preparing the Trainer\n",
      "/Users/advait/Desktop/gitpositories/SC4001-Assignment/env/lib/python3.9/site-packages/pytorch_lightning/trainer/connectors/accelerator_connector.py:589: LightningDeprecationWarning: The Trainer argument `auto_select_gpus` has been deprecated in v1.9.0 and will be removed in v2.0.0. Please use the function `pytorch_lightning.accelerators.find_usable_cuda_devices` instead.\n",
      "  rank_zero_deprecation(\n",
      "Trainer already configured with model summary callbacks: [<class 'pytorch_lightning.callbacks.rich_model_summary.RichModelSummary'>]. Skipping setting a default `ModelSummary` callback.\n",
      "GPU available: False, used: False\n",
      "TPU available: False, using: 0 TPU cores\n",
      "IPU available: False, using: 0 IPUs\n",
      "HPU available: False, using: 0 HPUs\n"
     ]
    },
    {
     "data": {
      "application/vnd.jupyter.widget-view+json": {
       "model_id": "77d3672351e4414dadea2167d98f1179",
       "version_major": 2,
       "version_minor": 0
      },
      "text/plain": [
       "Output()"
      ]
     },
     "metadata": {},
     "output_type": "display_data"
    },
    {
     "data": {
      "text/html": [
       "<pre style=\"white-space:pre;overflow-x:auto;line-height:normal;font-family:Menlo,'DejaVu Sans Mono',consolas,'Courier New',monospace\"></pre>\n"
      ],
      "text/plain": []
     },
     "metadata": {},
     "output_type": "display_data"
    },
    {
     "data": {
      "text/html": [
       "<pre style=\"white-space:pre;overflow-x:auto;line-height:normal;font-family:Menlo,'DejaVu Sans Mono',consolas,'Courier New',monospace\">\n",
       "</pre>\n"
      ],
      "text/plain": [
       "\n"
      ]
     },
     "metadata": {},
     "output_type": "display_data"
    },
    {
     "name": "stdout",
     "output_type": "stream",
     "text": [
      "R2:  0.4388472512009519\n"
     ]
    }
   ],
   "source": [
    "df = pd.read_csv('hdb_price_prediction.csv')\n",
    "\n",
    "# TODO: Enter your code here\n",
    "# model is in saved_models/b1.ckpt\n",
    "\n",
    "model = pytorch_tabular.tabular_model.TabularModel.load_model('saved_models/b1')\n",
    "\n",
    "test_data = df[df['year'] == 2022]\n",
    "predictions = model.predict(test_data)\n",
    "\n",
    "# print(\"RMSE: \", math.sqrt(mean_squared_error(test_data['resale_price'], predictions['resale_price_prediction'])))\n",
    "print(\"R2: \", r2_score(test_data['resale_price'], predictions['resale_price_prediction']))\n"
   ]
  },
  {
   "attachments": {},
   "cell_type": "markdown",
   "metadata": {
    "id": "Gsbs0iMiaUy-"
   },
   "source": [
    "> Evaluate your model from B1 on data from year 2023 and report the test R2."
   ]
  },
  {
   "cell_type": "code",
   "execution_count": 30,
   "metadata": {
    "id": "B4FLRQfBaRS-"
   },
   "outputs": [
    {
     "data": {
      "application/vnd.jupyter.widget-view+json": {
       "model_id": "91f2dc9e6997443c90ac7ea739517bd5",
       "version_major": 2,
       "version_minor": 0
      },
      "text/plain": [
       "Output()"
      ]
     },
     "metadata": {},
     "output_type": "display_data"
    },
    {
     "data": {
      "text/html": [
       "<pre style=\"white-space:pre;overflow-x:auto;line-height:normal;font-family:Menlo,'DejaVu Sans Mono',consolas,'Courier New',monospace\"></pre>\n"
      ],
      "text/plain": []
     },
     "metadata": {},
     "output_type": "display_data"
    },
    {
     "data": {
      "text/html": [
       "<pre style=\"white-space:pre;overflow-x:auto;line-height:normal;font-family:Menlo,'DejaVu Sans Mono',consolas,'Courier New',monospace\">\n",
       "</pre>\n"
      ],
      "text/plain": [
       "\n"
      ]
     },
     "metadata": {},
     "output_type": "display_data"
    },
    {
     "name": "stdout",
     "output_type": "stream",
     "text": [
      "R2:  0.16212590443081432\n"
     ]
    }
   ],
   "source": [
    "# TODO: Enter your code here\n",
    "\n",
    "test_data = df[df['year'] == 2023]\n",
    "predictions = model.predict(test_data)\n",
    "\n",
    "print(\"R2: \", r2_score(test_data['resale_price'], predictions['resale_price_prediction']))"
   ]
  },
  {
   "attachments": {},
   "cell_type": "markdown",
   "metadata": {
    "id": "11mU8sxcaSAP"
   },
   "source": [
    "> Did model degradation occur for the deep learning model?\n"
   ]
  },
  {
   "attachments": {},
   "cell_type": "markdown",
   "metadata": {
    "id": "nviGacm6aSlf"
   },
   "source": [
    "As observed from the decrease in R2. We can observe that model degradatoin has occurred for this model"
   ]
  },
  {
   "attachments": {},
   "cell_type": "markdown",
   "metadata": {
    "id": "KyiP8gBAcABD"
   },
   "source": [
    "\n",
    "\n",
    "---\n",
    "\n",
    "\n",
    "\n",
    "---\n",
    "\n"
   ]
  },
  {
   "attachments": {},
   "cell_type": "markdown",
   "metadata": {
    "id": "ruldtSTDcYzt"
   },
   "source": [
    "Model degradation could be caused by [various data distribution shifts](https://huyenchip.com/2022/02/07/data-distribution-shifts-and-monitoring.html#data-shift-types): covariate shift (features), label shift and/or concept drift (altered relationship between features and labels).\n",
    "There are various conflicting terminologies in the [literature](https://www.sciencedirect.com/science/article/pii/S0950705122002854#tbl1). Let’s stick to this reference for this assignment.\n",
    "\n",
    "> Using the **Alibi Detect** library, apply the **TabularDrift** function with the training data (year 2019 and before) used as the reference and **detect which features have drifted** in the 2023 test dataset. Before running the statistical tests, ensure you **sample 1000 data points** each from the train and test data. Do not use the whole train/test data. (Hint: use this example as a guide https://docs.seldon.io/projects/alibi-detect/en/stable/examples/cd_chi2ks_adult.html)\n"
   ]
  },
  {
   "cell_type": "code",
   "execution_count": 31,
   "metadata": {
    "id": "nGbdZc3ocYbB"
   },
   "outputs": [],
   "source": [
    "target = ['resale_price']\n",
    "categorical_cols = ['month', 'town', 'flat_model_type', 'storey_range']\n",
    "continuous_cols = ['dist_to_nearest_stn', 'dist_to_dhoby', 'degree_centrality', 'eigenvector_centrality', 'remaining_lease_years', 'floor_area_sqm']\n",
    "\n",
    "# Extract unique categories for each categorical column\n",
    "category_map = {}\n",
    "for i, col in enumerate(categorical_cols):\n",
    "    category_map[i] = df[col].unique().tolist()\n",
    "\n",
    "n_ref = 1000\n",
    "n_test = 1000\n",
    "\n",
    "# Splitting the dataset into train (reference) and test based on the 'year' column\n",
    "X_train = df[df['year'] <= 2019]\n",
    "X_test = df[df['year'] == 2023]\n",
    "\n",
    "# Limiting the number of rows for both reference and test datasets\n",
    "X_train = X_train[:n_ref]\n",
    "X_test = X_test[:n_test]\n",
    "\n",
    "X_ref = X_train[categorical_cols + continuous_cols].values\n",
    "X_test = X_test[categorical_cols + continuous_cols].values\n",
    "\n",
    "y_ref = X_train[target].values\n",
    "y_test = df[df['year'] == 2023][target].values[:n_test]\n",
    "\n",
    "categories_per_feature = {f: None for f in list(category_map.keys())}\n",
    "cd = TabularDrift(X_ref, p_val=.05, categories_per_feature=categories_per_feature)"
   ]
  },
  {
   "cell_type": "code",
   "execution_count": 32,
   "metadata": {},
   "outputs": [
    {
     "name": "stdout",
     "output_type": "stream",
     "text": [
      "Drift? Yes\n",
      "month -- Drift? No -- Chi2 0.000 -- p-value 1.000\n",
      "town -- Drift? Yes -- Chi2 667.474 -- p-value 0.000\n",
      "flat_model_type -- Drift? Yes -- Chi2 77.586 -- p-value 0.000\n",
      "storey_range -- Drift? Yes -- Chi2 38.800 -- p-value 0.001\n",
      "dist_to_nearest_stn -- Drift? No -- K-S 0.055 -- p-value 0.094\n",
      "dist_to_dhoby -- Drift? Yes -- K-S 0.218 -- p-value 0.000\n",
      "degree_centrality -- Drift? No -- K-S 0.029 -- p-value 0.783\n",
      "eigenvector_centrality -- Drift? Yes -- K-S 0.195 -- p-value 0.000\n",
      "remaining_lease_years -- Drift? Yes -- K-S 0.271 -- p-value 0.000\n",
      "floor_area_sqm -- Drift? Yes -- K-S 0.134 -- p-value 0.000\n"
     ]
    }
   ],
   "source": [
    "predictions = cd.predict(X_test)\n",
    "labels = ['No','Yes']\n",
    "print('Drift? {}'.format(labels[predictions['data']['is_drift']]))\n",
    "\n",
    "fpreds = cd.predict(X_test, drift_type='feature')\n",
    "feature_names = categorical_cols + continuous_cols\n",
    "\n",
    "for f in range(cd.n_features):\n",
    "    stat = 'Chi2' if f in list(categories_per_feature.keys()) else 'K-S'\n",
    "    fname = feature_names[f]\n",
    "    is_drift = fpreds['data']['is_drift'][f]\n",
    "    stat_val, p_val = fpreds['data']['distance'][f], fpreds['data']['p_val'][f]\n",
    "    print(f'{fname} -- Drift? {labels[is_drift]} -- {stat} {stat_val:.3f} -- p-value {p_val:.3f}')"
   ]
  },
  {
   "attachments": {},
   "cell_type": "markdown",
   "metadata": {
    "id": "Xmj3qq3PkJUf"
   },
   "source": [
    "> Assuming that the flurry of housing measures have made an impact on the relationship between all the features and resale_price (i.e. P(Y|X) changes), which type of data distribution shift possibly led to model degradation?\n"
   ]
  },
  {
   "attachments": {},
   "cell_type": "markdown",
   "metadata": {
    "id": "5UOsX4JqkZ9S"
   },
   "source": [
    "Concept Drift. If the housing measures change the relationship between all the features and the resale_price, this would impact the conditions by which X impacts Y, thereby changing P(Y|X). Hence, despite the fact that our input features selected (X) for the model did not change, changes in the 'conditions' of the housing market still impact the resale price (Y) of the house. Thereby reflecting a case of Concept Drift which possibly led to model degradation."
   ]
  },
  {
   "attachments": {},
   "cell_type": "markdown",
   "metadata": {
    "id": "DM2OoOJdkZj1"
   },
   "source": [
    "> From your analysis via TabularDrift, which features contribute to this shift?\n"
   ]
  },
  {
   "attachments": {},
   "cell_type": "markdown",
   "metadata": {
    "id": "V3licBjskdLL"
   },
   "source": [
    "- town\n",
    "- flat_model_type\n",
    "- storey_range\n",
    "- dist_to_dhoby\n",
    "- eigenvector_centrality\n",
    "- remaining_lease_years\n",
    "- floor_area_sqm"
   ]
  },
  {
   "attachments": {},
   "cell_type": "markdown",
   "metadata": {
    "id": "yB3fSvKskhEJ"
   },
   "source": [
    "> Suggest 1 way to address model degradation and implement it, showing improved test R2 for year 2023.\n"
   ]
  },
  {
   "attachments": {},
   "cell_type": "markdown",
   "metadata": {
    "id": "9UpP7K6Tkglx"
   },
   "source": [
    "The model used was trained on data from 2019 and before. Hence one way to address the model degradation is to train it on updated data. "
   ]
  },
  {
   "cell_type": "code",
   "execution_count": 33,
   "metadata": {
    "id": "EqFinZObcYXu"
   },
   "outputs": [
    {
     "name": "stderr",
     "output_type": "stream",
     "text": [
      "Global seed set to 42\n",
      "2023-10-13 16:02:22,739 - {pytorch_tabular.tabular_model:473} - INFO - Preparing the DataLoaders\n",
      "2023-10-13 16:02:22,756 - {pytorch_tabular.tabular_datamodule:290} - INFO - Setting up the datamodule for regression task\n",
      "2023-10-13 16:02:22,936 - {pytorch_tabular.tabular_model:521} - INFO - Preparing the Model: CategoryEmbeddingModel\n",
      "2023-10-13 16:02:22,965 - {pytorch_tabular.tabular_model:268} - INFO - Preparing the Trainer\n",
      "/Users/advait/Desktop/gitpositories/SC4001-Assignment/env/lib/python3.9/site-packages/pytorch_lightning/trainer/connectors/accelerator_connector.py:589: LightningDeprecationWarning: The Trainer argument `auto_select_gpus` has been deprecated in v1.9.0 and will be removed in v2.0.0. Please use the function `pytorch_lightning.accelerators.find_usable_cuda_devices` instead.\n",
      "  rank_zero_deprecation(\n",
      "GPU available: False, used: False\n",
      "TPU available: False, using: 0 TPU cores\n",
      "IPU available: False, using: 0 IPUs\n",
      "HPU available: False, using: 0 HPUs\n",
      "2023-10-13 16:02:22,993 - {pytorch_tabular.tabular_model:573} - INFO - Auto LR Find Started\n",
      "/Users/advait/Desktop/gitpositories/SC4001-Assignment/env/lib/python3.9/site-packages/pytorch_lightning/callbacks/model_checkpoint.py:613: UserWarning: Checkpoint directory /Users/advait/Desktop/gitpositories/SC4001-Assignment/saved_models exists and is not empty.\n",
      "  rank_zero_warn(f\"Checkpoint directory {dirpath} exists and is not empty.\")\n",
      "/Users/advait/Desktop/gitpositories/SC4001-Assignment/env/lib/python3.9/site-packages/pytorch_lightning/trainer/connectors/data_connector.py:224: PossibleUserWarning: The dataloader, train_dataloader, does not have many workers which may be a bottleneck. Consider increasing the value of the `num_workers` argument` (try 8 which is the number of cpus on this machine) in the `DataLoader` init to improve performance.\n",
      "  rank_zero_warn(\n",
      "/Users/advait/Desktop/gitpositories/SC4001-Assignment/env/lib/python3.9/site-packages/pytorch_lightning/trainer/connectors/data_connector.py:224: PossibleUserWarning: The dataloader, val_dataloader 0, does not have many workers which may be a bottleneck. Consider increasing the value of the `num_workers` argument` (try 8 which is the number of cpus on this machine) in the `DataLoader` init to improve performance.\n",
      "  rank_zero_warn(\n",
      "/Users/advait/Desktop/gitpositories/SC4001-Assignment/env/lib/python3.9/site-packages/pytorch_lightning/core/module.py:493: UserWarning: You called `self.log('valid_loss', ..., logger=True)` but have no logger configured. You can enable one by doing `Trainer(logger=ALogger(...))`\n",
      "  rank_zero_warn(\n",
      "/Users/advait/Desktop/gitpositories/SC4001-Assignment/env/lib/python3.9/site-packages/pytorch_lightning/core/module.py:493: UserWarning: You called `self.log('valid_mean_squared_error', ..., logger=True)` but have no logger configured. You can enable one by doing `Trainer(logger=ALogger(...))`\n",
      "  rank_zero_warn(\n"
     ]
    },
    {
     "data": {
      "application/vnd.jupyter.widget-view+json": {
       "model_id": "1e0728885dc74570937689c7e7237206",
       "version_major": 2,
       "version_minor": 0
      },
      "text/plain": [
       "Finding best initial lr:   0%|          | 0/100 [00:00<?, ?it/s]"
      ]
     },
     "metadata": {},
     "output_type": "display_data"
    },
    {
     "name": "stderr",
     "output_type": "stream",
     "text": [
      "/Users/advait/Desktop/gitpositories/SC4001-Assignment/env/lib/python3.9/site-packages/pytorch_lightning/core/module.py:493: UserWarning: You called `self.log('train_loss', ..., logger=True)` but have no logger configured. You can enable one by doing `Trainer(logger=ALogger(...))`\n",
      "  rank_zero_warn(\n",
      "/Users/advait/Desktop/gitpositories/SC4001-Assignment/env/lib/python3.9/site-packages/pytorch_lightning/core/module.py:493: UserWarning: You called `self.log('train_mean_squared_error', ..., logger=True)` but have no logger configured. You can enable one by doing `Trainer(logger=ALogger(...))`\n",
      "  rank_zero_warn(\n",
      "`Trainer.fit` stopped: `max_steps=100` reached.\n",
      "Learning rate set to 0.5754399373371567\n",
      "Restoring states from the checkpoint path at /Users/advait/Desktop/gitpositories/SC4001-Assignment/.lr_find_40c860d2-9521-48b7-8733-560329983a0a.ckpt\n",
      "Restored all states from the checkpoint file at /Users/advait/Desktop/gitpositories/SC4001-Assignment/.lr_find_40c860d2-9521-48b7-8733-560329983a0a.ckpt\n",
      "2023-10-13 16:02:26,621 - {pytorch_tabular.tabular_model:575} - INFO - Suggested LR: 0.5754399373371567. For plot and detailed analysis, use `find_learning_rate` method.\n",
      "2023-10-13 16:02:26,622 - {pytorch_tabular.tabular_model:582} - INFO - Training Started\n"
     ]
    },
    {
     "data": {
      "text/html": [
       "<pre style=\"white-space:pre;overflow-x:auto;line-height:normal;font-family:Menlo,'DejaVu Sans Mono',consolas,'Courier New',monospace\">┏━━━┳━━━━━━━━━━━━━━━━━━┳━━━━━━━━━━━━━━━━━━━━━━━━━━━┳━━━━━━━━┓\n",
       "┃<span style=\"color: #800080; text-decoration-color: #800080; font-weight: bold\">   </span>┃<span style=\"color: #800080; text-decoration-color: #800080; font-weight: bold\"> Name             </span>┃<span style=\"color: #800080; text-decoration-color: #800080; font-weight: bold\"> Type                      </span>┃<span style=\"color: #800080; text-decoration-color: #800080; font-weight: bold\"> Params </span>┃\n",
       "┡━━━╇━━━━━━━━━━━━━━━━━━╇━━━━━━━━━━━━━━━━━━━━━━━━━━━╇━━━━━━━━┩\n",
       "│<span style=\"color: #7f7f7f; text-decoration-color: #7f7f7f\"> 0 </span>│ _backbone        │ CategoryEmbeddingBackbone │  3.0 K │\n",
       "│<span style=\"color: #7f7f7f; text-decoration-color: #7f7f7f\"> 1 </span>│ _embedding_layer │ Embedding1dLayer          │  1.6 K │\n",
       "│<span style=\"color: #7f7f7f; text-decoration-color: #7f7f7f\"> 2 </span>│ head             │ LinearHead                │     51 │\n",
       "│<span style=\"color: #7f7f7f; text-decoration-color: #7f7f7f\"> 3 </span>│ loss             │ MSELoss                   │      0 │\n",
       "└───┴──────────────────┴───────────────────────────┴────────┘\n",
       "</pre>\n"
      ],
      "text/plain": [
       "┏━━━┳━━━━━━━━━━━━━━━━━━┳━━━━━━━━━━━━━━━━━━━━━━━━━━━┳━━━━━━━━┓\n",
       "┃\u001b[1;35m \u001b[0m\u001b[1;35m \u001b[0m\u001b[1;35m \u001b[0m┃\u001b[1;35m \u001b[0m\u001b[1;35mName            \u001b[0m\u001b[1;35m \u001b[0m┃\u001b[1;35m \u001b[0m\u001b[1;35mType                     \u001b[0m\u001b[1;35m \u001b[0m┃\u001b[1;35m \u001b[0m\u001b[1;35mParams\u001b[0m\u001b[1;35m \u001b[0m┃\n",
       "┡━━━╇━━━━━━━━━━━━━━━━━━╇━━━━━━━━━━━━━━━━━━━━━━━━━━━╇━━━━━━━━┩\n",
       "│\u001b[2m \u001b[0m\u001b[2m0\u001b[0m\u001b[2m \u001b[0m│ _backbone        │ CategoryEmbeddingBackbone │  3.0 K │\n",
       "│\u001b[2m \u001b[0m\u001b[2m1\u001b[0m\u001b[2m \u001b[0m│ _embedding_layer │ Embedding1dLayer          │  1.6 K │\n",
       "│\u001b[2m \u001b[0m\u001b[2m2\u001b[0m\u001b[2m \u001b[0m│ head             │ LinearHead                │     51 │\n",
       "│\u001b[2m \u001b[0m\u001b[2m3\u001b[0m\u001b[2m \u001b[0m│ loss             │ MSELoss                   │      0 │\n",
       "└───┴──────────────────┴───────────────────────────┴────────┘\n"
      ]
     },
     "metadata": {},
     "output_type": "display_data"
    },
    {
     "data": {
      "text/html": [
       "<pre style=\"white-space:pre;overflow-x:auto;line-height:normal;font-family:Menlo,'DejaVu Sans Mono',consolas,'Courier New',monospace\"><span style=\"font-weight: bold\">Trainable params</span>: 4.6 K                                                                                            \n",
       "<span style=\"font-weight: bold\">Non-trainable params</span>: 0                                                                                            \n",
       "<span style=\"font-weight: bold\">Total params</span>: 4.6 K                                                                                                \n",
       "<span style=\"font-weight: bold\">Total estimated model params size (MB)</span>: 0                                                                          \n",
       "</pre>\n"
      ],
      "text/plain": [
       "\u001b[1mTrainable params\u001b[0m: 4.6 K                                                                                            \n",
       "\u001b[1mNon-trainable params\u001b[0m: 0                                                                                            \n",
       "\u001b[1mTotal params\u001b[0m: 4.6 K                                                                                                \n",
       "\u001b[1mTotal estimated model params size (MB)\u001b[0m: 0                                                                          \n"
      ]
     },
     "metadata": {},
     "output_type": "display_data"
    },
    {
     "data": {
      "application/vnd.jupyter.widget-view+json": {
       "model_id": "5e3cbfd7c3894fe4884d4c72a035b494",
       "version_major": 2,
       "version_minor": 0
      },
      "text/plain": [
       "Output()"
      ]
     },
     "metadata": {},
     "output_type": "display_data"
    },
    {
     "data": {
      "text/html": [
       "<pre style=\"white-space:pre;overflow-x:auto;line-height:normal;font-family:Menlo,'DejaVu Sans Mono',consolas,'Courier New',monospace\"></pre>\n"
      ],
      "text/plain": []
     },
     "metadata": {},
     "output_type": "display_data"
    },
    {
     "data": {
      "text/html": [
       "<pre style=\"white-space:pre;overflow-x:auto;line-height:normal;font-family:Menlo,'DejaVu Sans Mono',consolas,'Courier New',monospace\">\n",
       "</pre>\n"
      ],
      "text/plain": [
       "\n"
      ]
     },
     "metadata": {},
     "output_type": "display_data"
    },
    {
     "name": "stderr",
     "output_type": "stream",
     "text": [
      "2023-10-13 16:04:29,602 - {pytorch_tabular.tabular_model:584} - INFO - Training the model completed\n",
      "2023-10-13 16:04:29,603 - {pytorch_tabular.tabular_model:1258} - INFO - Loading the best model\n",
      "/Users/advait/Desktop/gitpositories/SC4001-Assignment/env/lib/python3.9/site-packages/pytorch_lightning/utilities/cloud_io.py:33: LightningDeprecationWarning: `pytorch_lightning.utilities.cloud_io.get_filesystem` has been deprecated in v1.8.0 and will be removed in v2.0.0. Please use `lightning_fabric.utilities.cloud_io.get_filesystem` instead.\n",
      "  rank_zero_deprecation(\n"
     ]
    },
    {
     "data": {
      "text/plain": [
       "<pytorch_lightning.trainer.trainer.Trainer at 0x7fd6e3c4f9a0>"
      ]
     },
     "execution_count": 33,
     "metadata": {},
     "output_type": "execute_result"
    }
   ],
   "source": [
    "model.fit(train=df[df['year'] <= 2022])"
   ]
  },
  {
   "cell_type": "code",
   "execution_count": 34,
   "metadata": {},
   "outputs": [
    {
     "data": {
      "application/vnd.jupyter.widget-view+json": {
       "model_id": "6967e51e72e84cfa925a53f0d21a14dc",
       "version_major": 2,
       "version_minor": 0
      },
      "text/plain": [
       "Output()"
      ]
     },
     "metadata": {},
     "output_type": "display_data"
    },
    {
     "data": {
      "text/html": [
       "<pre style=\"white-space:pre;overflow-x:auto;line-height:normal;font-family:Menlo,'DejaVu Sans Mono',consolas,'Courier New',monospace\"></pre>\n"
      ],
      "text/plain": []
     },
     "metadata": {},
     "output_type": "display_data"
    },
    {
     "data": {
      "text/html": [
       "<pre style=\"white-space:pre;overflow-x:auto;line-height:normal;font-family:Menlo,'DejaVu Sans Mono',consolas,'Courier New',monospace\">\n",
       "</pre>\n"
      ],
      "text/plain": [
       "\n"
      ]
     },
     "metadata": {},
     "output_type": "display_data"
    },
    {
     "name": "stdout",
     "output_type": "stream",
     "text": [
      "R2:  0.5254131746577532\n"
     ]
    }
   ],
   "source": [
    "test_data = df[df['year'] == 2023]\n",
    "\n",
    "predictions = model.predict(test_data)\n",
    "\n",
    "print(\"R2: \", r2_score(test_data['resale_price'], predictions['resale_price_prediction']))\n"
   ]
  },
  {
   "attachments": {},
   "cell_type": "markdown",
   "metadata": {
    "id": "wQG9hZvAaq5g"
   },
   "source": [
    "### Appendix A\n",
    "\n"
   ]
  },
  {
   "attachments": {},
   "cell_type": "markdown",
   "metadata": {
    "id": "G_ARi2OxbDuZ"
   },
   "source": [
    "Here are our results from a linear regression model. We used StandardScaler for continuous variables and OneHotEncoder for categorical variables.\n",
    "\n",
    "While 2021 data can be predicted well, test R2 dropped rapidly for 2022 and 2023.\n",
    "\n",
    "| Training set | Test set | Test R2 |\n",
    "|--------------|----------|---------|\n",
    "| Year <= 2020 | 2021     | 0.76    |\n",
    "| Year <= 2020 | **2022**     | 0.41    |\n",
    "| Year <= 2020 | **2023**     | **0.10**   |\n",
    "\n"
   ]
  },
  {
   "attachments": {},
   "cell_type": "markdown",
   "metadata": {
    "id": "vmv91FqgbI8h"
   },
   "source": [
    "Similarly, a model trained on 2017 data can predict 2018-2021 well (with slight degradation in performance for 2021), but drops drastically in 2022 and 2023.\n",
    "\n",
    "| Training set | Test set | Test R2 |\n",
    "|--------------|----------|---------|\n",
    "| 2017         | 2018     | 0.90    |\n",
    "|              | 2019     | 0.89    |\n",
    "|              | 2020     | 0.87    |\n",
    "|              | 2021     | 0.72    |\n",
    "|              | **2022**     | **0.37**    |\n",
    "|              | **2023**     | **0.09**    |"
   ]
  },
  {
   "attachments": {},
   "cell_type": "markdown",
   "metadata": {
    "id": "ayKGs106bI6S"
   },
   "source": [
    "With the test set fixed at year 2021, training on data from 2017-2020 still works well on the test data, with minimal degradation. Training sets closer to year 2021 generally do better.\n",
    "\n",
    "| Training set | Test set | Test R2 |\n",
    "|--------------|----------|---------|\n",
    "| 2020         | 2021     | 0.81    |\n",
    "| 2019         | 2021     | 0.75    |\n",
    "| 2018         | 2021     | 0.73    |\n",
    "| 2017         | 2021     | 0.72    |"
   ]
  }
 ],
 "metadata": {
  "colab": {
   "authorship_tag": "ABX9TyNWUKTcEICJ0j/YcXkGkr53",
   "collapsed_sections": [
    "wQG9hZvAaq5g"
   ],
   "provenance": []
  },
  "kernelspec": {
   "display_name": "Python 3 (ipykernel)",
   "language": "python",
   "name": "python3"
  },
  "language_info": {
   "codemirror_mode": {
    "name": "ipython",
    "version": 3
   },
   "file_extension": ".py",
   "mimetype": "text/x-python",
   "name": "python",
   "nbconvert_exporter": "python",
   "pygments_lexer": "ipython3",
   "version": "3.9.7"
  }
 },
 "nbformat": 4,
 "nbformat_minor": 1
}
