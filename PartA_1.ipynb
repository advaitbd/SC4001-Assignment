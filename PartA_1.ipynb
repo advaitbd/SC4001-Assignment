{
 "cells": [
  {
   "attachments": {},
   "cell_type": "markdown",
   "id": "d01f9669-6940-4311-bcf9-e930ba3457f2",
   "metadata": {
    "deletable": false,
    "editable": false,
    "id": "d01f9669-6940-4311-bcf9-e930ba3457f2",
    "nbgrader": {
     "cell_type": "markdown",
     "checksum": "2ad988175a8c2593a35c27c5a89d6ea5",
     "grade": false,
     "grade_id": "a1",
     "locked": true,
     "schema_version": 3,
     "solution": false,
     "task": false
    },
    "tags": []
   },
   "source": [
    "# Question A1 (15 marks)"
   ]
  },
  {
   "attachments": {},
   "cell_type": "markdown",
   "id": "2fd870a1-6368-4b4f-9cbb-7eac0acda4ec",
   "metadata": {
    "deletable": false,
    "editable": false,
    "id": "2fd870a1-6368-4b4f-9cbb-7eac0acda4ec",
    "nbgrader": {
     "cell_type": "markdown",
     "checksum": "74435a282dd0f8cb4705e88829506c4e",
     "grade": false,
     "grade_id": "a1_overall",
     "locked": true,
     "schema_version": 3,
     "solution": false,
     "task": false
    },
    "tags": []
   },
   "source": [
    "#### Design a feedforward deep neural network (DNN) which consists of **three** hidden layers of 128 neurons each with ReLU activation function, and an output layer with sigmoid activation function. Apply dropout of probability **0.2** to each of the hidden layers.\n",
    "\n",
    "* note: some cells are non-editable and cannot be filled, but leave them untouched. Fill up only cells which are provided."
   ]
  },
  {
   "cell_type": "code",
   "execution_count": 7,
   "id": "3af871c6-6baa-4eff-b46a-eb7a81faac13",
   "metadata": {
    "deletable": false,
    "editable": false,
    "id": "3af871c6-6baa-4eff-b46a-eb7a81faac13",
    "nbgrader": {
     "cell_type": "code",
     "checksum": "909acb3c7ff3883eb5381eb586615d3b",
     "grade": false,
     "grade_id": "libraries",
     "locked": true,
     "schema_version": 3,
     "solution": false,
     "task": false
    },
    "tags": []
   },
   "outputs": [],
   "source": [
    "import tqdm\n",
    "import time\n",
    "import random\n",
    "import numpy as np\n",
    "import pandas as pd\n",
    "import matplotlib.pyplot as plt\n",
    "\n",
    "import torch\n",
    "from torch import nn\n",
    "from torch.utils.data import Dataset\n",
    "from torch.utils.data import DataLoader\n",
    "\n",
    "from scipy.io import wavfile as wav\n",
    "\n",
    "from sklearn import preprocessing\n",
    "from sklearn.model_selection import KFold\n",
    "from sklearn.model_selection import train_test_split\n",
    "from sklearn.metrics import f1_score, precision_score, recall_score, confusion_matrix\n",
    "\n",
    "from common_utils import set_seed\n",
    "\n",
    "# setting seed\n",
    "set_seed()"
   ]
  },
  {
   "attachments": {},
   "cell_type": "markdown",
   "id": "27828402-6f73-4afc-ad4b-d537b94406fc",
   "metadata": {
    "deletable": false,
    "editable": false,
    "id": "27828402-6f73-4afc-ad4b-d537b94406fc",
    "nbgrader": {
     "cell_type": "markdown",
     "checksum": "238677075e1bc63851fa208a1937b0d0",
     "grade": false,
     "grade_id": "a1_1_2",
     "locked": true,
     "schema_version": 3,
     "solution": false,
     "task": false
    },
    "tags": []
   },
   "source": [
    "1. Define the model class."
   ]
  },
  {
   "cell_type": "code",
   "execution_count": 8,
   "id": "f0a262dc-01fc-42d3-9554-a2a9b41db5f6",
   "metadata": {
    "deletable": false,
    "id": "f0a262dc-01fc-42d3-9554-a2a9b41db5f6",
    "nbgrader": {
     "cell_type": "code",
     "checksum": "ffe9e91761659732c1cda9441c248079",
     "grade": false,
     "grade_id": "mlp",
     "locked": false,
     "schema_version": 3,
     "solution": true,
     "task": false
    },
    "tags": []
   },
   "outputs": [],
   "source": [
    "class MLP(nn.Module):\n",
    "\n",
    "    def __init__(self, no_features, no_hidden, no_labels):\n",
    "        super().__init__()\n",
    "        self.mlp_stack = nn.Sequential(\n",
    "            nn.Linear(no_features, no_hidden),\n",
    "            nn.ReLU(),\n",
    "            nn.Dropout(0.2),\n",
    "            \n",
    "            nn.Linear(no_hidden, no_hidden),\n",
    "            nn.ReLU(),\n",
    "            nn.Dropout(0.2),\n",
    "            \n",
    "            nn.Linear(no_hidden, no_hidden),\n",
    "            nn.ReLU(),\n",
    "            nn.Dropout(0.2),\n",
    "            \n",
    "            nn.Linear(no_hidden, no_labels),\n",
    "            nn.Sigmoid()            \n",
    "        )\n",
    "\n",
    "    def forward(self, x):\n",
    "        logits = self.mlp_stack(x)\n",
    "        return logits"
   ]
  },
  {
   "cell_type": "code",
   "execution_count": null,
   "id": "078b1948-74c4-4619-a23f-3e5c7624ff9a",
   "metadata": {
    "deletable": false,
    "editable": false,
    "id": "078b1948-74c4-4619-a23f-3e5c7624ff9a",
    "nbgrader": {
     "cell_type": "code",
     "checksum": "d390df361e01c7ad9ed2ed99a7e8c891",
     "grade": true,
     "grade_id": "correct_mlp",
     "locked": true,
     "points": 1,
     "schema_version": 3,
     "solution": false,
     "task": false
    },
    "tags": []
   },
   "outputs": [],
   "source": []
  },
  {
   "cell_type": "code",
   "execution_count": null,
   "id": "e77f955d-0cbb-4f45-8a7a-efe0af645fb1",
   "metadata": {
    "deletable": false,
    "editable": false,
    "id": "e77f955d-0cbb-4f45-8a7a-efe0af645fb1",
    "nbgrader": {
     "cell_type": "code",
     "checksum": "acd75cd2a88aa738b9c7ab44fd639829",
     "grade": true,
     "grade_id": "correct_mlp2",
     "locked": true,
     "points": 1,
     "schema_version": 3,
     "solution": false,
     "task": false
    },
    "tags": []
   },
   "outputs": [],
   "source": []
  },
  {
   "attachments": {},
   "cell_type": "markdown",
   "id": "c508f1a3-1781-403e-a6c8-2133c83cf2c0",
   "metadata": {
    "deletable": false,
    "editable": false,
    "id": "c508f1a3-1781-403e-a6c8-2133c83cf2c0",
    "nbgrader": {
     "cell_type": "markdown",
     "checksum": "8fa5e10c9346a8cc9f313cfdeffb29ad",
     "grade": false,
     "grade_id": "a1_2",
     "locked": true,
     "schema_version": 3,
     "solution": false,
     "task": false
    },
    "tags": []
   },
   "source": [
    "#### Divide the dataset into a 70:30 ratio for training and testing. Use **appropriate** scaling of input features. We solely assume that there are only two datasets here: training & test."
   ]
  },
  {
   "attachments": {},
   "cell_type": "markdown",
   "id": "e95fca82-4f7a-4017-8990-e36a78db1560",
   "metadata": {
    "deletable": false,
    "editable": false,
    "id": "e95fca82-4f7a-4017-8990-e36a78db1560",
    "nbgrader": {
     "cell_type": "markdown",
     "checksum": "5b42952eb98d955700c9f15482aa73f1",
     "grade": false,
     "grade_id": "a1_2_1",
     "locked": true,
     "schema_version": 3,
     "solution": false,
     "task": false
    },
    "tags": []
   },
   "source": [
    "1. Split the dataset and do preprocessing."
   ]
  },
  {
   "cell_type": "code",
   "execution_count": 9,
   "id": "c5fa518e-36fc-4071-839f-65766fe06f67",
   "metadata": {
    "deletable": false,
    "id": "c5fa518e-36fc-4071-839f-65766fe06f67",
    "nbgrader": {
     "cell_type": "code",
     "checksum": "7f3aaa6c1bc49a791e2d944fbffa3785",
     "grade": false,
     "grade_id": "preprocess",
     "locked": false,
     "schema_version": 3,
     "solution": true,
     "task": false
    },
    "tags": []
   },
   "outputs": [],
   "source": [
    "from common_utils import split_dataset, preprocess_dataset\n",
    "import pandas as pd\n",
    "\n",
    "def preprocess(df):\n",
    "    \n",
    "    X_train, y_train, X_test, y_test = split_dataset(df,['filename','label'],0.3,1)\n",
    "    X_train_scaled, X_test_scaled = preprocess_dataset(X_train, X_test)\n",
    "\n",
    "    return X_train_scaled, y_train, X_test_scaled, y_test\n",
    "\n",
    "df = pd.read_csv('simplified.csv')\n",
    "df['label'] = df['filename'].str.split('_').str[-2]\n",
    "\n",
    "X_train_scaled, y_train, X_test_scaled, y_test = preprocess(df)"
   ]
  },
  {
   "cell_type": "code",
   "execution_count": null,
   "id": "52d2caa3-82e3-42a1-b2b2-9d7025fe9e47",
   "metadata": {
    "deletable": false,
    "editable": false,
    "id": "52d2caa3-82e3-42a1-b2b2-9d7025fe9e47",
    "nbgrader": {
     "cell_type": "code",
     "checksum": "c00bd6df39380d7a83a15f62195f2c8c",
     "grade": true,
     "grade_id": "correct_preprocess",
     "locked": true,
     "points": 1,
     "schema_version": 3,
     "solution": false,
     "task": false
    },
    "tags": []
   },
   "outputs": [],
   "source": []
  },
  {
   "attachments": {},
   "cell_type": "markdown",
   "id": "a819454c-0064-4d88-a35d-b54a3027f52f",
   "metadata": {
    "deletable": false,
    "editable": false,
    "id": "a819454c-0064-4d88-a35d-b54a3027f52f",
    "nbgrader": {
     "cell_type": "markdown",
     "checksum": "58c39624353d30c202964d96c43a724f",
     "grade": false,
     "grade_id": "a1_3",
     "locked": true,
     "schema_version": 3,
     "solution": false,
     "task": false
    },
    "tags": []
   },
   "source": [
    "#### Use the training dataset to train the model for 100 epochs. Use a mini-batch gradient descent with **‘Adam’** optimizer with learning rate of **0.001**, and **batch size = 256**. Implement early stopping with patience of **3**."
   ]
  },
  {
   "attachments": {},
   "cell_type": "markdown",
   "id": "fc79c097-e526-474a-803f-354465ac02d7",
   "metadata": {
    "deletable": false,
    "editable": false,
    "id": "fc79c097-e526-474a-803f-354465ac02d7",
    "nbgrader": {
     "cell_type": "markdown",
     "checksum": "45710c8274bd2b7689ccd170af7be67c",
     "grade": false,
     "grade_id": "a1_3_1",
     "locked": true,
     "schema_version": 3,
     "solution": false,
     "task": false
    },
    "tags": []
   },
   "source": [
    "1. Define a Pytorch Dataset and Dataloaders.  "
   ]
  },
  {
   "cell_type": "code",
   "execution_count": 10,
   "id": "578b3050-9720-432b-9ef0-c29feba29e68",
   "metadata": {
    "deletable": false,
    "id": "578b3050-9720-432b-9ef0-c29feba29e68",
    "nbgrader": {
     "cell_type": "code",
     "checksum": "808e279fafed9a2b06f06e824dc5fffe",
     "grade": false,
     "grade_id": "pytorch_dataset",
     "locked": false,
     "schema_version": 3,
     "solution": true,
     "task": false
    },
    "tags": []
   },
   "outputs": [],
   "source": [
    "class CustomDataset(Dataset):\n",
    "  def __init__(self, X, y):\n",
    "    self.X =torch.tensor(X, dtype=torch.float)\n",
    "    self.y =torch.tensor(y, dtype=torch.float).unsqueeze(1)\n",
    "    \n",
    "  def __len__(self):\n",
    "    return len(self.y)\n",
    "\n",
    "  def __getitem__(self,idx):\n",
    "    return self.X[idx], self.y[idx]\n",
    "\n",
    "\n",
    "def intialise_loaders(X_train_scaled, y_train, X_test_scaled, y_test):\n",
    "    train_data = CustomDataset(X_train_scaled, y_train)\n",
    "    test_data = CustomDataset(X_test_scaled, y_test)\n",
    "\n",
    "    train_dataloader = DataLoader(train_data, batch_size=256, shuffle=True)\n",
    "    test_dataloader = DataLoader(test_data, batch_size=256, shuffle=True)\n",
    "\n",
    "    return train_dataloader, test_dataloader\n",
    "\n",
    "train_dataloader, test_dataloader = intialise_loaders(X_train_scaled, y_train, X_test_scaled, y_test)"
   ]
  },
  {
   "cell_type": "code",
   "execution_count": null,
   "id": "ebe01c6c-7011-4990-89bc-0b3c39df05c1",
   "metadata": {
    "deletable": false,
    "editable": false,
    "id": "ebe01c6c-7011-4990-89bc-0b3c39df05c1",
    "nbgrader": {
     "cell_type": "code",
     "checksum": "29ad35220b667d0ccbddf8567df4bbe7",
     "grade": true,
     "grade_id": "correct_pytorch_dataset",
     "locked": true,
     "points": 1,
     "schema_version": 3,
     "solution": false,
     "task": false
    },
    "tags": []
   },
   "outputs": [],
   "source": []
  },
  {
   "cell_type": "code",
   "execution_count": null,
   "id": "30df1d63-bef3-47cb-926f-f32809ccb204",
   "metadata": {
    "deletable": false,
    "editable": false,
    "id": "30df1d63-bef3-47cb-926f-f32809ccb204",
    "nbgrader": {
     "cell_type": "code",
     "checksum": "c4726e1ddc39f6641b2893a082b241ab",
     "grade": true,
     "grade_id": "correct_pytorch_dataset2",
     "locked": true,
     "points": 1,
     "schema_version": 3,
     "solution": false,
     "task": false
    },
    "tags": []
   },
   "outputs": [],
   "source": []
  },
  {
   "cell_type": "code",
   "execution_count": null,
   "id": "718bf3c6-261a-400b-937c-fe092b7e0c6d",
   "metadata": {
    "deletable": false,
    "editable": false,
    "id": "718bf3c6-261a-400b-937c-fe092b7e0c6d",
    "nbgrader": {
     "cell_type": "code",
     "checksum": "20387d776dca6b012684e3a9f6df77dc",
     "grade": true,
     "grade_id": "correct_datasets_loaders",
     "locked": true,
     "points": 1,
     "schema_version": 3,
     "solution": false,
     "task": false
    },
    "tags": []
   },
   "outputs": [],
   "source": []
  },
  {
   "cell_type": "code",
   "execution_count": null,
   "id": "c50c1c87-c3ff-47b2-b051-833bca799d38",
   "metadata": {
    "deletable": false,
    "editable": false,
    "id": "c50c1c87-c3ff-47b2-b051-833bca799d38",
    "nbgrader": {
     "cell_type": "code",
     "checksum": "74ae76c28374fc22d0d54dd664be5a4d",
     "grade": true,
     "grade_id": "correct_datasets_loaders2",
     "locked": true,
     "points": 1,
     "schema_version": 3,
     "solution": false,
     "task": false
    },
    "tags": []
   },
   "outputs": [],
   "source": []
  },
  {
   "attachments": {},
   "cell_type": "markdown",
   "id": "648cceb4-adb2-4e4d-bcc5-6cb9f9e252c6",
   "metadata": {
    "deletable": false,
    "editable": false,
    "id": "648cceb4-adb2-4e4d-bcc5-6cb9f9e252c6",
    "nbgrader": {
     "cell_type": "markdown",
     "checksum": "18d61ee1922cd394e81ef773a74489eb",
     "grade": false,
     "grade_id": "a1_3_3",
     "locked": true,
     "schema_version": 3,
     "solution": false,
     "task": false
    },
    "tags": []
   },
   "source": [
    "2. Next, define the model, optimizer and loss function."
   ]
  },
  {
   "cell_type": "code",
   "execution_count": 11,
   "id": "6608f93a-891f-4bbf-b066-761b56b542df",
   "metadata": {
    "deletable": false,
    "id": "6608f93a-891f-4bbf-b066-761b56b542df",
    "nbgrader": {
     "cell_type": "code",
     "checksum": "b3b057f96943875a86bf5e3bf1cbceb6",
     "grade": false,
     "grade_id": "model_optimizer",
     "locked": false,
     "schema_version": 3,
     "solution": true,
     "task": false
    },
    "tags": []
   },
   "outputs": [],
   "source": [
    "# YOUR CODE HERE\n",
    "model = MLP(77, 128, 1)\n",
    "optimizer = torch.optim.Adam(model.parameters(), lr=0.001)\n",
    "loss_fn = nn.BCELoss()"
   ]
  },
  {
   "cell_type": "code",
   "execution_count": null,
   "id": "33a4488b-0db9-4710-a08b-508b06440e49",
   "metadata": {
    "deletable": false,
    "editable": false,
    "id": "33a4488b-0db9-4710-a08b-508b06440e49",
    "nbgrader": {
     "cell_type": "code",
     "checksum": "bdd1ad303e792ab0dda5dc0f5da7f4aa",
     "grade": true,
     "grade_id": "correct_model_optimizer",
     "locked": true,
     "points": 1,
     "schema_version": 3,
     "solution": false,
     "task": false
    },
    "tags": []
   },
   "outputs": [],
   "source": []
  },
  {
   "cell_type": "code",
   "execution_count": null,
   "id": "94b1f0fc-fefe-410f-b6bc-00340688505b",
   "metadata": {
    "deletable": false,
    "editable": false,
    "id": "94b1f0fc-fefe-410f-b6bc-00340688505b",
    "nbgrader": {
     "cell_type": "code",
     "checksum": "865e009af2828a7aa6d2503ff3c2f14e",
     "grade": true,
     "grade_id": "correct_model_optimizer2",
     "locked": true,
     "points": 1,
     "schema_version": 3,
     "solution": false,
     "task": false
    },
    "tags": []
   },
   "outputs": [],
   "source": []
  },
  {
   "cell_type": "code",
   "execution_count": null,
   "id": "0b0445ac-1139-40ac-b803-c67b3fa1d9c4",
   "metadata": {
    "deletable": false,
    "editable": false,
    "id": "0b0445ac-1139-40ac-b803-c67b3fa1d9c4",
    "nbgrader": {
     "cell_type": "code",
     "checksum": "e3e8f1ffbea729b1e38b9921031433bf",
     "grade": true,
     "grade_id": "correct_loss_fn",
     "locked": true,
     "points": 1,
     "schema_version": 3,
     "solution": false,
     "task": false
    },
    "tags": []
   },
   "outputs": [],
   "source": []
  },
  {
   "attachments": {},
   "cell_type": "markdown",
   "id": "20e178c6-bc5a-4932-9a0a-9a8ab5189c78",
   "metadata": {
    "deletable": false,
    "editable": false,
    "id": "20e178c6-bc5a-4932-9a0a-9a8ab5189c78",
    "nbgrader": {
     "cell_type": "markdown",
     "checksum": "7831e2b9dd6b053fce7ebc058a3c5574",
     "grade": false,
     "grade_id": "a1_3_5",
     "locked": true,
     "schema_version": 3,
     "solution": false,
     "task": false
    },
    "tags": []
   },
   "source": [
    "3. Train model for 100 epochs. Record down train and test accuracies. Implement early stopping."
   ]
  },
  {
   "cell_type": "code",
   "execution_count": 12,
   "id": "57924156-c046-4610-b4dd-cebeb683a6d5",
   "metadata": {
    "deletable": false,
    "id": "57924156-c046-4610-b4dd-cebeb683a6d5",
    "nbgrader": {
     "cell_type": "code",
     "checksum": "94cfe370d3e2676874c81aa42b52b1e1",
     "grade": true,
     "grade_id": "training",
     "locked": false,
     "points": 4,
     "schema_version": 3,
     "solution": true,
     "task": false
    },
    "tags": []
   },
   "outputs": [
    {
     "name": "stdout",
     "output_type": "stream",
     "text": [
      "Epoch 1\n",
      "-------------------------------\n",
      "loss: 0.696389  [  256/ 8439]\n",
      "Train Error: \n",
      " Accuracy: 54.2%, Avg loss: 0.687311 \n",
      "\n",
      "Test Error: \n",
      " Accuracy: 56.6%, Avg loss: 0.684143 \n",
      "\n",
      "Epoch 2\n",
      "-------------------------------\n",
      "loss: 0.686217  [  256/ 8439]\n",
      "Train Error: \n",
      " Accuracy: 58.9%, Avg loss: 0.670955 \n",
      "\n",
      "Test Error: \n",
      " Accuracy: 58.4%, Avg loss: 0.675280 \n",
      "\n",
      "Epoch 3\n",
      "-------------------------------\n",
      "loss: 0.646943  [  256/ 8439]\n",
      "Train Error: \n",
      " Accuracy: 60.6%, Avg loss: 0.657552 \n",
      "\n",
      "Test Error: \n",
      " Accuracy: 58.6%, Avg loss: 0.667659 \n",
      "\n",
      "Epoch 4\n",
      "-------------------------------\n",
      "loss: 0.643440  [  256/ 8439]\n",
      "Train Error: \n",
      " Accuracy: 62.3%, Avg loss: 0.643821 \n",
      "\n",
      "Test Error: \n",
      " Accuracy: 61.3%, Avg loss: 0.654700 \n",
      "\n",
      "Epoch 5\n",
      "-------------------------------\n",
      "loss: 0.605831  [  256/ 8439]\n",
      "Train Error: \n",
      " Accuracy: 64.0%, Avg loss: 0.633288 \n",
      "\n",
      "Test Error: \n",
      " Accuracy: 62.4%, Avg loss: 0.647046 \n",
      "\n",
      "Epoch 6\n",
      "-------------------------------\n",
      "loss: 0.606368  [  256/ 8439]\n",
      "Train Error: \n",
      " Accuracy: 65.8%, Avg loss: 0.614672 \n",
      "\n",
      "Test Error: \n",
      " Accuracy: 63.1%, Avg loss: 0.645949 \n",
      "\n",
      "Epoch 7\n",
      "-------------------------------\n",
      "loss: 0.573545  [  256/ 8439]\n",
      "Train Error: \n",
      " Accuracy: 66.9%, Avg loss: 0.603212 \n",
      "\n",
      "Test Error: \n",
      " Accuracy: 63.8%, Avg loss: 0.637718 \n",
      "\n",
      "Epoch 8\n",
      "-------------------------------\n",
      "loss: 0.601884  [  256/ 8439]\n",
      "Train Error: \n",
      " Accuracy: 68.3%, Avg loss: 0.591856 \n",
      "\n",
      "Test Error: \n",
      " Accuracy: 64.9%, Avg loss: 0.636261 \n",
      "\n",
      "Epoch 9\n",
      "-------------------------------\n",
      "loss: 0.605368  [  256/ 8439]\n",
      "Train Error: \n",
      " Accuracy: 68.6%, Avg loss: 0.584641 \n",
      "\n",
      "Test Error: \n",
      " Accuracy: 65.8%, Avg loss: 0.631654 \n",
      "\n",
      "Epoch 10\n",
      "-------------------------------\n",
      "loss: 0.600822  [  256/ 8439]\n",
      "Train Error: \n",
      " Accuracy: 70.3%, Avg loss: 0.569921 \n",
      "\n",
      "Test Error: \n",
      " Accuracy: 65.1%, Avg loss: 0.635312 \n",
      "\n",
      "Epoch 11\n",
      "-------------------------------\n",
      "loss: 0.592696  [  256/ 8439]\n",
      "Train Error: \n",
      " Accuracy: 71.9%, Avg loss: 0.552321 \n",
      "\n",
      "Test Error: \n",
      " Accuracy: 66.3%, Avg loss: 0.628722 \n",
      "\n",
      "Epoch 12\n",
      "-------------------------------\n",
      "loss: 0.613949  [  256/ 8439]\n",
      "Train Error: \n",
      " Accuracy: 72.1%, Avg loss: 0.545275 \n",
      "\n",
      "Test Error: \n",
      " Accuracy: 66.7%, Avg loss: 0.613297 \n",
      "\n",
      "Epoch 13\n",
      "-------------------------------\n",
      "loss: 0.511446  [  256/ 8439]\n",
      "Train Error: \n",
      " Accuracy: 73.2%, Avg loss: 0.536625 \n",
      "\n",
      "Test Error: \n",
      " Accuracy: 66.7%, Avg loss: 0.626309 \n",
      "\n",
      "Epoch 14\n",
      "-------------------------------\n",
      "loss: 0.519064  [  256/ 8439]\n",
      "Train Error: \n",
      " Accuracy: 73.7%, Avg loss: 0.521907 \n",
      "\n",
      "Test Error: \n",
      " Accuracy: 68.3%, Avg loss: 0.608270 \n",
      "\n",
      "Epoch 15\n",
      "-------------------------------\n",
      "loss: 0.475480  [  256/ 8439]\n",
      "Train Error: \n",
      " Accuracy: 75.2%, Avg loss: 0.497125 \n",
      "\n",
      "Test Error: \n",
      " Accuracy: 67.6%, Avg loss: 0.622624 \n",
      "\n",
      "Epoch 16\n",
      "-------------------------------\n",
      "loss: 0.520300  [  256/ 8439]\n",
      "Train Error: \n",
      " Accuracy: 75.6%, Avg loss: 0.494359 \n",
      "\n",
      "Test Error: \n",
      " Accuracy: 67.8%, Avg loss: 0.615163 \n",
      "\n",
      "Epoch 17\n",
      "-------------------------------\n",
      "loss: 0.452206  [  256/ 8439]\n",
      "Train Error: \n",
      " Accuracy: 76.7%, Avg loss: 0.480107 \n",
      "\n",
      "Test Error: \n",
      " Accuracy: 68.7%, Avg loss: 0.611140 \n",
      "\n",
      "Done!\n"
     ]
    }
   ],
   "source": [
    "from common_utils import EarlyStopper\n",
    "\n",
    "epochs = 100\n",
    "early_stopper = EarlyStopper(patience=3, min_delta=0)\n",
    "\n",
    "def train_loop(dataloader, model, loss_fn, optimizer):\n",
    "    size = len(dataloader.dataset)\n",
    "    num_batches = len(dataloader)\n",
    "    train_loss, correct = 0, 0\n",
    "    for batch, (X, y) in enumerate(dataloader):\n",
    "        # Compute prediction and loss\n",
    "        pred = model(X)\n",
    "        loss = loss_fn(pred, y)\n",
    "        train_loss += loss.item()\n",
    "        correct += ((pred > 0.5).type(torch.float) == y).type(torch.float).sum().item()\n",
    "\n",
    "        # Backpropagation\n",
    "        optimizer.zero_grad()\n",
    "        loss.backward()\n",
    "        optimizer.step()\n",
    "\n",
    "        if batch % 100 == 0:\n",
    "            loss, current = loss.item(), (batch + 1) * len(X)\n",
    "            print(f\"loss: {loss:>7f}  [{current:>5d}/{size:>5d}]\")\n",
    "    \n",
    "    train_loss /= num_batches\n",
    "    correct /= size\n",
    "    print(f\"Train Error: \\n Accuracy: {(correct*100):>0.1f}%, Avg loss: {train_loss:>8f} \\n\")\n",
    "    \n",
    "    return train_loss, correct\n",
    "\n",
    "def test_loop(dataloader, model, loss_fn):\n",
    "    size = len(dataloader.dataset)\n",
    "    num_batches = len(dataloader)\n",
    "    test_loss, correct = 0, 0\n",
    "\n",
    "    with torch.no_grad():\n",
    "        for X, y in dataloader:\n",
    "            pred = model(X)\n",
    "            test_loss += loss_fn(pred, y).item()\n",
    "            correct += ((pred > 0.5).type(torch.float) == y).type(torch.float).sum().item()\n",
    "\n",
    "    test_loss /= num_batches\n",
    "    correct /= size\n",
    "    print(f\"Test Error: \\n Accuracy: {(100*correct):>0.1f}%, Avg loss: {test_loss:>8f} \\n\")\n",
    "    \n",
    "    return test_loss, correct\n",
    "\n",
    "train_loss, test_loss = [], []\n",
    "train_acc, test_acc = [], []\n",
    "\n",
    "for t in range(epochs):\n",
    "    print(f\"Epoch {t+1}\\n-------------------------------\")\n",
    "    tr_loss, acc = train_loop(train_dataloader, model, loss_fn, optimizer)\n",
    "    train_loss.append(tr_loss), train_acc.append(acc)\n",
    "    \n",
    "    te_loss, acc = test_loop(test_dataloader, model, loss_fn)\n",
    "    test_loss.append(te_loss), test_acc.append(acc)\n",
    "\n",
    "    if early_stopper.early_stop(te_loss): \n",
    "        print(\"Done!\")\n",
    "        break\n"
   ]
  },
  {
   "attachments": {},
   "cell_type": "markdown",
   "id": "5deafd80-4525-4bff-8a5f-dfee0bfede04",
   "metadata": {
    "deletable": false,
    "editable": false,
    "id": "5deafd80-4525-4bff-8a5f-dfee0bfede04",
    "nbgrader": {
     "cell_type": "markdown",
     "checksum": "4f0d29724a79a38566c9153287e31469",
     "grade": false,
     "grade_id": "a1_4",
     "locked": true,
     "schema_version": 3,
     "solution": false,
     "task": false
    },
    "tags": []
   },
   "source": [
    "#### Plot train and test accuracies and losses on training and test data against training epochs and comment on the line plots.\n"
   ]
  },
  {
   "cell_type": "code",
   "execution_count": 13,
   "id": "1d41967f",
   "metadata": {},
   "outputs": [
    {
     "data": {
      "image/png": "[encoded data removed]",
      "text/plain": [
       "<Figure size 1000x800 with 1 Axes>"
      ]
     },
     "metadata": {},
     "output_type": "display_data"
    }
   ],
   "source": [
    "import matplotlib.pyplot as plt\n",
    "\n",
    "fig = plt.figure(figsize=(10,8))\n",
    "plt.plot(range(1,len(train_loss)+1),train_loss, label='Training Loss')\n",
    "plt.plot(range(1,len(test_loss)+1),test_loss,label='Test Loss')\n",
    "\n",
    "plt.plot(range(1,len(train_acc)+1),train_acc, label='Training Accuracy')\n",
    "plt.plot(range(1,len(test_acc)+1),test_acc,label='Test Accuracy')\n",
    "\n",
    "# find position of lowest validation loss\n",
    "minposs = test_loss.index(min(test_loss))+1 \n",
    "plt.axvline(minposs, linestyle='--', color='r',label='Early Stopping Checkpoint')\n",
    "\n",
    "plt.title('Training and Test Loss / Accuracy')\n",
    "plt.xlabel('epochs')\n",
    "plt.ylabel('loss/accuracy')\n",
    "plt.grid(True)\n",
    "plt.legend()\n",
    "plt.tight_layout()\n",
    "plt.show()\n",
    "\n",
    "\n",
    "# plt.figure(figsize=(12,8))\n",
    "# plt.plot(train_loss, label='Train Loss')    \n",
    "# plt.plot(test_loss, label='Test Loss')\n",
    "# plt.plot(train_acc, label='Train Accuracy')\n",
    "# plt.plot(test_acc, label='Test Accuracy')\n",
    "\n",
    "# plt.title('Training and Test Loss / Accuracy')\n",
    "# plt.xlabel('Epochs')\n",
    "# plt.ylabel('Loss / Accuracy')\n",
    "\n",
    "# plt.legend()\n",
    "# plt.show()"
   ]
  },
  {
   "attachments": {},
   "cell_type": "markdown",
   "id": "3307014b-6a6c-406e-a139-94acc919f5f4",
   "metadata": {
    "deletable": false,
    "editable": false,
    "id": "3307014b-6a6c-406e-a139-94acc919f5f4",
    "nbgrader": {
     "cell_type": "markdown",
     "checksum": "0973f053aaa2d1bde7a2261c1d8cd9c4",
     "grade": false,
     "grade_id": "a1_4_2",
     "locked": true,
     "schema_version": 3,
     "solution": false,
     "task": false
    },
    "tags": []
   },
   "source": [
    "2. Comment on line plots."
   ]
  },
  {
   "cell_type": "code",
   "execution_count": 14,
   "id": "b71af7e2-6ed7-4457-940a-df915d349ee0",
   "metadata": {
    "deletable": false,
    "id": "b71af7e2-6ed7-4457-940a-df915d349ee0",
    "nbgrader": {
     "cell_type": "code",
     "checksum": "d2a6f6433369930987c9e7342cb667b0",
     "grade": false,
     "grade_id": "comment_plots",
     "locked": false,
     "schema_version": 3,
     "solution": true,
     "task": false
    },
    "tags": []
   },
   "outputs": [],
   "source": [
    "# YOUR CODE HERE\n",
    "answer = \"\""
   ]
  },
  {
   "cell_type": "code",
   "execution_count": null,
   "id": "6219db24-33e9-4fbc-880c-218cd7503482",
   "metadata": {
    "deletable": false,
    "editable": false,
    "id": "6219db24-33e9-4fbc-880c-218cd7503482",
    "nbgrader": {
     "cell_type": "code",
     "checksum": "309410e29156bb4709bef54f79a15acc",
     "grade": true,
     "grade_id": "correct_comment_plots",
     "locked": true,
     "points": 1,
     "schema_version": 3,
     "solution": false,
     "task": false
    },
    "tags": []
   },
   "outputs": [],
   "source": []
  }
 ],
 "metadata": {
  "colab": {
   "provenance": []
  },
  "kernelspec": {
   "display_name": "Python 3 (ipykernel)",
   "language": "python",
   "name": "python3"
  },
  "language_info": {
   "codemirror_mode": {
    "name": "ipython",
    "version": 3
   },
   "file_extension": ".py",
   "mimetype": "text/x-python",
   "name": "python",
   "nbconvert_exporter": "python",
   "pygments_lexer": "ipython3",
   "version": "3.11.3"
  }
 },
 "nbformat": 4,
 "nbformat_minor": 5
}
