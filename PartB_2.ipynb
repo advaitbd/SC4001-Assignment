{
 "cells": [
  {
   "attachments": {},
   "cell_type": "markdown",
   "metadata": {
    "id": "NFVxWZGJxprU"
   },
   "source": [
    "# CS4001/4042 Assignment 1, Part B, Q2\n",
    "In Question B1, we used the Category Embedding model. This creates a feedforward neural network in which the categorical features get learnable embeddings. In this question, we will make use of a library called Pytorch-WideDeep. This library makes it easy to work with multimodal deep-learning problems combining images, text, and tables. We will just be utilizing the deeptabular component of this library through the TabMlp network:"
   ]
  },
  {
   "cell_type": "code",
   "execution_count": 32,
   "metadata": {
    "id": "EycCozG06Duu"
   },
   "outputs": [
    {
     "name": "stdout",
     "output_type": "stream",
     "text": [
      "Requirement already satisfied: pytorch-widedeep in ./env/lib/python3.9/site-packages (1.3.2)\n",
      "Requirement already satisfied: gensim in ./env/lib/python3.9/site-packages (from pytorch-widedeep) (4.3.2)\n",
      "Requirement already satisfied: torchmetrics in ./env/lib/python3.9/site-packages (from pytorch-widedeep) (0.11.4)\n",
      "Requirement already satisfied: imutils in ./env/lib/python3.9/site-packages (from pytorch-widedeep) (0.5.4)\n",
      "Requirement already satisfied: opencv-contrib-python in ./env/lib/python3.9/site-packages (from pytorch-widedeep) (4.8.1.78)\n",
      "Requirement already satisfied: tqdm in ./env/lib/python3.9/site-packages (from pytorch-widedeep) (4.66.1)\n",
      "Requirement already satisfied: spacy in ./env/lib/python3.9/site-packages (from pytorch-widedeep) (3.7.1)\n",
      "Requirement already satisfied: wrapt in ./env/lib/python3.9/site-packages (from pytorch-widedeep) (1.15.0)\n",
      "Requirement already satisfied: einops in ./env/lib/python3.9/site-packages (from pytorch-widedeep) (0.6.1)\n",
      "Requirement already satisfied: pandas>=1.3.5 in ./env/lib/python3.9/site-packages (from pytorch-widedeep) (2.1.1)\n",
      "Requirement already satisfied: numpy>=1.21.6 in ./env/lib/python3.9/site-packages (from pytorch-widedeep) (1.26.0)\n",
      "Requirement already satisfied: pyarrow in ./env/lib/python3.9/site-packages (from pytorch-widedeep) (13.0.0)\n",
      "Requirement already satisfied: torch in ./env/lib/python3.9/site-packages (from pytorch-widedeep) (2.1.0)\n",
      "Requirement already satisfied: fastparquet>=0.8.1 in ./env/lib/python3.9/site-packages (from pytorch-widedeep) (2023.8.0)\n",
      "Requirement already satisfied: torchvision in ./env/lib/python3.9/site-packages (from pytorch-widedeep) (0.16.0)\n",
      "Requirement already satisfied: scikit-learn>=1.0.2 in ./env/lib/python3.9/site-packages (from pytorch-widedeep) (1.3.1)\n",
      "Requirement already satisfied: scipy>=1.7.3 in ./env/lib/python3.9/site-packages (from pytorch-widedeep) (1.11.3)\n",
      "Requirement already satisfied: packaging in ./env/lib/python3.9/site-packages (from fastparquet>=0.8.1->pytorch-widedeep) (23.2)\n",
      "Requirement already satisfied: fsspec in ./env/lib/python3.9/site-packages (from fastparquet>=0.8.1->pytorch-widedeep) (2023.9.2)\n",
      "Requirement already satisfied: cramjam>=2.3 in ./env/lib/python3.9/site-packages (from fastparquet>=0.8.1->pytorch-widedeep) (2.7.0)\n",
      "Requirement already satisfied: tzdata>=2022.1 in ./env/lib/python3.9/site-packages (from pandas>=1.3.5->pytorch-widedeep) (2023.3)\n",
      "Requirement already satisfied: python-dateutil>=2.8.2 in ./env/lib/python3.9/site-packages (from pandas>=1.3.5->pytorch-widedeep) (2.8.2)\n",
      "Requirement already satisfied: pytz>=2020.1 in ./env/lib/python3.9/site-packages (from pandas>=1.3.5->pytorch-widedeep) (2023.3.post1)\n",
      "Requirement already satisfied: six>=1.5 in ./env/lib/python3.9/site-packages (from python-dateutil>=2.8.2->pandas>=1.3.5->pytorch-widedeep) (1.16.0)\n",
      "Requirement already satisfied: threadpoolctl>=2.0.0 in ./env/lib/python3.9/site-packages (from scikit-learn>=1.0.2->pytorch-widedeep) (3.2.0)\n",
      "Requirement already satisfied: joblib>=1.1.1 in ./env/lib/python3.9/site-packages (from scikit-learn>=1.0.2->pytorch-widedeep) (1.3.2)\n",
      "Requirement already satisfied: smart-open>=1.8.1 in ./env/lib/python3.9/site-packages (from gensim->pytorch-widedeep) (6.4.0)\n",
      "Requirement already satisfied: jinja2 in ./env/lib/python3.9/site-packages (from spacy->pytorch-widedeep) (3.1.2)\n",
      "Requirement already satisfied: spacy-loggers<2.0.0,>=1.0.0 in ./env/lib/python3.9/site-packages (from spacy->pytorch-widedeep) (1.0.5)\n",
      "Requirement already satisfied: thinc<8.3.0,>=8.1.8 in ./env/lib/python3.9/site-packages (from spacy->pytorch-widedeep) (8.2.1)\n",
      "Requirement already satisfied: langcodes<4.0.0,>=3.2.0 in ./env/lib/python3.9/site-packages (from spacy->pytorch-widedeep) (3.3.0)\n",
      "Requirement already satisfied: srsly<3.0.0,>=2.4.3 in ./env/lib/python3.9/site-packages (from spacy->pytorch-widedeep) (2.4.8)\n",
      "Requirement already satisfied: pydantic!=1.8,!=1.8.1,<3.0.0,>=1.7.4 in ./env/lib/python3.9/site-packages (from spacy->pytorch-widedeep) (2.4.2)\n",
      "Requirement already satisfied: typer<0.10.0,>=0.3.0 in ./env/lib/python3.9/site-packages (from spacy->pytorch-widedeep) (0.9.0)\n",
      "Requirement already satisfied: preshed<3.1.0,>=3.0.2 in ./env/lib/python3.9/site-packages (from spacy->pytorch-widedeep) (3.0.9)\n",
      "Requirement already satisfied: catalogue<2.1.0,>=2.0.6 in ./env/lib/python3.9/site-packages (from spacy->pytorch-widedeep) (2.0.10)\n",
      "Requirement already satisfied: pathy>=0.10.0 in ./env/lib/python3.9/site-packages (from spacy->pytorch-widedeep) (0.10.2)\n",
      "Requirement already satisfied: setuptools in ./env/lib/python3.9/site-packages (from spacy->pytorch-widedeep) (57.4.0)\n",
      "Requirement already satisfied: requests<3.0.0,>=2.13.0 in ./env/lib/python3.9/site-packages (from spacy->pytorch-widedeep) (2.31.0)\n",
      "Requirement already satisfied: cymem<2.1.0,>=2.0.2 in ./env/lib/python3.9/site-packages (from spacy->pytorch-widedeep) (2.0.8)\n",
      "Requirement already satisfied: weasel<0.4.0,>=0.1.0 in ./env/lib/python3.9/site-packages (from spacy->pytorch-widedeep) (0.3.2)\n",
      "Requirement already satisfied: murmurhash<1.1.0,>=0.28.0 in ./env/lib/python3.9/site-packages (from spacy->pytorch-widedeep) (1.0.10)\n",
      "Requirement already satisfied: spacy-legacy<3.1.0,>=3.0.11 in ./env/lib/python3.9/site-packages (from spacy->pytorch-widedeep) (3.0.12)\n",
      "Requirement already satisfied: wasabi<1.2.0,>=0.9.1 in ./env/lib/python3.9/site-packages (from spacy->pytorch-widedeep) (1.1.2)\n",
      "Requirement already satisfied: pydantic-core==2.10.1 in ./env/lib/python3.9/site-packages (from pydantic!=1.8,!=1.8.1,<3.0.0,>=1.7.4->spacy->pytorch-widedeep) (2.10.1)\n",
      "Requirement already satisfied: annotated-types>=0.4.0 in ./env/lib/python3.9/site-packages (from pydantic!=1.8,!=1.8.1,<3.0.0,>=1.7.4->spacy->pytorch-widedeep) (0.6.0)\n",
      "Requirement already satisfied: typing-extensions>=4.6.1 in ./env/lib/python3.9/site-packages (from pydantic!=1.8,!=1.8.1,<3.0.0,>=1.7.4->spacy->pytorch-widedeep) (4.8.0)\n",
      "Requirement already satisfied: urllib3<3,>=1.21.1 in ./env/lib/python3.9/site-packages (from requests<3.0.0,>=2.13.0->spacy->pytorch-widedeep) (2.0.6)\n",
      "Requirement already satisfied: certifi>=2017.4.17 in ./env/lib/python3.9/site-packages (from requests<3.0.0,>=2.13.0->spacy->pytorch-widedeep) (2023.7.22)\n",
      "Requirement already satisfied: idna<4,>=2.5 in ./env/lib/python3.9/site-packages (from requests<3.0.0,>=2.13.0->spacy->pytorch-widedeep) (3.4)\n",
      "Requirement already satisfied: charset-normalizer<4,>=2 in ./env/lib/python3.9/site-packages (from requests<3.0.0,>=2.13.0->spacy->pytorch-widedeep) (3.3.0)\n",
      "Requirement already satisfied: confection<1.0.0,>=0.0.1 in ./env/lib/python3.9/site-packages (from thinc<8.3.0,>=8.1.8->spacy->pytorch-widedeep) (0.1.3)\n",
      "Requirement already satisfied: blis<0.8.0,>=0.7.8 in ./env/lib/python3.9/site-packages (from thinc<8.3.0,>=8.1.8->spacy->pytorch-widedeep) (0.7.11)\n",
      "Requirement already satisfied: click<9.0.0,>=7.1.1 in ./env/lib/python3.9/site-packages (from typer<0.10.0,>=0.3.0->spacy->pytorch-widedeep) (8.1.7)\n",
      "Requirement already satisfied: cloudpathlib<0.16.0,>=0.7.0 in ./env/lib/python3.9/site-packages (from weasel<0.4.0,>=0.1.0->spacy->pytorch-widedeep) (0.15.1)\n",
      "Requirement already satisfied: MarkupSafe>=2.0 in ./env/lib/python3.9/site-packages (from jinja2->spacy->pytorch-widedeep) (2.1.3)\n",
      "Requirement already satisfied: filelock in ./env/lib/python3.9/site-packages (from torch->pytorch-widedeep) (3.12.4)\n",
      "Requirement already satisfied: sympy in ./env/lib/python3.9/site-packages (from torch->pytorch-widedeep) (1.12)\n",
      "Requirement already satisfied: networkx in ./env/lib/python3.9/site-packages (from torch->pytorch-widedeep) (3.1)\n",
      "Requirement already satisfied: mpmath>=0.19 in ./env/lib/python3.9/site-packages (from sympy->torch->pytorch-widedeep) (1.3.0)\n",
      "Requirement already satisfied: pillow!=8.3.*,>=5.3.0 in ./env/lib/python3.9/site-packages (from torchvision->pytorch-widedeep) (10.0.1)\n",
      "\u001b[33mWARNING: You are using pip version 21.2.3; however, version 23.2.1 is available.\n",
      "You should consider upgrading via the '/Users/advait/Desktop/gitpositories/SC4001-Assignment/env/bin/python -m pip install --upgrade pip' command.\u001b[0m\n"
     ]
    }
   ],
   "source": [
    "!pip install pytorch-widedeep"
   ]
  },
  {
   "cell_type": "code",
   "execution_count": 33,
   "metadata": {
    "id": "lq0elU0J53Yo"
   },
   "outputs": [],
   "source": [
    "SEED = 42\n",
    "\n",
    "import os\n",
    "\n",
    "import random\n",
    "random.seed(SEED)\n",
    "\n",
    "import numpy as np\n",
    "np.random.seed(SEED)\n",
    "\n",
    "import pandas as pd\n",
    "\n",
    "from pytorch_widedeep.preprocessing import TabPreprocessor\n",
    "from pytorch_widedeep.models import TabMlp, WideDeep\n",
    "from pytorch_widedeep import Trainer\n",
    "from pytorch_widedeep.metrics import R2Score"
   ]
  },
  {
   "attachments": {},
   "cell_type": "markdown",
   "metadata": {
    "id": "aU3xdVpwzuLx"
   },
   "source": [
    ">Divide the dataset (‘hdb_price_prediction.csv’) into train and test sets by using entries from the year 2020 and before as training data, and entries from 2021 and after as the test data."
   ]
  },
  {
   "cell_type": "code",
   "execution_count": 34,
   "metadata": {
    "id": "_oYG6lNIh7Mp"
   },
   "outputs": [],
   "source": [
    "df = pd.read_csv('hdb_price_prediction.csv')\n",
    "\n",
    "# TODO: Enter your code here\n",
    "train_data = df[df['year'] <= 2020]\n",
    "test_data = df[df['year'] >= 2021]"
   ]
  },
  {
   "attachments": {},
   "cell_type": "markdown",
   "metadata": {
    "id": "m_q9PoR50JAA"
   },
   "source": [
    ">Refer to the documentation of Pytorch-WideDeep and perform the following tasks:\n",
    "https://pytorch-widedeep.readthedocs.io/en/latest/index.html\n",
    "* Use [**TabPreprocessor**](https://pytorch-widedeep.readthedocs.io/en/latest/examples/01_preprocessors_and_utils.html#2-tabpreprocessor) to create the deeptabular component using the continuous\n",
    "features and the categorical features. Use this component to transform the training dataset.\n",
    "* Create the [**TabMlp**](https://pytorch-widedeep.readthedocs.io/en/latest/pytorch-widedeep/model_components.html#pytorch_widedeep.models.tabular.mlp.tab_mlp.TabMlp) model with 2 linear layers in the MLP, with 200 and 100 neurons respectively.\n",
    "* Create a [**Trainer**](https://pytorch-widedeep.readthedocs.io/en/latest/pytorch-widedeep/trainer.html#pytorch_widedeep.training.Trainer) for the training of the created TabMlp model with the root mean squared error (RMSE) cost function. Train the model for 100 epochs using this trainer, keeping a batch size of 64. (Note: set the *num_workers* parameter to 0.)"
   ]
  },
  {
   "cell_type": "code",
   "execution_count": 35,
   "metadata": {
    "id": "ZBY1iqUXtYWn"
   },
   "outputs": [
    {
     "name": "stderr",
     "output_type": "stream",
     "text": [
      "/Users/advait/Desktop/gitpositories/SC4001-Assignment/env/lib/python3.9/site-packages/pytorch_widedeep/preprocessing/tab_preprocessor.py:334: UserWarning: Continuous columns will not be normalised\n",
      "  warnings.warn(\"Continuous columns will not be normalised\")\n",
      "epoch 1: 100%|██████████| 1366/1366 [00:10<00:00, 133.75it/s, loss=2.29e+5, metrics={'r2': -2.1717}]\n",
      "epoch 2: 100%|██████████| 1366/1366 [00:09<00:00, 143.00it/s, loss=9.99e+4, metrics={'r2': 0.5274}]\n",
      "epoch 3: 100%|██████████| 1366/1366 [00:10<00:00, 130.76it/s, loss=8.49e+4, metrics={'r2': 0.6711}]\n",
      "epoch 4: 100%|██████████| 1366/1366 [00:10<00:00, 130.62it/s, loss=7.94e+4, metrics={'r2': 0.7173}]\n",
      "epoch 5: 100%|██████████| 1366/1366 [00:09<00:00, 142.62it/s, loss=7.59e+4, metrics={'r2': 0.743}] \n",
      "epoch 6: 100%|██████████| 1366/1366 [00:09<00:00, 142.15it/s, loss=7.35e+4, metrics={'r2': 0.7603}]\n",
      "epoch 7: 100%|██████████| 1366/1366 [00:09<00:00, 140.27it/s, loss=7.17e+4, metrics={'r2': 0.7718}]\n",
      "epoch 8: 100%|██████████| 1366/1366 [00:10<00:00, 132.95it/s, loss=7.02e+4, metrics={'r2': 0.7821}]\n",
      "epoch 9: 100%|██████████| 1366/1366 [00:10<00:00, 136.07it/s, loss=6.94e+4, metrics={'r2': 0.7861}]\n",
      "epoch 10: 100%|██████████| 1366/1366 [00:10<00:00, 133.71it/s, loss=6.85e+4, metrics={'r2': 0.7914}]\n",
      "epoch 11: 100%|██████████| 1366/1366 [00:10<00:00, 129.83it/s, loss=6.77e+4, metrics={'r2': 0.796}] \n",
      "epoch 12: 100%|██████████| 1366/1366 [00:09<00:00, 139.78it/s, loss=6.72e+4, metrics={'r2': 0.7988}]\n",
      "epoch 13: 100%|██████████| 1366/1366 [00:10<00:00, 135.49it/s, loss=6.67e+4, metrics={'r2': 0.802}] \n",
      "epoch 14: 100%|██████████| 1366/1366 [00:10<00:00, 134.05it/s, loss=6.65e+4, metrics={'r2': 0.8028}]\n",
      "epoch 15: 100%|██████████| 1366/1366 [00:09<00:00, 139.52it/s, loss=6.59e+4, metrics={'r2': 0.8064}]\n",
      "epoch 16: 100%|██████████| 1366/1366 [00:09<00:00, 142.54it/s, loss=6.57e+4, metrics={'r2': 0.8072}]\n",
      "epoch 17: 100%|██████████| 1366/1366 [00:09<00:00, 139.89it/s, loss=6.53e+4, metrics={'r2': 0.8093}]\n",
      "epoch 18: 100%|██████████| 1366/1366 [00:11<00:00, 120.54it/s, loss=6.5e+4, metrics={'r2': 0.8112}] \n",
      "epoch 19: 100%|██████████| 1366/1366 [00:10<00:00, 129.32it/s, loss=6.47e+4, metrics={'r2': 0.8131}]\n",
      "epoch 20: 100%|██████████| 1366/1366 [00:10<00:00, 129.59it/s, loss=6.44e+4, metrics={'r2': 0.8144}]\n",
      "epoch 21: 100%|██████████| 1366/1366 [00:10<00:00, 127.67it/s, loss=6.41e+4, metrics={'r2': 0.8164}]\n",
      "epoch 22: 100%|██████████| 1366/1366 [00:09<00:00, 141.02it/s, loss=6.39e+4, metrics={'r2': 0.8166}]\n",
      "epoch 23: 100%|██████████| 1366/1366 [00:10<00:00, 128.22it/s, loss=6.37e+4, metrics={'r2': 0.818}] \n",
      "epoch 24: 100%|██████████| 1366/1366 [00:12<00:00, 111.03it/s, loss=6.34e+4, metrics={'r2': 0.8196}]\n",
      "epoch 25: 100%|██████████| 1366/1366 [00:12<00:00, 106.86it/s, loss=6.35e+4, metrics={'r2': 0.8193}]\n",
      "epoch 26: 100%|██████████| 1366/1366 [00:12<00:00, 113.75it/s, loss=6.3e+4, metrics={'r2': 0.8216}] \n",
      "epoch 27: 100%|██████████| 1366/1366 [00:11<00:00, 116.32it/s, loss=6.3e+4, metrics={'r2': 0.8218}] \n",
      "epoch 28: 100%|██████████| 1366/1366 [00:11<00:00, 113.89it/s, loss=6.28e+4, metrics={'r2': 0.8228}]\n",
      "epoch 29: 100%|██████████| 1366/1366 [00:11<00:00, 115.34it/s, loss=6.26e+4, metrics={'r2': 0.8233}]\n",
      "epoch 30: 100%|██████████| 1366/1366 [00:10<00:00, 125.21it/s, loss=6.27e+4, metrics={'r2': 0.8228}]\n",
      "epoch 31: 100%|██████████| 1366/1366 [00:11<00:00, 118.08it/s, loss=6.21e+4, metrics={'r2': 0.8263}]\n",
      "epoch 32: 100%|██████████| 1366/1366 [00:10<00:00, 127.96it/s, loss=6.2e+4, metrics={'r2': 0.827}]  \n",
      "epoch 33: 100%|██████████| 1366/1366 [00:10<00:00, 129.90it/s, loss=6.18e+4, metrics={'r2': 0.828}] \n",
      "epoch 34: 100%|██████████| 1366/1366 [00:11<00:00, 120.07it/s, loss=6.15e+4, metrics={'r2': 0.8293}]\n",
      "epoch 35: 100%|██████████| 1366/1366 [00:11<00:00, 124.09it/s, loss=6.17e+4, metrics={'r2': 0.828}] \n",
      "epoch 36: 100%|██████████| 1366/1366 [00:11<00:00, 116.66it/s, loss=6.16e+4, metrics={'r2': 0.8288}]\n",
      "epoch 37: 100%|██████████| 1366/1366 [00:13<00:00, 101.60it/s, loss=6.13e+4, metrics={'r2': 0.8302}]\n",
      "epoch 38: 100%|██████████| 1366/1366 [00:12<00:00, 112.43it/s, loss=6.11e+4, metrics={'r2': 0.8315}]\n",
      "epoch 39: 100%|██████████| 1366/1366 [00:11<00:00, 116.37it/s, loss=6.1e+4, metrics={'r2': 0.8316}] \n",
      "epoch 40: 100%|██████████| 1366/1366 [00:13<00:00, 103.39it/s, loss=6.08e+4, metrics={'r2': 0.8325}]\n",
      "epoch 41: 100%|██████████| 1366/1366 [00:11<00:00, 113.94it/s, loss=6.08e+4, metrics={'r2': 0.8327}]\n",
      "epoch 42: 100%|██████████| 1366/1366 [00:12<00:00, 108.81it/s, loss=6.04e+4, metrics={'r2': 0.8345}]\n",
      "epoch 43: 100%|██████████| 1366/1366 [00:11<00:00, 114.95it/s, loss=6.02e+4, metrics={'r2': 0.8354}]\n",
      "epoch 44: 100%|██████████| 1366/1366 [00:11<00:00, 121.79it/s, loss=5.99e+4, metrics={'r2': 0.8371}]\n",
      "epoch 45: 100%|██████████| 1366/1366 [00:11<00:00, 114.34it/s, loss=5.99e+4, metrics={'r2': 0.8373}]\n",
      "epoch 46: 100%|██████████| 1366/1366 [00:12<00:00, 109.65it/s, loss=5.97e+4, metrics={'r2': 0.838}] \n",
      "epoch 47: 100%|██████████| 1366/1366 [00:11<00:00, 118.91it/s, loss=5.99e+4, metrics={'r2': 0.837}] \n",
      "epoch 48: 100%|██████████| 1366/1366 [00:12<00:00, 110.13it/s, loss=5.95e+4, metrics={'r2': 0.839}] \n",
      "epoch 49: 100%|██████████| 1366/1366 [00:12<00:00, 110.92it/s, loss=5.95e+4, metrics={'r2': 0.8396}]\n",
      "epoch 50: 100%|██████████| 1366/1366 [00:11<00:00, 116.72it/s, loss=5.93e+4, metrics={'r2': 0.84}]  \n",
      "epoch 51: 100%|██████████| 1366/1366 [00:12<00:00, 110.62it/s, loss=5.91e+4, metrics={'r2': 0.8416}]\n",
      "epoch 52: 100%|██████████| 1366/1366 [00:11<00:00, 114.57it/s, loss=5.9e+4, metrics={'r2': 0.8416}] \n",
      "epoch 53: 100%|██████████| 1366/1366 [00:11<00:00, 115.47it/s, loss=5.88e+4, metrics={'r2': 0.8425}]\n",
      "epoch 54: 100%|██████████| 1366/1366 [00:11<00:00, 118.62it/s, loss=5.87e+4, metrics={'r2': 0.843}] \n",
      "epoch 55: 100%|██████████| 1366/1366 [00:13<00:00, 101.99it/s, loss=5.86e+4, metrics={'r2': 0.8437}]\n",
      "epoch 56: 100%|██████████| 1366/1366 [00:13<00:00, 99.37it/s, loss=5.83e+4, metrics={'r2': 0.8453}] \n",
      "epoch 57: 100%|██████████| 1366/1366 [00:12<00:00, 105.31it/s, loss=5.82e+4, metrics={'r2': 0.8458}]\n",
      "epoch 58: 100%|██████████| 1366/1366 [00:14<00:00, 94.05it/s, loss=5.79e+4, metrics={'r2': 0.8475}] \n",
      "epoch 59: 100%|██████████| 1366/1366 [00:13<00:00, 98.00it/s, loss=5.73e+4, metrics={'r2': 0.8508}] \n",
      "epoch 60: 100%|██████████| 1366/1366 [00:13<00:00, 103.18it/s, loss=5.66e+4, metrics={'r2': 0.8543}]\n",
      "epoch 61: 100%|██████████| 1366/1366 [00:13<00:00, 99.17it/s, loss=5.64e+4, metrics={'r2': 0.8553}] \n",
      "epoch 62: 100%|██████████| 1366/1366 [00:14<00:00, 94.72it/s, loss=5.54e+4, metrics={'r2': 0.8604}] \n",
      "epoch 63: 100%|██████████| 1366/1366 [00:13<00:00, 99.87it/s, loss=5.47e+4, metrics={'r2': 0.864}]  \n",
      "epoch 64: 100%|██████████| 1366/1366 [00:14<00:00, 96.24it/s, loss=5.41e+4, metrics={'r2': 0.8672}] \n",
      "epoch 65: 100%|██████████| 1366/1366 [00:12<00:00, 111.20it/s, loss=5.34e+4, metrics={'r2': 0.8706}]\n",
      "epoch 66: 100%|██████████| 1366/1366 [00:12<00:00, 112.04it/s, loss=5.31e+4, metrics={'r2': 0.8719}]\n",
      "epoch 67: 100%|██████████| 1366/1366 [00:13<00:00, 104.18it/s, loss=5.27e+4, metrics={'r2': 0.8737}]\n",
      "epoch 68: 100%|██████████| 1366/1366 [00:12<00:00, 108.36it/s, loss=5.22e+4, metrics={'r2': 0.8761}]\n",
      "epoch 69: 100%|██████████| 1366/1366 [00:14<00:00, 97.48it/s, loss=5.23e+4, metrics={'r2': 0.8759}] \n",
      "epoch 70: 100%|██████████| 1366/1366 [00:12<00:00, 106.52it/s, loss=5.2e+4, metrics={'r2': 0.877}]  \n",
      "epoch 71: 100%|██████████| 1366/1366 [00:13<00:00, 100.49it/s, loss=5.18e+4, metrics={'r2': 0.878}] \n",
      "epoch 72: 100%|██████████| 1366/1366 [00:12<00:00, 107.25it/s, loss=5.16e+4, metrics={'r2': 0.8789}]\n",
      "epoch 73: 100%|██████████| 1366/1366 [00:12<00:00, 106.77it/s, loss=5.16e+4, metrics={'r2': 0.8791}]\n",
      "epoch 74: 100%|██████████| 1366/1366 [00:13<00:00, 104.59it/s, loss=5.14e+4, metrics={'r2': 0.8797}]\n",
      "epoch 75: 100%|██████████| 1366/1366 [00:13<00:00, 103.30it/s, loss=5.13e+4, metrics={'r2': 0.88}]  \n",
      "epoch 76: 100%|██████████| 1366/1366 [00:13<00:00, 100.11it/s, loss=5.12e+4, metrics={'r2': 0.8808}]\n",
      "epoch 77: 100%|██████████| 1366/1366 [00:13<00:00, 104.71it/s, loss=5.11e+4, metrics={'r2': 0.8807}]\n",
      "epoch 78: 100%|██████████| 1366/1366 [00:12<00:00, 109.54it/s, loss=5.09e+4, metrics={'r2': 0.8821}]\n",
      "epoch 79: 100%|██████████| 1366/1366 [00:12<00:00, 105.55it/s, loss=5.08e+4, metrics={'r2': 0.8824}]\n",
      "epoch 80: 100%|██████████| 1366/1366 [00:13<00:00, 104.27it/s, loss=5.07e+4, metrics={'r2': 0.8829}]\n",
      "epoch 81: 100%|██████████| 1366/1366 [00:12<00:00, 110.78it/s, loss=5.06e+4, metrics={'r2': 0.8837}]\n",
      "epoch 82: 100%|██████████| 1366/1366 [00:12<00:00, 107.50it/s, loss=5.06e+4, metrics={'r2': 0.8835}]\n",
      "epoch 83: 100%|██████████| 1366/1366 [00:12<00:00, 109.06it/s, loss=5.06e+4, metrics={'r2': 0.8831}]\n",
      "epoch 84: 100%|██████████| 1366/1366 [00:13<00:00, 101.57it/s, loss=5.04e+4, metrics={'r2': 0.8847}]\n",
      "epoch 85: 100%|██████████| 1366/1366 [00:14<00:00, 93.89it/s, loss=5.04e+4, metrics={'r2': 0.8843}] \n",
      "epoch 86: 100%|██████████| 1366/1366 [00:13<00:00, 104.97it/s, loss=5.02e+4, metrics={'r2': 0.8851}]\n",
      "epoch 87: 100%|██████████| 1366/1366 [00:13<00:00, 104.30it/s, loss=5.03e+4, metrics={'r2': 0.8852}]\n",
      "epoch 88: 100%|██████████| 1366/1366 [00:13<00:00, 102.10it/s, loss=5.02e+4, metrics={'r2': 0.8853}]\n",
      "epoch 89: 100%|██████████| 1366/1366 [00:13<00:00, 100.07it/s, loss=5.02e+4, metrics={'r2': 0.8855}]\n",
      "epoch 90: 100%|██████████| 1366/1366 [00:13<00:00, 103.55it/s, loss=5.03e+4, metrics={'r2': 0.8849}]\n",
      "epoch 91: 100%|██████████| 1366/1366 [00:13<00:00, 100.74it/s, loss=4.99e+4, metrics={'r2': 0.8867}]\n",
      "epoch 92: 100%|██████████| 1366/1366 [00:13<00:00, 100.50it/s, loss=4.98e+4, metrics={'r2': 0.8867}]\n",
      "epoch 93: 100%|██████████| 1366/1366 [00:14<00:00, 91.58it/s, loss=4.98e+4, metrics={'r2': 0.8871}] \n",
      "epoch 94: 100%|██████████| 1366/1366 [00:13<00:00, 98.98it/s, loss=4.97e+4, metrics={'r2': 0.8873}] \n",
      "epoch 95: 100%|██████████| 1366/1366 [00:15<00:00, 88.24it/s, loss=4.98e+4, metrics={'r2': 0.8877}] \n",
      "epoch 96: 100%|██████████| 1366/1366 [00:13<00:00, 103.16it/s, loss=4.97e+4, metrics={'r2': 0.8877}]\n",
      "epoch 97: 100%|██████████| 1366/1366 [00:13<00:00, 97.62it/s, loss=4.96e+4, metrics={'r2': 0.8882}] \n",
      "epoch 98: 100%|██████████| 1366/1366 [00:14<00:00, 94.44it/s, loss=4.98e+4, metrics={'r2': 0.8874}] \n",
      "epoch 99: 100%|██████████| 1366/1366 [00:15<00:00, 88.05it/s, loss=4.97e+4, metrics={'r2': 0.8876}] \n",
      "epoch 100: 100%|██████████| 1366/1366 [00:14<00:00, 92.86it/s, loss=4.97e+4, metrics={'r2': 0.8878}] \n"
     ]
    }
   ],
   "source": [
    "# TODO: Enter your code here\n",
    "\n",
    "# Define the target variable and the names of the continuous and categorical variables\n",
    "target = ['resale_price']\n",
    "continuous_cols = ['dist_to_nearest_stn', 'dist_to_dhoby', 'degree_centrality', 'eigenvector_centrality', 'remaining_lease_years', 'floor_area_sqm']\n",
    "categorical_cols = ['month', 'town', 'flat_model_type', 'storey_range']\n",
    "\n",
    "preprocessor = TabPreprocessor(embed_cols=categorical_cols, continuous_cols=continuous_cols)\n",
    "x_train = preprocessor.fit_transform(train_data)\n",
    "y_train = train_data[target].values\n",
    "\n",
    "model = TabMlp(\n",
    "    mlp_hidden_dims=[200, 100],\n",
    "    column_idx=preprocessor.column_idx,\n",
    "    cat_embed_input=preprocessor.cat_embed_input,\n",
    "    continuous_cols=continuous_cols\n",
    ")\n",
    "\n",
    "# Combine the TabMlp model with any other models you want to use\n",
    "wide = WideDeep(deeptabular=model)\n",
    "\n",
    "# Set up Trainer and train\n",
    "trainer = Trainer(\n",
    "    wide, \n",
    "    objective=\"root_mean_squared_error\", \n",
    "    metrics=[R2Score], \n",
    "    num_workers=0\n",
    ")\n",
    "\n",
    "# Fit the model\n",
    "\n",
    "trainer.fit(X_tab=x_train, target=y_train, n_epochs=100, batch_size=64)\n",
    "\n"
   ]
  },
  {
   "attachments": {},
   "cell_type": "markdown",
   "metadata": {
    "id": "V46s-MdM0y5c"
   },
   "source": [
    ">Report the test RMSE and the test R2 value that you obtained."
   ]
  },
  {
   "cell_type": "code",
   "execution_count": 37,
   "metadata": {
    "id": "KAhAgvMC07g6"
   },
   "outputs": [
    {
     "name": "stderr",
     "output_type": "stream",
     "text": [
      "predict: 100%|██████████| 1128/1128 [00:03<00:00, 368.52it/s]\n"
     ]
    },
    {
     "name": "stdout",
     "output_type": "stream",
     "text": [
      "RMSE:  96905.11983419929\n",
      "R2:  0.6719107686934478\n"
     ]
    }
   ],
   "source": [
    "# TODO: Enter your code here\n",
    "\n",
    "import math\n",
    "from sklearn.metrics import r2_score, mean_squared_error\n",
    "\n",
    "x_test = preprocessor.transform(test_data)\n",
    "y_test = test_data[target].values\n",
    "\n",
    "predictions = trainer.predict(X_tab=x_test,batch_size=64)\n",
    "\n",
    "print(\"RMSE: \", math.sqrt(mean_squared_error(test_data['resale_price'], predictions)))\n",
    "print(\"R2: \", r2_score(test_data['resale_price'], predictions))\n"
   ]
  },
  {
   "cell_type": "code",
   "execution_count": null,
   "metadata": {},
   "outputs": [],
   "source": []
  }
 ],
 "metadata": {
  "colab": {
   "provenance": []
  },
  "kernelspec": {
   "display_name": "Python 3 (ipykernel)",
   "language": "python",
   "name": "python3"
  },
  "language_info": {
   "codemirror_mode": {
    "name": "ipython",
    "version": 3
   },
   "file_extension": ".py",
   "mimetype": "text/x-python",
   "name": "python",
   "nbconvert_exporter": "python",
   "pygments_lexer": "ipython3",
   "version": "3.9.7"
  }
 },
 "nbformat": 4,
 "nbformat_minor": 1
}
