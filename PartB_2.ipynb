{
 "cells": [
  {
   "attachments": {},
   "cell_type": "markdown",
   "metadata": {
    "id": "NFVxWZGJxprU"
   },
   "source": [
    "# CS4001/4042 Assignment 1, Part B, Q2\n",
    "In Question B1, we used the Category Embedding model. This creates a feedforward neural network in which the categorical features get learnable embeddings. In this question, we will make use of a library called Pytorch-WideDeep. This library makes it easy to work with multimodal deep-learning problems combining images, text, and tables. We will just be utilizing the deeptabular component of this library through the TabMlp network:"
   ]
  },
  {
   "cell_type": "code",
   "execution_count": 1,
   "metadata": {
    "id": "EycCozG06Duu"
   },
   "outputs": [
    {
     "name": "stdout",
     "output_type": "stream",
     "text": [
      "Requirement already satisfied: pytorch-widedeep in ./env/lib/python3.9/site-packages (1.3.2)\n",
      "Requirement already satisfied: torchvision in ./env/lib/python3.9/site-packages (from pytorch-widedeep) (0.16.0)\n",
      "Requirement already satisfied: pandas>=1.3.5 in ./env/lib/python3.9/site-packages (from pytorch-widedeep) (2.1.1)\n",
      "Requirement already satisfied: torchmetrics in ./env/lib/python3.9/site-packages (from pytorch-widedeep) (0.11.4)\n",
      "Requirement already satisfied: pyarrow in ./env/lib/python3.9/site-packages (from pytorch-widedeep) (13.0.0)\n",
      "Requirement already satisfied: gensim in ./env/lib/python3.9/site-packages (from pytorch-widedeep) (4.3.2)\n",
      "Requirement already satisfied: scikit-learn>=1.0.2 in ./env/lib/python3.9/site-packages (from pytorch-widedeep) (1.3.1)\n",
      "Requirement already satisfied: spacy in ./env/lib/python3.9/site-packages (from pytorch-widedeep) (3.7.1)\n",
      "Requirement already satisfied: imutils in ./env/lib/python3.9/site-packages (from pytorch-widedeep) (0.5.4)\n",
      "Requirement already satisfied: tqdm in ./env/lib/python3.9/site-packages (from pytorch-widedeep) (4.66.1)\n",
      "Requirement already satisfied: torch in ./env/lib/python3.9/site-packages (from pytorch-widedeep) (2.1.0)\n",
      "Requirement already satisfied: wrapt in ./env/lib/python3.9/site-packages (from pytorch-widedeep) (1.15.0)\n",
      "Requirement already satisfied: fastparquet>=0.8.1 in ./env/lib/python3.9/site-packages (from pytorch-widedeep) (2023.8.0)\n",
      "Requirement already satisfied: scipy>=1.7.3 in ./env/lib/python3.9/site-packages (from pytorch-widedeep) (1.11.3)\n",
      "Requirement already satisfied: einops in ./env/lib/python3.9/site-packages (from pytorch-widedeep) (0.6.1)\n",
      "Requirement already satisfied: opencv-contrib-python in ./env/lib/python3.9/site-packages (from pytorch-widedeep) (4.8.1.78)\n",
      "Requirement already satisfied: numpy>=1.21.6 in ./env/lib/python3.9/site-packages (from pytorch-widedeep) (1.26.0)\n",
      "Requirement already satisfied: packaging in ./env/lib/python3.9/site-packages (from fastparquet>=0.8.1->pytorch-widedeep) (23.2)\n",
      "Requirement already satisfied: fsspec in ./env/lib/python3.9/site-packages (from fastparquet>=0.8.1->pytorch-widedeep) (2023.9.2)\n",
      "Requirement already satisfied: cramjam>=2.3 in ./env/lib/python3.9/site-packages (from fastparquet>=0.8.1->pytorch-widedeep) (2.7.0)\n",
      "Requirement already satisfied: python-dateutil>=2.8.2 in ./env/lib/python3.9/site-packages (from pandas>=1.3.5->pytorch-widedeep) (2.8.2)\n",
      "Requirement already satisfied: tzdata>=2022.1 in ./env/lib/python3.9/site-packages (from pandas>=1.3.5->pytorch-widedeep) (2023.3)\n",
      "Requirement already satisfied: pytz>=2020.1 in ./env/lib/python3.9/site-packages (from pandas>=1.3.5->pytorch-widedeep) (2023.3.post1)\n",
      "Requirement already satisfied: six>=1.5 in ./env/lib/python3.9/site-packages (from python-dateutil>=2.8.2->pandas>=1.3.5->pytorch-widedeep) (1.16.0)\n",
      "Requirement already satisfied: joblib>=1.1.1 in ./env/lib/python3.9/site-packages (from scikit-learn>=1.0.2->pytorch-widedeep) (1.3.2)\n",
      "Requirement already satisfied: threadpoolctl>=2.0.0 in ./env/lib/python3.9/site-packages (from scikit-learn>=1.0.2->pytorch-widedeep) (3.2.0)\n",
      "Requirement already satisfied: smart-open>=1.8.1 in ./env/lib/python3.9/site-packages (from gensim->pytorch-widedeep) (6.4.0)\n",
      "Requirement already satisfied: thinc<8.3.0,>=8.1.8 in ./env/lib/python3.9/site-packages (from spacy->pytorch-widedeep) (8.2.1)\n",
      "Requirement already satisfied: weasel<0.4.0,>=0.1.0 in ./env/lib/python3.9/site-packages (from spacy->pytorch-widedeep) (0.3.2)\n",
      "Requirement already satisfied: spacy-loggers<2.0.0,>=1.0.0 in ./env/lib/python3.9/site-packages (from spacy->pytorch-widedeep) (1.0.5)\n",
      "Requirement already satisfied: pathy>=0.10.0 in ./env/lib/python3.9/site-packages (from spacy->pytorch-widedeep) (0.10.2)\n",
      "Requirement already satisfied: langcodes<4.0.0,>=3.2.0 in ./env/lib/python3.9/site-packages (from spacy->pytorch-widedeep) (3.3.0)\n",
      "Requirement already satisfied: requests<3.0.0,>=2.13.0 in ./env/lib/python3.9/site-packages (from spacy->pytorch-widedeep) (2.31.0)\n",
      "Requirement already satisfied: catalogue<2.1.0,>=2.0.6 in ./env/lib/python3.9/site-packages (from spacy->pytorch-widedeep) (2.0.10)\n",
      "Requirement already satisfied: preshed<3.1.0,>=3.0.2 in ./env/lib/python3.9/site-packages (from spacy->pytorch-widedeep) (3.0.9)\n",
      "Requirement already satisfied: spacy-legacy<3.1.0,>=3.0.11 in ./env/lib/python3.9/site-packages (from spacy->pytorch-widedeep) (3.0.12)\n",
      "Requirement already satisfied: setuptools in ./env/lib/python3.9/site-packages (from spacy->pytorch-widedeep) (57.4.0)\n",
      "Requirement already satisfied: jinja2 in ./env/lib/python3.9/site-packages (from spacy->pytorch-widedeep) (3.1.2)\n",
      "Requirement already satisfied: srsly<3.0.0,>=2.4.3 in ./env/lib/python3.9/site-packages (from spacy->pytorch-widedeep) (2.4.8)\n",
      "Requirement already satisfied: pydantic!=1.8,!=1.8.1,<3.0.0,>=1.7.4 in ./env/lib/python3.9/site-packages (from spacy->pytorch-widedeep) (2.4.2)\n",
      "Requirement already satisfied: cymem<2.1.0,>=2.0.2 in ./env/lib/python3.9/site-packages (from spacy->pytorch-widedeep) (2.0.8)\n",
      "Requirement already satisfied: murmurhash<1.1.0,>=0.28.0 in ./env/lib/python3.9/site-packages (from spacy->pytorch-widedeep) (1.0.10)\n",
      "Requirement already satisfied: typer<0.10.0,>=0.3.0 in ./env/lib/python3.9/site-packages (from spacy->pytorch-widedeep) (0.9.0)\n",
      "Requirement already satisfied: wasabi<1.2.0,>=0.9.1 in ./env/lib/python3.9/site-packages (from spacy->pytorch-widedeep) (1.1.2)\n",
      "Requirement already satisfied: pydantic-core==2.10.1 in ./env/lib/python3.9/site-packages (from pydantic!=1.8,!=1.8.1,<3.0.0,>=1.7.4->spacy->pytorch-widedeep) (2.10.1)\n",
      "Requirement already satisfied: typing-extensions>=4.6.1 in ./env/lib/python3.9/site-packages (from pydantic!=1.8,!=1.8.1,<3.0.0,>=1.7.4->spacy->pytorch-widedeep) (4.8.0)\n",
      "Requirement already satisfied: annotated-types>=0.4.0 in ./env/lib/python3.9/site-packages (from pydantic!=1.8,!=1.8.1,<3.0.0,>=1.7.4->spacy->pytorch-widedeep) (0.6.0)\n",
      "Requirement already satisfied: urllib3<3,>=1.21.1 in ./env/lib/python3.9/site-packages (from requests<3.0.0,>=2.13.0->spacy->pytorch-widedeep) (2.0.6)\n",
      "Requirement already satisfied: certifi>=2017.4.17 in ./env/lib/python3.9/site-packages (from requests<3.0.0,>=2.13.0->spacy->pytorch-widedeep) (2023.7.22)\n",
      "Requirement already satisfied: charset-normalizer<4,>=2 in ./env/lib/python3.9/site-packages (from requests<3.0.0,>=2.13.0->spacy->pytorch-widedeep) (3.3.0)\n",
      "Requirement already satisfied: idna<4,>=2.5 in ./env/lib/python3.9/site-packages (from requests<3.0.0,>=2.13.0->spacy->pytorch-widedeep) (3.4)\n",
      "Requirement already satisfied: confection<1.0.0,>=0.0.1 in ./env/lib/python3.9/site-packages (from thinc<8.3.0,>=8.1.8->spacy->pytorch-widedeep) (0.1.3)\n",
      "Requirement already satisfied: blis<0.8.0,>=0.7.8 in ./env/lib/python3.9/site-packages (from thinc<8.3.0,>=8.1.8->spacy->pytorch-widedeep) (0.7.11)\n",
      "Requirement already satisfied: click<9.0.0,>=7.1.1 in ./env/lib/python3.9/site-packages (from typer<0.10.0,>=0.3.0->spacy->pytorch-widedeep) (8.1.7)\n",
      "Requirement already satisfied: cloudpathlib<0.16.0,>=0.7.0 in ./env/lib/python3.9/site-packages (from weasel<0.4.0,>=0.1.0->spacy->pytorch-widedeep) (0.15.1)\n",
      "Requirement already satisfied: MarkupSafe>=2.0 in ./env/lib/python3.9/site-packages (from jinja2->spacy->pytorch-widedeep) (2.1.3)\n",
      "Requirement already satisfied: sympy in ./env/lib/python3.9/site-packages (from torch->pytorch-widedeep) (1.12)\n",
      "Requirement already satisfied: filelock in ./env/lib/python3.9/site-packages (from torch->pytorch-widedeep) (3.12.4)\n",
      "Requirement already satisfied: networkx in ./env/lib/python3.9/site-packages (from torch->pytorch-widedeep) (3.1)\n",
      "Requirement already satisfied: mpmath>=0.19 in ./env/lib/python3.9/site-packages (from sympy->torch->pytorch-widedeep) (1.3.0)\n",
      "Requirement already satisfied: pillow!=8.3.*,>=5.3.0 in ./env/lib/python3.9/site-packages (from torchvision->pytorch-widedeep) (10.0.1)\n",
      "\u001b[33mWARNING: You are using pip version 21.2.3; however, version 23.2.1 is available.\n",
      "You should consider upgrading via the '/Users/advait/Desktop/gitpositories/SC4001-Assignment/env/bin/python -m pip install --upgrade pip' command.\u001b[0m\n"
     ]
    }
   ],
   "source": [
    "!pip install pytorch-widedeep"
   ]
  },
  {
   "cell_type": "code",
   "execution_count": 2,
   "metadata": {
    "id": "lq0elU0J53Yo"
   },
   "outputs": [],
   "source": [
    "SEED = 42\n",
    "\n",
    "import os\n",
    "\n",
    "import random\n",
    "random.seed(SEED)\n",
    "\n",
    "import numpy as np\n",
    "np.random.seed(SEED)\n",
    "\n",
    "import pandas as pd\n",
    "\n",
    "from pytorch_widedeep.preprocessing import TabPreprocessor\n",
    "from pytorch_widedeep.models import TabMlp, WideDeep\n",
    "from pytorch_widedeep import Trainer\n",
    "from pytorch_widedeep.metrics import R2Score"
   ]
  },
  {
   "attachments": {},
   "cell_type": "markdown",
   "metadata": {
    "id": "aU3xdVpwzuLx"
   },
   "source": [
    ">Divide the dataset (‘hdb_price_prediction.csv’) into train and test sets by using entries from the year 2020 and before as training data, and entries from 2021 and after as the test data."
   ]
  },
  {
   "cell_type": "code",
   "execution_count": 3,
   "metadata": {
    "id": "_oYG6lNIh7Mp"
   },
   "outputs": [],
   "source": [
    "df = pd.read_csv('hdb_price_prediction.csv')\n",
    "\n",
    "# TODO: Enter your code here\n",
    "train_data = df[df['year'] <= 2020]\n",
    "test_data = df[df['year'] >= 2021]"
   ]
  },
  {
   "attachments": {},
   "cell_type": "markdown",
   "metadata": {
    "id": "m_q9PoR50JAA"
   },
   "source": [
    ">Refer to the documentation of Pytorch-WideDeep and perform the following tasks:\n",
    "https://pytorch-widedeep.readthedocs.io/en/latest/index.html\n",
    "* Use [**TabPreprocessor**](https://pytorch-widedeep.readthedocs.io/en/latest/examples/01_preprocessors_and_utils.html#2-tabpreprocessor) to create the deeptabular component using the continuous\n",
    "features and the categorical features. Use this component to transform the training dataset.\n",
    "* Create the [**TabMlp**](https://pytorch-widedeep.readthedocs.io/en/latest/pytorch-widedeep/model_components.html#pytorch_widedeep.models.tabular.mlp.tab_mlp.TabMlp) model with 2 linear layers in the MLP, with 200 and 100 neurons respectively.\n",
    "* Create a [**Trainer**](https://pytorch-widedeep.readthedocs.io/en/latest/pytorch-widedeep/trainer.html#pytorch_widedeep.training.Trainer) for the training of the created TabMlp model with the root mean squared error (RMSE) cost function. Train the model for 100 epochs using this trainer, keeping a batch size of 64. (Note: set the *num_workers* parameter to 0.)"
   ]
  },
  {
   "cell_type": "code",
   "execution_count": 4,
   "metadata": {
    "id": "ZBY1iqUXtYWn"
   },
   "outputs": [
    {
     "name": "stderr",
     "output_type": "stream",
     "text": [
      "/Users/advait/Desktop/gitpositories/SC4001-Assignment/env/lib/python3.9/site-packages/pytorch_widedeep/preprocessing/tab_preprocessor.py:334: UserWarning: Continuous columns will not be normalised\n",
      "  warnings.warn(\"Continuous columns will not be normalised\")\n",
      "epoch 1: 100%|██████████| 1366/1366 [00:16<00:00, 81.28it/s, loss=2.38e+5, metrics={'r2': -2.3835}] \n",
      "epoch 2: 100%|██████████| 1366/1366 [00:12<00:00, 111.65it/s, loss=1.04e+5, metrics={'r2': 0.4737}]\n",
      "epoch 3: 100%|██████████| 1366/1366 [00:12<00:00, 107.89it/s, loss=8.68e+4, metrics={'r2': 0.6501}]\n",
      "epoch 4: 100%|██████████| 1366/1366 [00:11<00:00, 119.32it/s, loss=7.97e+4, metrics={'r2': 0.713}] \n",
      "epoch 5: 100%|██████████| 1366/1366 [00:31<00:00, 43.43it/s, loss=7.59e+4, metrics={'r2': 0.7417}]\n",
      "epoch 6: 100%|██████████| 1366/1366 [00:12<00:00, 110.30it/s, loss=7.37e+4, metrics={'r2': 0.7576}]\n",
      "epoch 7: 100%|██████████| 1366/1366 [00:10<00:00, 129.60it/s, loss=7.21e+4, metrics={'r2': 0.7683}]\n",
      "epoch 8: 100%|██████████| 1366/1366 [00:10<00:00, 126.27it/s, loss=7.07e+4, metrics={'r2': 0.7776}]\n",
      "epoch 9: 100%|██████████| 1366/1366 [00:10<00:00, 126.38it/s, loss=6.95e+4, metrics={'r2': 0.7848}]\n",
      "epoch 10: 100%|██████████| 1366/1366 [00:10<00:00, 134.58it/s, loss=6.89e+4, metrics={'r2': 0.7886}]\n",
      "epoch 11: 100%|██████████| 1366/1366 [00:11<00:00, 120.95it/s, loss=6.82e+4, metrics={'r2': 0.7931}]\n",
      "epoch 12: 100%|██████████| 1366/1366 [00:10<00:00, 133.42it/s, loss=6.74e+4, metrics={'r2': 0.7974}]\n",
      "epoch 13: 100%|██████████| 1366/1366 [00:10<00:00, 125.38it/s, loss=6.72e+4, metrics={'r2': 0.7985}]\n",
      "epoch 14: 100%|██████████| 1366/1366 [00:10<00:00, 130.42it/s, loss=6.68e+4, metrics={'r2': 0.8012}]\n",
      "epoch 15: 100%|██████████| 1366/1366 [00:10<00:00, 127.86it/s, loss=6.64e+4, metrics={'r2': 0.8034}]\n",
      "epoch 16: 100%|██████████| 1366/1366 [00:10<00:00, 129.68it/s, loss=6.59e+4, metrics={'r2': 0.8061}]\n",
      "epoch 17: 100%|██████████| 1366/1366 [00:10<00:00, 125.02it/s, loss=6.53e+4, metrics={'r2': 0.8092}]\n",
      "epoch 18: 100%|██████████| 1366/1366 [00:10<00:00, 130.87it/s, loss=6.53e+4, metrics={'r2': 0.8092}]\n",
      "epoch 19: 100%|██████████| 1366/1366 [00:12<00:00, 110.92it/s, loss=6.51e+4, metrics={'r2': 0.8103}]\n",
      "epoch 20: 100%|██████████| 1366/1366 [00:12<00:00, 111.28it/s, loss=6.47e+4, metrics={'r2': 0.8127}]\n",
      "epoch 21: 100%|██████████| 1366/1366 [00:13<00:00, 104.22it/s, loss=6.46e+4, metrics={'r2': 0.8128}]\n",
      "epoch 22: 100%|██████████| 1366/1366 [00:14<00:00, 94.06it/s, loss=6.46e+4, metrics={'r2': 0.8131}] \n",
      "epoch 23: 100%|██████████| 1366/1366 [00:14<00:00, 93.88it/s, loss=6.42e+4, metrics={'r2': 0.8153}] \n",
      "epoch 24: 100%|██████████| 1366/1366 [00:15<00:00, 88.89it/s, loss=6.42e+4, metrics={'r2': 0.8152}] \n",
      "epoch 25: 100%|██████████| 1366/1366 [00:14<00:00, 95.01it/s, loss=6.37e+4, metrics={'r2': 0.818}]  \n",
      "epoch 26: 100%|██████████| 1366/1366 [00:14<00:00, 94.25it/s, loss=6.36e+4, metrics={'r2': 0.8185}] \n",
      "epoch 27: 100%|██████████| 1366/1366 [00:14<00:00, 91.87it/s, loss=6.38e+4, metrics={'r2': 0.8172}] \n",
      "epoch 28: 100%|██████████| 1366/1366 [00:14<00:00, 91.77it/s, loss=6.33e+4, metrics={'r2': 0.8199}] \n",
      "epoch 29: 100%|██████████| 1366/1366 [00:14<00:00, 96.33it/s, loss=6.32e+4, metrics={'r2': 0.8209}] \n",
      "epoch 30: 100%|██████████| 1366/1366 [00:14<00:00, 93.87it/s, loss=6.31e+4, metrics={'r2': 0.8212}] \n",
      "epoch 31: 100%|██████████| 1366/1366 [00:15<00:00, 90.11it/s, loss=6.29e+4, metrics={'r2': 0.822}]  \n",
      "epoch 32: 100%|██████████| 1366/1366 [00:14<00:00, 92.97it/s, loss=6.3e+4, metrics={'r2': 0.8216}]  \n",
      "epoch 33: 100%|██████████| 1366/1366 [00:13<00:00, 100.11it/s, loss=6.26e+4, metrics={'r2': 0.8233}]\n",
      "epoch 34: 100%|██████████| 1366/1366 [00:13<00:00, 101.51it/s, loss=6.24e+4, metrics={'r2': 0.8248}]\n",
      "epoch 35: 100%|██████████| 1366/1366 [00:15<00:00, 86.32it/s, loss=6.24e+4, metrics={'r2': 0.8243}] \n",
      "epoch 36: 100%|██████████| 1366/1366 [00:15<00:00, 87.14it/s, loss=6.22e+4, metrics={'r2': 0.8256}] \n",
      "epoch 37: 100%|██████████| 1366/1366 [00:16<00:00, 80.48it/s, loss=6.23e+4, metrics={'r2': 0.8251}]\n",
      "epoch 38: 100%|██████████| 1366/1366 [00:17<00:00, 79.87it/s, loss=6.19e+4, metrics={'r2': 0.8268}]\n",
      "epoch 39: 100%|██████████| 1366/1366 [00:12<00:00, 110.33it/s, loss=6.18e+4, metrics={'r2': 0.8277}]\n",
      "epoch 40: 100%|██████████| 1366/1366 [00:11<00:00, 115.05it/s, loss=6.17e+4, metrics={'r2': 0.8278}]\n",
      "epoch 41: 100%|██████████| 1366/1366 [00:12<00:00, 105.97it/s, loss=6.16e+4, metrics={'r2': 0.8284}]\n",
      "epoch 42: 100%|██████████| 1366/1366 [00:13<00:00, 100.67it/s, loss=6.16e+4, metrics={'r2': 0.8289}]\n",
      "epoch 43: 100%|██████████| 1366/1366 [00:13<00:00, 102.76it/s, loss=6.12e+4, metrics={'r2': 0.8306}]\n",
      "epoch 44: 100%|██████████| 1366/1366 [00:14<00:00, 93.26it/s, loss=6.12e+4, metrics={'r2': 0.8307}] \n",
      "epoch 45: 100%|██████████| 1366/1366 [00:13<00:00, 101.47it/s, loss=6.11e+4, metrics={'r2': 0.8315}]\n",
      "epoch 46: 100%|██████████| 1366/1366 [00:11<00:00, 114.20it/s, loss=6.1e+4, metrics={'r2': 0.8316}] \n",
      "epoch 47: 100%|██████████| 1366/1366 [00:11<00:00, 115.13it/s, loss=6.08e+4, metrics={'r2': 0.8329}]\n",
      "epoch 48: 100%|██████████| 1366/1366 [00:12<00:00, 107.10it/s, loss=6.06e+4, metrics={'r2': 0.8342}]\n",
      "epoch 49: 100%|██████████| 1366/1366 [00:12<00:00, 106.97it/s, loss=6.05e+4, metrics={'r2': 0.8341}]\n",
      "epoch 50: 100%|██████████| 1366/1366 [00:12<00:00, 106.72it/s, loss=6.03e+4, metrics={'r2': 0.835}] \n",
      "epoch 51: 100%|██████████| 1366/1366 [00:12<00:00, 106.52it/s, loss=6.03e+4, metrics={'r2': 0.8356}]\n",
      "epoch 52: 100%|██████████| 1366/1366 [00:12<00:00, 111.88it/s, loss=6.02e+4, metrics={'r2': 0.8362}]\n",
      "epoch 53: 100%|██████████| 1366/1366 [00:12<00:00, 112.01it/s, loss=6.01e+4, metrics={'r2': 0.836}] \n",
      "epoch 54: 100%|██████████| 1366/1366 [00:12<00:00, 106.79it/s, loss=5.99e+4, metrics={'r2': 0.8368}]\n",
      "epoch 55: 100%|██████████| 1366/1366 [00:13<00:00, 99.08it/s, loss=5.97e+4, metrics={'r2': 0.8383}] \n",
      "epoch 56: 100%|██████████| 1366/1366 [00:13<00:00, 104.84it/s, loss=5.96e+4, metrics={'r2': 0.8388}]\n",
      "epoch 57: 100%|██████████| 1366/1366 [00:13<00:00, 102.82it/s, loss=5.95e+4, metrics={'r2': 0.8394}]\n",
      "epoch 58: 100%|██████████| 1366/1366 [00:12<00:00, 106.34it/s, loss=5.94e+4, metrics={'r2': 0.8398}]\n",
      "epoch 59: 100%|██████████| 1366/1366 [00:11<00:00, 114.08it/s, loss=5.92e+4, metrics={'r2': 0.8406}]\n",
      "epoch 60: 100%|██████████| 1366/1366 [00:12<00:00, 105.37it/s, loss=5.91e+4, metrics={'r2': 0.8412}]\n",
      "epoch 61: 100%|██████████| 1366/1366 [00:14<00:00, 96.57it/s, loss=5.91e+4, metrics={'r2': 0.8415}] \n",
      "epoch 62: 100%|██████████| 1366/1366 [00:12<00:00, 106.83it/s, loss=5.9e+4, metrics={'r2': 0.8416}] \n",
      "epoch 63: 100%|██████████| 1366/1366 [00:12<00:00, 106.30it/s, loss=5.9e+4, metrics={'r2': 0.8414}] \n",
      "epoch 64: 100%|██████████| 1366/1366 [00:12<00:00, 106.08it/s, loss=5.88e+4, metrics={'r2': 0.8422}]\n",
      "epoch 65: 100%|██████████| 1366/1366 [00:13<00:00, 103.44it/s, loss=5.85e+4, metrics={'r2': 0.8442}]\n",
      "epoch 66: 100%|██████████| 1366/1366 [00:12<00:00, 105.86it/s, loss=5.86e+4, metrics={'r2': 0.8437}]\n",
      "epoch 67: 100%|██████████| 1366/1366 [00:12<00:00, 107.02it/s, loss=5.85e+4, metrics={'r2': 0.8445}]\n",
      "epoch 68: 100%|██████████| 1366/1366 [00:13<00:00, 99.34it/s, loss=5.82e+4, metrics={'r2': 0.8457}] \n",
      "epoch 69: 100%|██████████| 1366/1366 [00:12<00:00, 105.74it/s, loss=5.81e+4, metrics={'r2': 0.8462}]\n",
      "epoch 70: 100%|██████████| 1366/1366 [00:13<00:00, 103.54it/s, loss=5.78e+4, metrics={'r2': 0.848}] \n",
      "epoch 71: 100%|██████████| 1366/1366 [00:13<00:00, 101.16it/s, loss=5.76e+4, metrics={'r2': 0.8489}]\n",
      "epoch 72: 100%|██████████| 1366/1366 [00:13<00:00, 99.10it/s, loss=5.71e+4, metrics={'r2': 0.8516}] \n",
      "epoch 73: 100%|██████████| 1366/1366 [00:14<00:00, 91.09it/s, loss=5.64e+4, metrics={'r2': 0.8554}] \n",
      "epoch 74: 100%|██████████| 1366/1366 [00:13<00:00, 98.97it/s, loss=5.62e+4, metrics={'r2': 0.8565}] \n",
      "epoch 75: 100%|██████████| 1366/1366 [00:13<00:00, 99.87it/s, loss=5.5e+4, metrics={'r2': 0.8628}]  \n",
      "epoch 76: 100%|██████████| 1366/1366 [00:13<00:00, 100.63it/s, loss=5.43e+4, metrics={'r2': 0.8665}]\n",
      "epoch 77: 100%|██████████| 1366/1366 [00:16<00:00, 80.40it/s, loss=5.37e+4, metrics={'r2': 0.8692}]\n",
      "epoch 78: 100%|██████████| 1366/1366 [00:16<00:00, 82.09it/s, loss=5.3e+4, metrics={'r2': 0.8723}] \n",
      "epoch 79: 100%|██████████| 1366/1366 [00:17<00:00, 77.70it/s, loss=5.25e+4, metrics={'r2': 0.8747}]\n",
      "epoch 80: 100%|██████████| 1366/1366 [00:16<00:00, 83.27it/s, loss=5.25e+4, metrics={'r2': 0.8747}] \n",
      "epoch 81: 100%|██████████| 1366/1366 [00:14<00:00, 96.91it/s, loss=5.21e+4, metrics={'r2': 0.8766}] \n",
      "epoch 82: 100%|██████████| 1366/1366 [00:15<00:00, 90.34it/s, loss=5.2e+4, metrics={'r2': 0.8772}]  \n",
      "epoch 83: 100%|██████████| 1366/1366 [00:14<00:00, 97.16it/s, loss=5.18e+4, metrics={'r2': 0.8782}] \n",
      "epoch 84: 100%|██████████| 1366/1366 [00:17<00:00, 79.51it/s, loss=5.16e+4, metrics={'r2': 0.8789}] \n",
      "epoch 85: 100%|██████████| 1366/1366 [00:13<00:00, 97.88it/s, loss=5.16e+4, metrics={'r2': 0.8789}] \n",
      "epoch 86: 100%|██████████| 1366/1366 [00:17<00:00, 80.30it/s, loss=5.15e+4, metrics={'r2': 0.8796}]\n",
      "epoch 87: 100%|██████████| 1366/1366 [00:18<00:00, 72.40it/s, loss=5.14e+4, metrics={'r2': 0.88}]  \n",
      "epoch 88: 100%|██████████| 1366/1366 [00:18<00:00, 72.02it/s, loss=5.11e+4, metrics={'r2': 0.8811}]\n",
      "epoch 89: 100%|██████████| 1366/1366 [00:17<00:00, 76.68it/s, loss=5.11e+4, metrics={'r2': 0.8812}] \n",
      "epoch 90: 100%|██████████| 1366/1366 [00:15<00:00, 87.14it/s, loss=5.11e+4, metrics={'r2': 0.8812}] \n",
      "epoch 91: 100%|██████████| 1366/1366 [00:14<00:00, 91.15it/s, loss=5.09e+4, metrics={'r2': 0.882}]  \n",
      "epoch 92: 100%|██████████| 1366/1366 [00:15<00:00, 87.66it/s, loss=5.07e+4, metrics={'r2': 0.8828}] \n",
      "epoch 93: 100%|██████████| 1366/1366 [00:14<00:00, 93.55it/s, loss=5.09e+4, metrics={'r2': 0.8822}] \n",
      "epoch 94: 100%|██████████| 1366/1366 [00:13<00:00, 102.81it/s, loss=5.05e+4, metrics={'r2': 0.8839}]\n",
      "epoch 95: 100%|██████████| 1366/1366 [00:13<00:00, 102.18it/s, loss=5.06e+4, metrics={'r2': 0.8834}]\n",
      "epoch 96: 100%|██████████| 1366/1366 [00:14<00:00, 96.15it/s, loss=5.05e+4, metrics={'r2': 0.884}]  \n",
      "epoch 97: 100%|██████████| 1366/1366 [00:14<00:00, 92.23it/s, loss=5.03e+4, metrics={'r2': 0.8848}] \n",
      "epoch 98: 100%|██████████| 1366/1366 [00:14<00:00, 95.78it/s, loss=5.03e+4, metrics={'r2': 0.8847}] \n",
      "epoch 99: 100%|██████████| 1366/1366 [00:15<00:00, 88.54it/s, loss=5.03e+4, metrics={'r2': 0.8848}] \n",
      "epoch 100: 100%|██████████| 1366/1366 [00:13<00:00, 99.94it/s, loss=5.02e+4, metrics={'r2': 0.8856}] \n"
     ]
    }
   ],
   "source": [
    "# TODO: Enter your code here\n",
    "\n",
    "# Define the target variable and the names of the continuous and categorical variables\n",
    "target = ['resale_price']\n",
    "continuous_cols = ['dist_to_nearest_stn', 'dist_to_dhoby', 'degree_centrality', 'eigenvector_centrality', 'remaining_lease_years', 'floor_area_sqm']\n",
    "categorical_cols = ['month', 'town', 'flat_model_type', 'storey_range']\n",
    "\n",
    "preprocessor = TabPreprocessor(embed_cols=categorical_cols, continuous_cols=continuous_cols)\n",
    "x_train = preprocessor.fit_transform(train_data)\n",
    "y_train = train_data[target].values\n",
    "\n",
    "model = TabMlp(\n",
    "    mlp_hidden_dims=[200, 100],\n",
    "    column_idx=preprocessor.column_idx,\n",
    "    cat_embed_input=preprocessor.cat_embed_input,\n",
    "    continuous_cols=continuous_cols\n",
    ")\n",
    "\n",
    "# Combine the TabMlp model with any other models you want to use\n",
    "wide = WideDeep(deeptabular=model)\n",
    "\n",
    "# Set up Trainer and train\n",
    "trainer = Trainer(\n",
    "    wide, \n",
    "    objective=\"root_mean_squared_error\", \n",
    "    metrics=[R2Score], \n",
    "    num_workers=0\n",
    ")\n",
    "\n",
    "# Fit the model\n",
    "\n",
    "trainer.fit(X_tab=x_train, target=y_train, n_epochs=100, batch_size=64)\n",
    "\n"
   ]
  },
  {
   "attachments": {},
   "cell_type": "markdown",
   "metadata": {
    "id": "V46s-MdM0y5c"
   },
   "source": [
    ">Report the test RMSE and the test R2 value that you obtained."
   ]
  },
  {
   "cell_type": "code",
   "execution_count": 5,
   "metadata": {
    "id": "KAhAgvMC07g6"
   },
   "outputs": [
    {
     "name": "stderr",
     "output_type": "stream",
     "text": [
      "predict: 100%|██████████| 1128/1128 [00:03<00:00, 348.20it/s]\n"
     ]
    },
    {
     "name": "stdout",
     "output_type": "stream",
     "text": [
      "RMSE:  96527.42448385707\n",
      "R2:  0.6744632919804867\n"
     ]
    }
   ],
   "source": [
    "# TODO: Enter your code here\n",
    "\n",
    "import math\n",
    "from sklearn.metrics import r2_score, mean_squared_error\n",
    "\n",
    "x_test = preprocessor.transform(test_data)\n",
    "y_test = test_data[target].values\n",
    "\n",
    "predictions = trainer.predict(X_tab=x_test,batch_size=64)\n",
    "\n",
    "print(\"RMSE: \", math.sqrt(mean_squared_error(test_data['resale_price'], predictions)))\n",
    "print(\"R2: \", r2_score(test_data['resale_price'], predictions))\n"
   ]
  },
  {
   "cell_type": "code",
   "execution_count": null,
   "metadata": {},
   "outputs": [],
   "source": []
  }
 ],
 "metadata": {
  "colab": {
   "provenance": []
  },
  "kernelspec": {
   "display_name": "Python 3 (ipykernel)",
   "language": "python",
   "name": "python3"
  },
  "language_info": {
   "codemirror_mode": {
    "name": "ipython",
    "version": 3
   },
   "file_extension": ".py",
   "mimetype": "text/x-python",
   "name": "python",
   "nbconvert_exporter": "python",
   "pygments_lexer": "ipython3",
   "version": "3.9.7"
  }
 },
 "nbformat": 4,
 "nbformat_minor": 1
}
