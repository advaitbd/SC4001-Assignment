{
 "cells": [
  {
   "attachments": {},
   "cell_type": "markdown",
   "metadata": {
    "id": "jnRX6LUnqBpw"
   },
   "source": [
    "CS4001/4042 Assignment 1, Part B, Q1\n",
    "---\n",
    "\n",
    "Real world datasets often have a mix of numeric and categorical features – this dataset is one example. To build models on such data, categorical features have to be encoded or embedded.\n",
    "\n",
    "PyTorch Tabular is a library that makes it very convenient to build neural networks for tabular data. It is built on top of PyTorch Lightning, which abstracts away boilerplate model training code and makes it easy to integrate other tools, e.g. TensorBoard for experiment tracking.\n",
    "\n",
    "For questions B1 and B2, the following features should be used:   \n",
    "- **Numeric / Continuous** features: dist_to_nearest_stn, dist_to_dhoby, degree_centrality, eigenvector_centrality, remaining_lease_years, floor_area_sqm\n",
    "- **Categorical** features: month, town, flat_model_type, storey_range"
   ]
  },
  {
   "attachments": {},
   "cell_type": "markdown",
   "metadata": {
    "id": "Kn0j2MRKqKVs"
   },
   "source": [
    "\n",
    "\n",
    "---\n",
    "\n"
   ]
  },
  {
   "cell_type": "code",
   "execution_count": 16,
   "metadata": {
    "id": "jA67PbIY3PnH"
   },
   "outputs": [
    {
     "name": "stdout",
     "output_type": "stream",
     "text": [
      "zsh:1: no matches found: pytorch_tabular[extra]\n"
     ]
    }
   ],
   "source": [
    "!pip install pytorch_tabular[extra]"
   ]
  },
  {
   "cell_type": "code",
   "execution_count": 1,
   "metadata": {
    "id": "Jr6P3U7w3NVl"
   },
   "outputs": [],
   "source": [
    "SEED = 42\n",
    "\n",
    "import os\n",
    "\n",
    "import random\n",
    "random.seed(SEED)\n",
    "\n",
    "import numpy as np\n",
    "np.random.seed(SEED)\n",
    "\n",
    "import pandas as pd\n",
    "\n",
    "from pytorch_tabular import TabularModel\n",
    "from pytorch_tabular.models import CategoryEmbeddingModelConfig\n",
    "from pytorch_tabular.config import (\n",
    "    DataConfig,\n",
    "    OptimizerConfig,\n",
    "    TrainerConfig,\n",
    ")"
   ]
  },
  {
   "attachments": {},
   "cell_type": "markdown",
   "metadata": {
    "id": "zGyEWcVlqKTz"
   },
   "source": [
    "> Divide the dataset (‘hdb_price_prediction.csv’) into train, validation and test sets by using entries from year 2019 and before as training data, year 2020 as validation data and year 2021 as test data.\n",
    "**Do not** use data from year 2022 and year 2023.\n",
    "\n"
   ]
  },
  {
   "cell_type": "code",
   "execution_count": 3,
   "metadata": {
    "id": "hoCPcOWupw5Y"
   },
   "outputs": [],
   "source": [
    "df = pd.read_csv('hdb_price_prediction.csv')\n",
    "\n",
    "# TODO: Enter your code here\n",
    "\n",
    "train_data = df[df['year'] <= 2019]\n",
    "validation_data = df[df['year'] == 2020]\n",
    "test_data = df[df['year'] == 2021]"
   ]
  },
  {
   "attachments": {},
   "cell_type": "markdown",
   "metadata": {
    "id": "sebMgSuzqPe7"
   },
   "source": [
    "> Refer to the documentation of **PyTorch Tabular** and perform the following tasks: https://pytorch-tabular.readthedocs.io/en/latest/#usage\n",
    "- Use **[DataConfig](https://pytorch-tabular.readthedocs.io/en/latest/data/)** to define the target variable, as well as the names of the continuous and categorical variables.\n",
    "- Use **[TrainerConfig](https://pytorch-tabular.readthedocs.io/en/latest/training/)** to automatically tune the learning rate. Set batch_size to be 1024 and set max_epoch as 50.\n",
    "- Use **[CategoryEmbeddingModelConfig](https://pytorch-tabular.readthedocs.io/en/latest/models/#category-embedding-model)** to create a feedforward neural network with 1 hidden layer containing 50 neurons.\n",
    "- Use **[OptimizerConfig](https://pytorch-tabular.readthedocs.io/en/latest/optimizer/)** to choose Adam optimiser. There is no need to set the learning rate (since it will be tuned automatically) nor scheduler.\n",
    "- Use **[TabularModel](https://pytorch-tabular.readthedocs.io/en/latest/tabular_model/)** to initialise the model and put all the configs together."
   ]
  },
  {
   "cell_type": "code",
   "execution_count": 9,
   "metadata": {
    "id": "ZZWAYdNhqPzh"
   },
   "outputs": [
    {
     "name": "stderr",
     "output_type": "stream",
     "text": [
      "2023-10-08 19:22:24,682 - {pytorch_tabular.tabular_model:105} - INFO - Experiment Tracking is turned off\n",
      "Global seed set to 42\n",
      "2023-10-08 19:22:24,700 - {pytorch_tabular.tabular_model:473} - INFO - Preparing the DataLoaders\n",
      "2023-10-08 19:22:24,704 - {pytorch_tabular.tabular_datamodule:290} - INFO - Setting up the datamodule for regression task\n",
      "2023-10-08 19:22:24,766 - {pytorch_tabular.tabular_model:521} - INFO - Preparing the Model: CategoryEmbeddingModel\n",
      "2023-10-08 19:22:24,783 - {pytorch_tabular.tabular_model:268} - INFO - Preparing the Trainer\n",
      "/Users/advait/Desktop/gitpositories/SC4001-Assignment/env/lib/python3.9/site-packages/pytorch_lightning/trainer/connectors/accelerator_connector.py:589: LightningDeprecationWarning: The Trainer argument `auto_select_gpus` has been deprecated in v1.9.0 and will be removed in v2.0.0. Please use the function `pytorch_lightning.accelerators.find_usable_cuda_devices` instead.\n",
      "  rank_zero_deprecation(\n",
      "GPU available: False, used: False\n",
      "TPU available: False, using: 0 TPU cores\n",
      "IPU available: False, using: 0 IPUs\n",
      "HPU available: False, using: 0 HPUs\n",
      "2023-10-08 19:22:24,804 - {pytorch_tabular.tabular_model:573} - INFO - Auto LR Find Started\n",
      "/Users/advait/Desktop/gitpositories/SC4001-Assignment/env/lib/python3.9/site-packages/pytorch_lightning/callbacks/model_checkpoint.py:613: UserWarning: Checkpoint directory /Users/advait/Desktop/gitpositories/SC4001-Assignment/saved_models exists and is not empty.\n",
      "  rank_zero_warn(f\"Checkpoint directory {dirpath} exists and is not empty.\")\n",
      "/Users/advait/Desktop/gitpositories/SC4001-Assignment/env/lib/python3.9/site-packages/pytorch_lightning/trainer/connectors/data_connector.py:224: PossibleUserWarning: The dataloader, train_dataloader, does not have many workers which may be a bottleneck. Consider increasing the value of the `num_workers` argument` (try 8 which is the number of cpus on this machine) in the `DataLoader` init to improve performance.\n",
      "  rank_zero_warn(\n",
      "/Users/advait/Desktop/gitpositories/SC4001-Assignment/env/lib/python3.9/site-packages/pytorch_lightning/trainer/connectors/data_connector.py:224: PossibleUserWarning: The dataloader, val_dataloader 0, does not have many workers which may be a bottleneck. Consider increasing the value of the `num_workers` argument` (try 8 which is the number of cpus on this machine) in the `DataLoader` init to improve performance.\n",
      "  rank_zero_warn(\n",
      "/Users/advait/Desktop/gitpositories/SC4001-Assignment/env/lib/python3.9/site-packages/pytorch_lightning/core/module.py:493: UserWarning: You called `self.log('valid_loss', ..., logger=True)` but have no logger configured. You can enable one by doing `Trainer(logger=ALogger(...))`\n",
      "  rank_zero_warn(\n",
      "/Users/advait/Desktop/gitpositories/SC4001-Assignment/env/lib/python3.9/site-packages/pytorch_lightning/core/module.py:493: UserWarning: You called `self.log('valid_mean_squared_error', ..., logger=True)` but have no logger configured. You can enable one by doing `Trainer(logger=ALogger(...))`\n",
      "  rank_zero_warn(\n"
     ]
    },
    {
     "data": {
      "application/vnd.jupyter.widget-view+json": {
       "model_id": "9c96fdc495104e9a890e530aeff63c92",
       "version_major": 2,
       "version_minor": 0
      },
      "text/plain": [
       "Finding best initial lr:   0%|          | 0/100 [00:00<?, ?it/s]"
      ]
     },
     "metadata": {},
     "output_type": "display_data"
    },
    {
     "name": "stderr",
     "output_type": "stream",
     "text": [
      "/Users/advait/Desktop/gitpositories/SC4001-Assignment/env/lib/python3.9/site-packages/pytorch_lightning/core/module.py:493: UserWarning: You called `self.log('train_loss', ..., logger=True)` but have no logger configured. You can enable one by doing `Trainer(logger=ALogger(...))`\n",
      "  rank_zero_warn(\n",
      "/Users/advait/Desktop/gitpositories/SC4001-Assignment/env/lib/python3.9/site-packages/pytorch_lightning/core/module.py:493: UserWarning: You called `self.log('train_mean_squared_error', ..., logger=True)` but have no logger configured. You can enable one by doing `Trainer(logger=ALogger(...))`\n",
      "  rank_zero_warn(\n",
      "`Trainer.fit` stopped: `max_steps=100` reached.\n",
      "Learning rate set to 0.5754399373371567\n",
      "Restoring states from the checkpoint path at /Users/advait/Desktop/gitpositories/SC4001-Assignment/.lr_find_835d11ee-b915-4359-9377-83aaad2c5f1d.ckpt\n",
      "Restored all states from the checkpoint file at /Users/advait/Desktop/gitpositories/SC4001-Assignment/.lr_find_835d11ee-b915-4359-9377-83aaad2c5f1d.ckpt\n",
      "2023-10-08 19:22:27,550 - {pytorch_tabular.tabular_model:575} - INFO - Suggested LR: 0.5754399373371567. For plot and detailed analysis, use `find_learning_rate` method.\n",
      "2023-10-08 19:22:27,551 - {pytorch_tabular.tabular_model:582} - INFO - Training Started\n"
     ]
    },
    {
     "data": {
      "text/html": [
       "<pre style=\"white-space:pre;overflow-x:auto;line-height:normal;font-family:Menlo,'DejaVu Sans Mono',consolas,'Courier New',monospace\">┏━━━┳━━━━━━━━━━━━━━━━━━┳━━━━━━━━━━━━━━━━━━━━━━━━━━━┳━━━━━━━━┓\n",
       "┃<span style=\"color: #800080; text-decoration-color: #800080; font-weight: bold\">   </span>┃<span style=\"color: #800080; text-decoration-color: #800080; font-weight: bold\"> Name             </span>┃<span style=\"color: #800080; text-decoration-color: #800080; font-weight: bold\"> Type                      </span>┃<span style=\"color: #800080; text-decoration-color: #800080; font-weight: bold\"> Params </span>┃\n",
       "┡━━━╇━━━━━━━━━━━━━━━━━━╇━━━━━━━━━━━━━━━━━━━━━━━━━━━╇━━━━━━━━┩\n",
       "│<span style=\"color: #7f7f7f; text-decoration-color: #7f7f7f\"> 0 </span>│ _backbone        │ CategoryEmbeddingBackbone │  2.9 K │\n",
       "│<span style=\"color: #7f7f7f; text-decoration-color: #7f7f7f\"> 1 </span>│ _embedding_layer │ Embedding1dLayer          │  1.5 K │\n",
       "│<span style=\"color: #7f7f7f; text-decoration-color: #7f7f7f\"> 2 </span>│ head             │ LinearHead                │     51 │\n",
       "│<span style=\"color: #7f7f7f; text-decoration-color: #7f7f7f\"> 3 </span>│ loss             │ MSELoss                   │      0 │\n",
       "└───┴──────────────────┴───────────────────────────┴────────┘\n",
       "</pre>\n"
      ],
      "text/plain": [
       "┏━━━┳━━━━━━━━━━━━━━━━━━┳━━━━━━━━━━━━━━━━━━━━━━━━━━━┳━━━━━━━━┓\n",
       "┃\u001b[1;35m \u001b[0m\u001b[1;35m \u001b[0m\u001b[1;35m \u001b[0m┃\u001b[1;35m \u001b[0m\u001b[1;35mName            \u001b[0m\u001b[1;35m \u001b[0m┃\u001b[1;35m \u001b[0m\u001b[1;35mType                     \u001b[0m\u001b[1;35m \u001b[0m┃\u001b[1;35m \u001b[0m\u001b[1;35mParams\u001b[0m\u001b[1;35m \u001b[0m┃\n",
       "┡━━━╇━━━━━━━━━━━━━━━━━━╇━━━━━━━━━━━━━━━━━━━━━━━━━━━╇━━━━━━━━┩\n",
       "│\u001b[2m \u001b[0m\u001b[2m0\u001b[0m\u001b[2m \u001b[0m│ _backbone        │ CategoryEmbeddingBackbone │  2.9 K │\n",
       "│\u001b[2m \u001b[0m\u001b[2m1\u001b[0m\u001b[2m \u001b[0m│ _embedding_layer │ Embedding1dLayer          │  1.5 K │\n",
       "│\u001b[2m \u001b[0m\u001b[2m2\u001b[0m\u001b[2m \u001b[0m│ head             │ LinearHead                │     51 │\n",
       "│\u001b[2m \u001b[0m\u001b[2m3\u001b[0m\u001b[2m \u001b[0m│ loss             │ MSELoss                   │      0 │\n",
       "└───┴──────────────────┴───────────────────────────┴────────┘\n"
      ]
     },
     "metadata": {},
     "output_type": "display_data"
    },
    {
     "data": {
      "text/html": [
       "<pre style=\"white-space:pre;overflow-x:auto;line-height:normal;font-family:Menlo,'DejaVu Sans Mono',consolas,'Courier New',monospace\"><span style=\"font-weight: bold\">Trainable params</span>: 4.5 K                                                                                            \n",
       "<span style=\"font-weight: bold\">Non-trainable params</span>: 0                                                                                            \n",
       "<span style=\"font-weight: bold\">Total params</span>: 4.5 K                                                                                                \n",
       "<span style=\"font-weight: bold\">Total estimated model params size (MB)</span>: 0                                                                          \n",
       "</pre>\n"
      ],
      "text/plain": [
       "\u001b[1mTrainable params\u001b[0m: 4.5 K                                                                                            \n",
       "\u001b[1mNon-trainable params\u001b[0m: 0                                                                                            \n",
       "\u001b[1mTotal params\u001b[0m: 4.5 K                                                                                                \n",
       "\u001b[1mTotal estimated model params size (MB)\u001b[0m: 0                                                                          \n"
      ]
     },
     "metadata": {},
     "output_type": "display_data"
    },
    {
     "data": {
      "application/vnd.jupyter.widget-view+json": {
       "model_id": "1e884b747bf94c36a013b4da739b3392",
       "version_major": 2,
       "version_minor": 0
      },
      "text/plain": [
       "Output()"
      ]
     },
     "metadata": {},
     "output_type": "display_data"
    },
    {
     "data": {
      "text/html": [
       "<pre style=\"white-space:pre;overflow-x:auto;line-height:normal;font-family:Menlo,'DejaVu Sans Mono',consolas,'Courier New',monospace\"></pre>\n"
      ],
      "text/plain": []
     },
     "metadata": {},
     "output_type": "display_data"
    },
    {
     "data": {
      "text/html": [
       "<pre style=\"white-space:pre;overflow-x:auto;line-height:normal;font-family:Menlo,'DejaVu Sans Mono',consolas,'Courier New',monospace\">\n",
       "</pre>\n"
      ],
      "text/plain": [
       "\n"
      ]
     },
     "metadata": {},
     "output_type": "display_data"
    },
    {
     "name": "stderr",
     "output_type": "stream",
     "text": [
      "2023-10-08 19:22:46,042 - {pytorch_tabular.tabular_model:584} - INFO - Training the model completed\n",
      "2023-10-08 19:22:46,044 - {pytorch_tabular.tabular_model:1258} - INFO - Loading the best model\n"
     ]
    },
    {
     "data": {
      "application/vnd.jupyter.widget-view+json": {
       "model_id": "6fd0bed888f64c518a1843ba716986d6",
       "version_major": 2,
       "version_minor": 0
      },
      "text/plain": [
       "Output()"
      ]
     },
     "metadata": {},
     "output_type": "display_data"
    },
    {
     "data": {
      "text/html": [
       "<pre style=\"white-space:pre;overflow-x:auto;line-height:normal;font-family:Menlo,'DejaVu Sans Mono',consolas,'Courier New',monospace\">/Users/advait/Desktop/gitpositories/SC4001-Assignment/env/lib/python3.9/site-packages/pytorch_lightning/core/module\n",
       ".py:493: UserWarning: You called `self.log('test_loss', ..., logger=True)` but have no logger configured. You can \n",
       "enable one by doing `Trainer(logger=ALogger(...))`\n",
       "  rank_zero_warn(\n",
       "</pre>\n"
      ],
      "text/plain": [
       "/Users/advait/Desktop/gitpositories/SC4001-Assignment/env/lib/python3.9/site-packages/pytorch_lightning/core/module\n",
       ".py:493: UserWarning: You called `self.log('test_loss', ..., logger=True)` but have no logger configured. You can \n",
       "enable one by doing `Trainer(logger=ALogger(...))`\n",
       "  rank_zero_warn(\n"
      ]
     },
     "metadata": {},
     "output_type": "display_data"
    },
    {
     "data": {
      "text/html": [
       "<pre style=\"white-space:pre;overflow-x:auto;line-height:normal;font-family:Menlo,'DejaVu Sans Mono',consolas,'Courier New',monospace\">/Users/advait/Desktop/gitpositories/SC4001-Assignment/env/lib/python3.9/site-packages/pytorch_lightning/core/module\n",
       ".py:493: UserWarning: You called `self.log('test_mean_squared_error', ..., logger=True)` but have no logger \n",
       "configured. You can enable one by doing `Trainer(logger=ALogger(...))`\n",
       "  rank_zero_warn(\n",
       "</pre>\n"
      ],
      "text/plain": [
       "/Users/advait/Desktop/gitpositories/SC4001-Assignment/env/lib/python3.9/site-packages/pytorch_lightning/core/module\n",
       ".py:493: UserWarning: You called `self.log('test_mean_squared_error', ..., logger=True)` but have no logger \n",
       "configured. You can enable one by doing `Trainer(logger=ALogger(...))`\n",
       "  rank_zero_warn(\n"
      ]
     },
     "metadata": {},
     "output_type": "display_data"
    },
    {
     "name": "stderr",
     "output_type": "stream",
     "text": [
      "/Users/advait/Desktop/gitpositories/SC4001-Assignment/env/lib/python3.9/site-packages/pytorch_lightning/utilities/cloud_io.py:33: LightningDeprecationWarning: `pytorch_lightning.utilities.cloud_io.get_filesystem` has been deprecated in v1.8.0 and will be removed in v2.0.0. Please use `lightning_fabric.utilities.cloud_io.get_filesystem` instead.\n",
      "  rank_zero_deprecation(\n",
      "/Users/advait/Desktop/gitpositories/SC4001-Assignment/env/lib/python3.9/site-packages/pytorch_lightning/trainer/connectors/data_connector.py:224: PossibleUserWarning: The dataloader, test_dataloader 0, does not have many workers which may be a bottleneck. Consider increasing the value of the `num_workers` argument` (try 8 which is the number of cpus on this machine) in the `DataLoader` init to improve performance.\n",
      "  rank_zero_warn(\n"
     ]
    },
    {
     "data": {
      "text/html": [
       "<pre style=\"white-space:pre;overflow-x:auto;line-height:normal;font-family:Menlo,'DejaVu Sans Mono',consolas,'Courier New',monospace\">┏━━━━━━━━━━━━━━━━━━━━━━━━━━━┳━━━━━━━━━━━━━━━━━━━━━━━━━━━┓\n",
       "┃<span style=\"font-weight: bold\">        Test metric        </span>┃<span style=\"font-weight: bold\">       DataLoader 0        </span>┃\n",
       "┡━━━━━━━━━━━━━━━━━━━━━━━━━━━╇━━━━━━━━━━━━━━━━━━━━━━━━━━━┩\n",
       "│<span style=\"color: #008080; text-decoration-color: #008080\">         test_loss         </span>│<span style=\"color: #800080; text-decoration-color: #800080\">       5882418176.0        </span>│\n",
       "│<span style=\"color: #008080; text-decoration-color: #008080\">  test_mean_squared_error  </span>│<span style=\"color: #800080; text-decoration-color: #800080\">       5882418176.0        </span>│\n",
       "└───────────────────────────┴───────────────────────────┘\n",
       "</pre>\n"
      ],
      "text/plain": [
       "┏━━━━━━━━━━━━━━━━━━━━━━━━━━━┳━━━━━━━━━━━━━━━━━━━━━━━━━━━┓\n",
       "┃\u001b[1m \u001b[0m\u001b[1m       Test metric       \u001b[0m\u001b[1m \u001b[0m┃\u001b[1m \u001b[0m\u001b[1m      DataLoader 0       \u001b[0m\u001b[1m \u001b[0m┃\n",
       "┡━━━━━━━━━━━━━━━━━━━━━━━━━━━╇━━━━━━━━━━━━━━━━━━━━━━━━━━━┩\n",
       "│\u001b[36m \u001b[0m\u001b[36m        test_loss        \u001b[0m\u001b[36m \u001b[0m│\u001b[35m \u001b[0m\u001b[35m      5882418176.0       \u001b[0m\u001b[35m \u001b[0m│\n",
       "│\u001b[36m \u001b[0m\u001b[36m test_mean_squared_error \u001b[0m\u001b[36m \u001b[0m│\u001b[35m \u001b[0m\u001b[35m      5882418176.0       \u001b[0m\u001b[35m \u001b[0m│\n",
       "└───────────────────────────┴───────────────────────────┘\n"
      ]
     },
     "metadata": {},
     "output_type": "display_data"
    },
    {
     "data": {
      "text/html": [
       "<pre style=\"white-space:pre;overflow-x:auto;line-height:normal;font-family:Menlo,'DejaVu Sans Mono',consolas,'Courier New',monospace\"></pre>\n"
      ],
      "text/plain": []
     },
     "metadata": {},
     "output_type": "display_data"
    },
    {
     "data": {
      "text/html": [
       "<pre style=\"white-space:pre;overflow-x:auto;line-height:normal;font-family:Menlo,'DejaVu Sans Mono',consolas,'Courier New',monospace\">\n",
       "</pre>\n"
      ],
      "text/plain": [
       "\n"
      ]
     },
     "metadata": {},
     "output_type": "display_data"
    },
    {
     "data": {
      "application/vnd.jupyter.widget-view+json": {
       "model_id": "5945f415320c4f9b9239c90485a38b55",
       "version_major": 2,
       "version_minor": 0
      },
      "text/plain": [
       "Output()"
      ]
     },
     "metadata": {},
     "output_type": "display_data"
    },
    {
     "data": {
      "text/html": [
       "<pre style=\"white-space:pre;overflow-x:auto;line-height:normal;font-family:Menlo,'DejaVu Sans Mono',consolas,'Courier New',monospace\"></pre>\n"
      ],
      "text/plain": []
     },
     "metadata": {},
     "output_type": "display_data"
    },
    {
     "data": {
      "text/html": [
       "<pre style=\"white-space:pre;overflow-x:auto;line-height:normal;font-family:Menlo,'DejaVu Sans Mono',consolas,'Courier New',monospace\">\n",
       "</pre>\n"
      ],
      "text/plain": [
       "\n"
      ]
     },
     "metadata": {},
     "output_type": "display_data"
    }
   ],
   "source": [
    "# TODO: Enter your code here\n",
    "\n",
    "# Define the target variable and the names of the continuous and categorical variables\n",
    "target = ['resale_price']\n",
    "continuous_cols = ['dist_to_nearest_stn', 'dist_to_dhoby', 'degree_centrality', 'eigenvector_centrality', 'remaining_lease_years', 'floor_area_sqm']\n",
    "categorical_cols = ['month', 'town', 'flat_model_type', 'storey_range']\n",
    "\n",
    "# Define the data configuration\n",
    "data_config = DataConfig(\n",
    "    target=target,\n",
    "    continuous_cols=continuous_cols,\n",
    "    categorical_cols=categorical_cols\n",
    ")\n",
    "\n",
    "# Define the trainer configuration\n",
    "trainer_config = TrainerConfig(\n",
    "    auto_lr_find=True,\n",
    "    batch_size=1024,\n",
    "    max_epochs=50\n",
    ")\n",
    "\n",
    "# Define the category embedding model configuration\n",
    "model_config = CategoryEmbeddingModelConfig(\n",
    "    task=\"regression\",\n",
    "    layers=\"50\",\n",
    ")\n",
    "\n",
    "# Define Optimizer Config\n",
    "optimizer_config = OptimizerConfig()\n",
    "\n",
    "# Initialise the model and put all the configs together\n",
    "model = TabularModel(\n",
    "    data_config=data_config,\n",
    "    model_config=model_config,\n",
    "    optimizer_config=optimizer_config,\n",
    "    trainer_config=trainer_config\n",
    ")\n",
    "\n",
    "# Train the model\n",
    "model.fit(train=train_data, validation=validation_data)\n",
    "\n",
    "# Report the test RMSE error and the test R2 value that you obtained\n",
    "results = model.evaluate(test_data)\n",
    "predictions = model.predict(test_data)"
   ]
  },
  {
   "attachments": {},
   "cell_type": "markdown",
   "metadata": {
    "id": "-2UXPKq0qWQG"
   },
   "source": [
    "> Report the test RMSE error and the test R2 value that you obtained.\n",
    "\n"
   ]
  },
  {
   "attachments": {},
   "cell_type": "markdown",
   "metadata": {
    "id": "zmE9Bc7Nqadi"
   },
   "source": [
    "\\# TODO: \\<Enter your answer here\\>"
   ]
  },
  {
   "cell_type": "code",
   "execution_count": 23,
   "metadata": {},
   "outputs": [
    {
     "name": "stdout",
     "output_type": "stream",
     "text": [
      "RMSE:  76696.92586971245\n",
      "R2:  0.7776187530460417\n"
     ]
    }
   ],
   "source": [
    "import math\n",
    "from sklearn.metrics import r2_score, mean_squared_error\n",
    "\n",
    "print(\"RMSE: \", math.sqrt(mean_squared_error(test_data['resale_price'], predictions['resale_price_prediction'])))\n",
    "print(\"R2: \", r2_score(test_data['resale_price'], predictions['resale_price_prediction']))\n"
   ]
  },
  {
   "attachments": {},
   "cell_type": "markdown",
   "metadata": {
    "id": "NEJhRU18qX22"
   },
   "source": [
    "> Print out the corresponding rows in the dataframe for the top 25 test samples with the largest errors. Identify a trend in these poor predictions and suggest a way to reduce these errors.\n",
    "\n"
   ]
  },
  {
   "cell_type": "code",
   "execution_count": 25,
   "metadata": {
    "id": "5ma5K9vKqZEq"
   },
   "outputs": [
    {
     "name": "stderr",
     "output_type": "stream",
     "text": [
      "/var/folders/lv/l4xn1q3s7jxgwb_811k8vqrh0000gn/T/ipykernel_218/3415974338.py:5: SettingWithCopyWarning: \n",
      "A value is trying to be set on a copy of a slice from a DataFrame.\n",
      "Try using .loc[row_indexer,col_indexer] = value instead\n",
      "\n",
      "See the caveats in the documentation: https://pandas.pydata.org/pandas-docs/stable/user_guide/indexing.html#returning-a-view-versus-a-copy\n",
      "  test_data['predictions'] = predictions['resale_price_prediction']\n",
      "/var/folders/lv/l4xn1q3s7jxgwb_811k8vqrh0000gn/T/ipykernel_218/3415974338.py:6: SettingWithCopyWarning: \n",
      "A value is trying to be set on a copy of a slice from a DataFrame.\n",
      "Try using .loc[row_indexer,col_indexer] = value instead\n",
      "\n",
      "See the caveats in the documentation: https://pandas.pydata.org/pandas-docs/stable/user_guide/indexing.html#returning-a-view-versus-a-copy\n",
      "  test_data['error'] = (test_data['resale_price'] - test_data['predictions'])**2\n"
     ]
    }
   ],
   "source": [
    "# TODO: Enter your code here\n",
    "\n",
    "# print out rows for top 25 test samples with largest errors\n",
    "\n",
    "test_data['predictions'] = predictions['resale_price_prediction']\n",
    "test_data['error'] = (test_data['resale_price'] - test_data['predictions'])**2\n",
    "worst = test_data.sort_values(by=['error'], ascending=False).head(25)\n",
    "best = test_data.sort_values(by=['error'], ascending=True).head(25)"
   ]
  },
  {
   "attachments": {},
   "cell_type": "markdown",
   "metadata": {
    "id": "bX5zy7V3qaGp"
   },
   "source": [
    "\\# TODO: \\<Enter your answer here\\>"
   ]
  },
  {
   "cell_type": "code",
   "execution_count": 30,
   "metadata": {},
   "outputs": [
    {
     "data": {
      "text/html": [
       "<div>\n",
       "<style scoped>\n",
       "    .dataframe tbody tr th:only-of-type {\n",
       "        vertical-align: middle;\n",
       "    }\n",
       "\n",
       "    .dataframe tbody tr th {\n",
       "        vertical-align: top;\n",
       "    }\n",
       "\n",
       "    .dataframe thead th {\n",
       "        text-align: right;\n",
       "    }\n",
       "</style>\n",
       "<table border=\"1\" class=\"dataframe\">\n",
       "  <thead>\n",
       "    <tr style=\"text-align: right;\">\n",
       "      <th></th>\n",
       "      <th>month</th>\n",
       "      <th>year</th>\n",
       "      <th>town</th>\n",
       "      <th>full_address</th>\n",
       "      <th>nearest_stn</th>\n",
       "      <th>dist_to_nearest_stn</th>\n",
       "      <th>dist_to_dhoby</th>\n",
       "      <th>degree_centrality</th>\n",
       "      <th>eigenvector_centrality</th>\n",
       "      <th>flat_model_type</th>\n",
       "      <th>remaining_lease_years</th>\n",
       "      <th>floor_area_sqm</th>\n",
       "      <th>storey_range</th>\n",
       "      <th>resale_price</th>\n",
       "      <th>predictions</th>\n",
       "      <th>error</th>\n",
       "    </tr>\n",
       "  </thead>\n",
       "  <tbody>\n",
       "    <tr>\n",
       "      <th>92405</th>\n",
       "      <td>11</td>\n",
       "      <td>2021</td>\n",
       "      <td>BUKIT MERAH</td>\n",
       "      <td>46 SENG POH ROAD</td>\n",
       "      <td>Tiong Bahru</td>\n",
       "      <td>0.581977</td>\n",
       "      <td>2.309477</td>\n",
       "      <td>0.016807</td>\n",
       "      <td>0.047782</td>\n",
       "      <td>3 ROOM, Standard</td>\n",
       "      <td>50.166667</td>\n",
       "      <td>88.0</td>\n",
       "      <td>01 TO 03</td>\n",
       "      <td>780000.0</td>\n",
       "      <td>3.646865e+05</td>\n",
       "      <td>1.724853e+11</td>\n",
       "    </tr>\n",
       "    <tr>\n",
       "      <th>90957</th>\n",
       "      <td>6</td>\n",
       "      <td>2021</td>\n",
       "      <td>BUKIT BATOK</td>\n",
       "      <td>288A BUKIT BATOK STREET 25</td>\n",
       "      <td>Bukit Batok</td>\n",
       "      <td>1.292540</td>\n",
       "      <td>10.763777</td>\n",
       "      <td>0.016807</td>\n",
       "      <td>0.000217</td>\n",
       "      <td>EXECUTIVE, Apartment</td>\n",
       "      <td>75.583333</td>\n",
       "      <td>144.0</td>\n",
       "      <td>10 TO 12</td>\n",
       "      <td>968000.0</td>\n",
       "      <td>6.144983e+05</td>\n",
       "      <td>1.249634e+11</td>\n",
       "    </tr>\n",
       "    <tr>\n",
       "      <th>112128</th>\n",
       "      <td>12</td>\n",
       "      <td>2021</td>\n",
       "      <td>TAMPINES</td>\n",
       "      <td>156 TAMPINES STREET 12</td>\n",
       "      <td>Tampines</td>\n",
       "      <td>0.370873</td>\n",
       "      <td>12.479752</td>\n",
       "      <td>0.033613</td>\n",
       "      <td>0.000229</td>\n",
       "      <td>EXECUTIVE, Maisonette</td>\n",
       "      <td>61.750000</td>\n",
       "      <td>148.0</td>\n",
       "      <td>01 TO 03</td>\n",
       "      <td>998000.0</td>\n",
       "      <td>6.555936e+05</td>\n",
       "      <td>1.172421e+11</td>\n",
       "    </tr>\n",
       "    <tr>\n",
       "      <th>90608</th>\n",
       "      <td>12</td>\n",
       "      <td>2021</td>\n",
       "      <td>BISHAN</td>\n",
       "      <td>273B BISHAN STREET 24</td>\n",
       "      <td>Bishan</td>\n",
       "      <td>0.776182</td>\n",
       "      <td>6.297489</td>\n",
       "      <td>0.033613</td>\n",
       "      <td>0.015854</td>\n",
       "      <td>5 ROOM, DBSS</td>\n",
       "      <td>88.833333</td>\n",
       "      <td>120.0</td>\n",
       "      <td>37 TO 39</td>\n",
       "      <td>1360000.0</td>\n",
       "      <td>1.020589e+06</td>\n",
       "      <td>1.152001e+11</td>\n",
       "    </tr>\n",
       "    <tr>\n",
       "      <th>106192</th>\n",
       "      <td>12</td>\n",
       "      <td>2021</td>\n",
       "      <td>QUEENSTOWN</td>\n",
       "      <td>89 DAWSON ROAD</td>\n",
       "      <td>Queenstown</td>\n",
       "      <td>0.658035</td>\n",
       "      <td>3.807573</td>\n",
       "      <td>0.016807</td>\n",
       "      <td>0.008342</td>\n",
       "      <td>4 ROOM, Premium Apartment Loft</td>\n",
       "      <td>93.333333</td>\n",
       "      <td>109.0</td>\n",
       "      <td>04 TO 06</td>\n",
       "      <td>968000.0</td>\n",
       "      <td>6.359389e+05</td>\n",
       "      <td>1.102646e+11</td>\n",
       "    </tr>\n",
       "    <tr>\n",
       "      <th>91871</th>\n",
       "      <td>6</td>\n",
       "      <td>2021</td>\n",
       "      <td>BUKIT MERAH</td>\n",
       "      <td>17 TIONG BAHRU ROAD</td>\n",
       "      <td>Tiong Bahru</td>\n",
       "      <td>0.693391</td>\n",
       "      <td>2.058774</td>\n",
       "      <td>0.016807</td>\n",
       "      <td>0.047782</td>\n",
       "      <td>3 ROOM, Standard</td>\n",
       "      <td>50.583333</td>\n",
       "      <td>88.0</td>\n",
       "      <td>01 TO 03</td>\n",
       "      <td>680888.0</td>\n",
       "      <td>3.583568e+05</td>\n",
       "      <td>1.040264e+11</td>\n",
       "    </tr>\n",
       "    <tr>\n",
       "      <th>93825</th>\n",
       "      <td>8</td>\n",
       "      <td>2021</td>\n",
       "      <td>CENTRAL AREA</td>\n",
       "      <td>4 TANJONG PAGAR PLAZA</td>\n",
       "      <td>Tanjong Pagar</td>\n",
       "      <td>0.451637</td>\n",
       "      <td>2.594828</td>\n",
       "      <td>0.016807</td>\n",
       "      <td>0.103876</td>\n",
       "      <td>5 ROOM, Adjoined flat</td>\n",
       "      <td>54.583333</td>\n",
       "      <td>118.0</td>\n",
       "      <td>16 TO 18</td>\n",
       "      <td>938000.0</td>\n",
       "      <td>6.179542e+05</td>\n",
       "      <td>1.024293e+11</td>\n",
       "    </tr>\n",
       "    <tr>\n",
       "      <th>92504</th>\n",
       "      <td>12</td>\n",
       "      <td>2021</td>\n",
       "      <td>BUKIT MERAH</td>\n",
       "      <td>49 KIM PONG ROAD</td>\n",
       "      <td>Tiong Bahru</td>\n",
       "      <td>0.468378</td>\n",
       "      <td>2.365532</td>\n",
       "      <td>0.016807</td>\n",
       "      <td>0.047782</td>\n",
       "      <td>3 ROOM, Standard</td>\n",
       "      <td>50.166667</td>\n",
       "      <td>88.0</td>\n",
       "      <td>01 TO 03</td>\n",
       "      <td>695000.0</td>\n",
       "      <td>3.760023e+05</td>\n",
       "      <td>1.017595e+11</td>\n",
       "    </tr>\n",
       "    <tr>\n",
       "      <th>105695</th>\n",
       "      <td>6</td>\n",
       "      <td>2021</td>\n",
       "      <td>QUEENSTOWN</td>\n",
       "      <td>91 DAWSON ROAD</td>\n",
       "      <td>Queenstown</td>\n",
       "      <td>0.745596</td>\n",
       "      <td>3.720593</td>\n",
       "      <td>0.016807</td>\n",
       "      <td>0.008342</td>\n",
       "      <td>4 ROOM, Premium Apartment Loft</td>\n",
       "      <td>93.916667</td>\n",
       "      <td>97.0</td>\n",
       "      <td>07 TO 09</td>\n",
       "      <td>930000.0</td>\n",
       "      <td>6.124678e+05</td>\n",
       "      <td>1.008267e+11</td>\n",
       "    </tr>\n",
       "    <tr>\n",
       "      <th>90432</th>\n",
       "      <td>8</td>\n",
       "      <td>2021</td>\n",
       "      <td>BISHAN</td>\n",
       "      <td>275A BISHAN STREET 24</td>\n",
       "      <td>Bishan</td>\n",
       "      <td>0.827889</td>\n",
       "      <td>6.370404</td>\n",
       "      <td>0.033613</td>\n",
       "      <td>0.015854</td>\n",
       "      <td>5 ROOM, DBSS</td>\n",
       "      <td>88.916667</td>\n",
       "      <td>120.0</td>\n",
       "      <td>25 TO 27</td>\n",
       "      <td>1280000.0</td>\n",
       "      <td>9.629781e+05</td>\n",
       "      <td>1.005029e+11</td>\n",
       "    </tr>\n",
       "    <tr>\n",
       "      <th>92299</th>\n",
       "      <td>10</td>\n",
       "      <td>2021</td>\n",
       "      <td>BUKIT MERAH</td>\n",
       "      <td>36 MOH GUAN TERRACE</td>\n",
       "      <td>Tiong Bahru</td>\n",
       "      <td>0.490926</td>\n",
       "      <td>2.278805</td>\n",
       "      <td>0.016807</td>\n",
       "      <td>0.047782</td>\n",
       "      <td>3 ROOM, Standard</td>\n",
       "      <td>50.333333</td>\n",
       "      <td>88.0</td>\n",
       "      <td>01 TO 03</td>\n",
       "      <td>690000.0</td>\n",
       "      <td>3.759402e+05</td>\n",
       "      <td>9.863355e+10</td>\n",
       "    </tr>\n",
       "    <tr>\n",
       "      <th>92442</th>\n",
       "      <td>11</td>\n",
       "      <td>2021</td>\n",
       "      <td>BUKIT MERAH</td>\n",
       "      <td>127D KIM TIAN ROAD</td>\n",
       "      <td>Tiong Bahru</td>\n",
       "      <td>0.686789</td>\n",
       "      <td>2.664024</td>\n",
       "      <td>0.016807</td>\n",
       "      <td>0.047782</td>\n",
       "      <td>5 ROOM, Improved</td>\n",
       "      <td>90.333333</td>\n",
       "      <td>113.0</td>\n",
       "      <td>16 TO 18</td>\n",
       "      <td>1165000.0</td>\n",
       "      <td>8.518172e+05</td>\n",
       "      <td>9.808343e+10</td>\n",
       "    </tr>\n",
       "    <tr>\n",
       "      <th>93895</th>\n",
       "      <td>11</td>\n",
       "      <td>2021</td>\n",
       "      <td>CENTRAL AREA</td>\n",
       "      <td>3 TANJONG PAGAR PLAZA</td>\n",
       "      <td>Tanjong Pagar</td>\n",
       "      <td>0.490378</td>\n",
       "      <td>2.630876</td>\n",
       "      <td>0.016807</td>\n",
       "      <td>0.103876</td>\n",
       "      <td>5 ROOM, Adjoined flat</td>\n",
       "      <td>54.250000</td>\n",
       "      <td>139.0</td>\n",
       "      <td>07 TO 09</td>\n",
       "      <td>958000.0</td>\n",
       "      <td>6.479514e+05</td>\n",
       "      <td>9.613015e+10</td>\n",
       "    </tr>\n",
       "    <tr>\n",
       "      <th>105699</th>\n",
       "      <td>6</td>\n",
       "      <td>2021</td>\n",
       "      <td>QUEENSTOWN</td>\n",
       "      <td>91 DAWSON ROAD</td>\n",
       "      <td>Queenstown</td>\n",
       "      <td>0.745596</td>\n",
       "      <td>3.720593</td>\n",
       "      <td>0.016807</td>\n",
       "      <td>0.008342</td>\n",
       "      <td>4 ROOM, Premium Apartment Loft</td>\n",
       "      <td>93.916667</td>\n",
       "      <td>109.0</td>\n",
       "      <td>31 TO 33</td>\n",
       "      <td>1032888.0</td>\n",
       "      <td>7.242338e+05</td>\n",
       "      <td>9.526745e+10</td>\n",
       "    </tr>\n",
       "    <tr>\n",
       "      <th>88081</th>\n",
       "      <td>8</td>\n",
       "      <td>2021</td>\n",
       "      <td>ANG MO KIO</td>\n",
       "      <td>310A ANG MO KIO AVENUE 1</td>\n",
       "      <td>Ang Mo Kio</td>\n",
       "      <td>0.860056</td>\n",
       "      <td>7.263401</td>\n",
       "      <td>0.016807</td>\n",
       "      <td>0.006243</td>\n",
       "      <td>5 ROOM, Improved</td>\n",
       "      <td>90.166667</td>\n",
       "      <td>121.0</td>\n",
       "      <td>28 TO 30</td>\n",
       "      <td>1100000.0</td>\n",
       "      <td>7.917689e+05</td>\n",
       "      <td>9.500639e+10</td>\n",
       "    </tr>\n",
       "    <tr>\n",
       "      <th>106057</th>\n",
       "      <td>10</td>\n",
       "      <td>2021</td>\n",
       "      <td>QUEENSTOWN</td>\n",
       "      <td>92 DAWSON ROAD</td>\n",
       "      <td>Queenstown</td>\n",
       "      <td>0.584731</td>\n",
       "      <td>3.882019</td>\n",
       "      <td>0.016807</td>\n",
       "      <td>0.008342</td>\n",
       "      <td>4 ROOM, Premium Apartment Loft</td>\n",
       "      <td>93.500000</td>\n",
       "      <td>97.0</td>\n",
       "      <td>13 TO 15</td>\n",
       "      <td>958000.0</td>\n",
       "      <td>6.501535e+05</td>\n",
       "      <td>9.476947e+10</td>\n",
       "    </tr>\n",
       "    <tr>\n",
       "      <th>90521</th>\n",
       "      <td>10</td>\n",
       "      <td>2021</td>\n",
       "      <td>BISHAN</td>\n",
       "      <td>237 BISHAN STREET 22</td>\n",
       "      <td>Bishan</td>\n",
       "      <td>0.947205</td>\n",
       "      <td>6.663943</td>\n",
       "      <td>0.033613</td>\n",
       "      <td>0.015854</td>\n",
       "      <td>5 ROOM, Improved</td>\n",
       "      <td>69.583333</td>\n",
       "      <td>121.0</td>\n",
       "      <td>07 TO 09</td>\n",
       "      <td>988000.0</td>\n",
       "      <td>6.803419e+05</td>\n",
       "      <td>9.465352e+10</td>\n",
       "    </tr>\n",
       "    <tr>\n",
       "      <th>92340</th>\n",
       "      <td>10</td>\n",
       "      <td>2021</td>\n",
       "      <td>BUKIT MERAH</td>\n",
       "      <td>56 HAVELOCK ROAD</td>\n",
       "      <td>Tiong Bahru</td>\n",
       "      <td>0.451387</td>\n",
       "      <td>2.128424</td>\n",
       "      <td>0.016807</td>\n",
       "      <td>0.047782</td>\n",
       "      <td>5 ROOM, Improved</td>\n",
       "      <td>90.750000</td>\n",
       "      <td>114.0</td>\n",
       "      <td>34 TO 36</td>\n",
       "      <td>1245000.0</td>\n",
       "      <td>9.410489e+05</td>\n",
       "      <td>9.238625e+10</td>\n",
       "    </tr>\n",
       "    <tr>\n",
       "      <th>91694</th>\n",
       "      <td>4</td>\n",
       "      <td>2021</td>\n",
       "      <td>BUKIT MERAH</td>\n",
       "      <td>35 LIM LIAK STREET</td>\n",
       "      <td>Tiong Bahru</td>\n",
       "      <td>0.481551</td>\n",
       "      <td>2.262574</td>\n",
       "      <td>0.016807</td>\n",
       "      <td>0.047782</td>\n",
       "      <td>3 ROOM, Standard</td>\n",
       "      <td>50.833333</td>\n",
       "      <td>88.0</td>\n",
       "      <td>01 TO 03</td>\n",
       "      <td>680000.0</td>\n",
       "      <td>3.766706e+05</td>\n",
       "      <td>9.200875e+10</td>\n",
       "    </tr>\n",
       "    <tr>\n",
       "      <th>98379</th>\n",
       "      <td>12</td>\n",
       "      <td>2021</td>\n",
       "      <td>HOUGANG</td>\n",
       "      <td>615 HOUGANG AVENUE 8</td>\n",
       "      <td>Hougang</td>\n",
       "      <td>0.899849</td>\n",
       "      <td>8.828235</td>\n",
       "      <td>0.016807</td>\n",
       "      <td>0.001507</td>\n",
       "      <td>EXECUTIVE, Apartment</td>\n",
       "      <td>63.666667</td>\n",
       "      <td>142.0</td>\n",
       "      <td>04 TO 06</td>\n",
       "      <td>873000.0</td>\n",
       "      <td>5.709140e+05</td>\n",
       "      <td>9.125595e+10</td>\n",
       "    </tr>\n",
       "    <tr>\n",
       "      <th>92226</th>\n",
       "      <td>9</td>\n",
       "      <td>2021</td>\n",
       "      <td>BUKIT MERAH</td>\n",
       "      <td>96A HENDERSON ROAD</td>\n",
       "      <td>Tiong Bahru</td>\n",
       "      <td>0.586629</td>\n",
       "      <td>2.932814</td>\n",
       "      <td>0.016807</td>\n",
       "      <td>0.047782</td>\n",
       "      <td>5 ROOM, Improved</td>\n",
       "      <td>96.750000</td>\n",
       "      <td>113.0</td>\n",
       "      <td>28 TO 30</td>\n",
       "      <td>1220000.0</td>\n",
       "      <td>9.209056e+05</td>\n",
       "      <td>8.945748e+10</td>\n",
       "    </tr>\n",
       "    <tr>\n",
       "      <th>105468</th>\n",
       "      <td>3</td>\n",
       "      <td>2021</td>\n",
       "      <td>QUEENSTOWN</td>\n",
       "      <td>90 DAWSON ROAD</td>\n",
       "      <td>Queenstown</td>\n",
       "      <td>0.701852</td>\n",
       "      <td>3.763948</td>\n",
       "      <td>0.016807</td>\n",
       "      <td>0.008342</td>\n",
       "      <td>4 ROOM, Premium Apartment Loft</td>\n",
       "      <td>94.166667</td>\n",
       "      <td>95.0</td>\n",
       "      <td>10 TO 12</td>\n",
       "      <td>920000.0</td>\n",
       "      <td>6.215141e+05</td>\n",
       "      <td>8.909382e+10</td>\n",
       "    </tr>\n",
       "    <tr>\n",
       "      <th>92533</th>\n",
       "      <td>12</td>\n",
       "      <td>2021</td>\n",
       "      <td>BUKIT MERAH</td>\n",
       "      <td>2C BOON TIONG ROAD</td>\n",
       "      <td>Tiong Bahru</td>\n",
       "      <td>0.656363</td>\n",
       "      <td>1.982722</td>\n",
       "      <td>0.016807</td>\n",
       "      <td>0.047782</td>\n",
       "      <td>5 ROOM, Improved</td>\n",
       "      <td>78.083333</td>\n",
       "      <td>115.0</td>\n",
       "      <td>28 TO 30</td>\n",
       "      <td>1130000.0</td>\n",
       "      <td>8.315202e+05</td>\n",
       "      <td>8.909016e+10</td>\n",
       "    </tr>\n",
       "    <tr>\n",
       "      <th>105966</th>\n",
       "      <td>9</td>\n",
       "      <td>2021</td>\n",
       "      <td>QUEENSTOWN</td>\n",
       "      <td>91 DAWSON ROAD</td>\n",
       "      <td>Queenstown</td>\n",
       "      <td>0.745596</td>\n",
       "      <td>3.720593</td>\n",
       "      <td>0.016807</td>\n",
       "      <td>0.008342</td>\n",
       "      <td>4 ROOM, Premium Apartment Loft</td>\n",
       "      <td>93.666667</td>\n",
       "      <td>97.0</td>\n",
       "      <td>25 TO 27</td>\n",
       "      <td>968800.0</td>\n",
       "      <td>6.728788e+05</td>\n",
       "      <td>8.756935e+10</td>\n",
       "    </tr>\n",
       "    <tr>\n",
       "      <th>92066</th>\n",
       "      <td>8</td>\n",
       "      <td>2021</td>\n",
       "      <td>BUKIT MERAH</td>\n",
       "      <td>48 MOH GUAN TERRACE</td>\n",
       "      <td>Tiong Bahru</td>\n",
       "      <td>0.538563</td>\n",
       "      <td>2.345844</td>\n",
       "      <td>0.016807</td>\n",
       "      <td>0.047782</td>\n",
       "      <td>3 ROOM, Standard</td>\n",
       "      <td>50.500000</td>\n",
       "      <td>77.0</td>\n",
       "      <td>01 TO 03</td>\n",
       "      <td>628000.0</td>\n",
       "      <td>3.324645e+05</td>\n",
       "      <td>8.734125e+10</td>\n",
       "    </tr>\n",
       "  </tbody>\n",
       "</table>\n",
       "</div>"
      ],
      "text/plain": [
       "        month  year          town                full_address    nearest_stn  \\\n",
       "92405      11  2021   BUKIT MERAH            46 SENG POH ROAD    Tiong Bahru   \n",
       "90957       6  2021   BUKIT BATOK  288A BUKIT BATOK STREET 25    Bukit Batok   \n",
       "112128     12  2021      TAMPINES      156 TAMPINES STREET 12       Tampines   \n",
       "90608      12  2021        BISHAN       273B BISHAN STREET 24         Bishan   \n",
       "106192     12  2021    QUEENSTOWN              89 DAWSON ROAD     Queenstown   \n",
       "91871       6  2021   BUKIT MERAH         17 TIONG BAHRU ROAD    Tiong Bahru   \n",
       "93825       8  2021  CENTRAL AREA       4 TANJONG PAGAR PLAZA  Tanjong Pagar   \n",
       "92504      12  2021   BUKIT MERAH            49 KIM PONG ROAD    Tiong Bahru   \n",
       "105695      6  2021    QUEENSTOWN              91 DAWSON ROAD     Queenstown   \n",
       "90432       8  2021        BISHAN       275A BISHAN STREET 24         Bishan   \n",
       "92299      10  2021   BUKIT MERAH         36 MOH GUAN TERRACE    Tiong Bahru   \n",
       "92442      11  2021   BUKIT MERAH          127D KIM TIAN ROAD    Tiong Bahru   \n",
       "93895      11  2021  CENTRAL AREA       3 TANJONG PAGAR PLAZA  Tanjong Pagar   \n",
       "105699      6  2021    QUEENSTOWN              91 DAWSON ROAD     Queenstown   \n",
       "88081       8  2021    ANG MO KIO    310A ANG MO KIO AVENUE 1     Ang Mo Kio   \n",
       "106057     10  2021    QUEENSTOWN              92 DAWSON ROAD     Queenstown   \n",
       "90521      10  2021        BISHAN        237 BISHAN STREET 22         Bishan   \n",
       "92340      10  2021   BUKIT MERAH            56 HAVELOCK ROAD    Tiong Bahru   \n",
       "91694       4  2021   BUKIT MERAH          35 LIM LIAK STREET    Tiong Bahru   \n",
       "98379      12  2021       HOUGANG        615 HOUGANG AVENUE 8        Hougang   \n",
       "92226       9  2021   BUKIT MERAH          96A HENDERSON ROAD    Tiong Bahru   \n",
       "105468      3  2021    QUEENSTOWN              90 DAWSON ROAD     Queenstown   \n",
       "92533      12  2021   BUKIT MERAH          2C BOON TIONG ROAD    Tiong Bahru   \n",
       "105966      9  2021    QUEENSTOWN              91 DAWSON ROAD     Queenstown   \n",
       "92066       8  2021   BUKIT MERAH         48 MOH GUAN TERRACE    Tiong Bahru   \n",
       "\n",
       "        dist_to_nearest_stn  dist_to_dhoby  degree_centrality  \\\n",
       "92405              0.581977       2.309477           0.016807   \n",
       "90957              1.292540      10.763777           0.016807   \n",
       "112128             0.370873      12.479752           0.033613   \n",
       "90608              0.776182       6.297489           0.033613   \n",
       "106192             0.658035       3.807573           0.016807   \n",
       "91871              0.693391       2.058774           0.016807   \n",
       "93825              0.451637       2.594828           0.016807   \n",
       "92504              0.468378       2.365532           0.016807   \n",
       "105695             0.745596       3.720593           0.016807   \n",
       "90432              0.827889       6.370404           0.033613   \n",
       "92299              0.490926       2.278805           0.016807   \n",
       "92442              0.686789       2.664024           0.016807   \n",
       "93895              0.490378       2.630876           0.016807   \n",
       "105699             0.745596       3.720593           0.016807   \n",
       "88081              0.860056       7.263401           0.016807   \n",
       "106057             0.584731       3.882019           0.016807   \n",
       "90521              0.947205       6.663943           0.033613   \n",
       "92340              0.451387       2.128424           0.016807   \n",
       "91694              0.481551       2.262574           0.016807   \n",
       "98379              0.899849       8.828235           0.016807   \n",
       "92226              0.586629       2.932814           0.016807   \n",
       "105468             0.701852       3.763948           0.016807   \n",
       "92533              0.656363       1.982722           0.016807   \n",
       "105966             0.745596       3.720593           0.016807   \n",
       "92066              0.538563       2.345844           0.016807   \n",
       "\n",
       "        eigenvector_centrality                 flat_model_type  \\\n",
       "92405                 0.047782                3 ROOM, Standard   \n",
       "90957                 0.000217            EXECUTIVE, Apartment   \n",
       "112128                0.000229           EXECUTIVE, Maisonette   \n",
       "90608                 0.015854                    5 ROOM, DBSS   \n",
       "106192                0.008342  4 ROOM, Premium Apartment Loft   \n",
       "91871                 0.047782                3 ROOM, Standard   \n",
       "93825                 0.103876           5 ROOM, Adjoined flat   \n",
       "92504                 0.047782                3 ROOM, Standard   \n",
       "105695                0.008342  4 ROOM, Premium Apartment Loft   \n",
       "90432                 0.015854                    5 ROOM, DBSS   \n",
       "92299                 0.047782                3 ROOM, Standard   \n",
       "92442                 0.047782                5 ROOM, Improved   \n",
       "93895                 0.103876           5 ROOM, Adjoined flat   \n",
       "105699                0.008342  4 ROOM, Premium Apartment Loft   \n",
       "88081                 0.006243                5 ROOM, Improved   \n",
       "106057                0.008342  4 ROOM, Premium Apartment Loft   \n",
       "90521                 0.015854                5 ROOM, Improved   \n",
       "92340                 0.047782                5 ROOM, Improved   \n",
       "91694                 0.047782                3 ROOM, Standard   \n",
       "98379                 0.001507            EXECUTIVE, Apartment   \n",
       "92226                 0.047782                5 ROOM, Improved   \n",
       "105468                0.008342  4 ROOM, Premium Apartment Loft   \n",
       "92533                 0.047782                5 ROOM, Improved   \n",
       "105966                0.008342  4 ROOM, Premium Apartment Loft   \n",
       "92066                 0.047782                3 ROOM, Standard   \n",
       "\n",
       "        remaining_lease_years  floor_area_sqm storey_range  resale_price  \\\n",
       "92405               50.166667            88.0     01 TO 03      780000.0   \n",
       "90957               75.583333           144.0     10 TO 12      968000.0   \n",
       "112128              61.750000           148.0     01 TO 03      998000.0   \n",
       "90608               88.833333           120.0     37 TO 39     1360000.0   \n",
       "106192              93.333333           109.0     04 TO 06      968000.0   \n",
       "91871               50.583333            88.0     01 TO 03      680888.0   \n",
       "93825               54.583333           118.0     16 TO 18      938000.0   \n",
       "92504               50.166667            88.0     01 TO 03      695000.0   \n",
       "105695              93.916667            97.0     07 TO 09      930000.0   \n",
       "90432               88.916667           120.0     25 TO 27     1280000.0   \n",
       "92299               50.333333            88.0     01 TO 03      690000.0   \n",
       "92442               90.333333           113.0     16 TO 18     1165000.0   \n",
       "93895               54.250000           139.0     07 TO 09      958000.0   \n",
       "105699              93.916667           109.0     31 TO 33     1032888.0   \n",
       "88081               90.166667           121.0     28 TO 30     1100000.0   \n",
       "106057              93.500000            97.0     13 TO 15      958000.0   \n",
       "90521               69.583333           121.0     07 TO 09      988000.0   \n",
       "92340               90.750000           114.0     34 TO 36     1245000.0   \n",
       "91694               50.833333            88.0     01 TO 03      680000.0   \n",
       "98379               63.666667           142.0     04 TO 06      873000.0   \n",
       "92226               96.750000           113.0     28 TO 30     1220000.0   \n",
       "105468              94.166667            95.0     10 TO 12      920000.0   \n",
       "92533               78.083333           115.0     28 TO 30     1130000.0   \n",
       "105966              93.666667            97.0     25 TO 27      968800.0   \n",
       "92066               50.500000            77.0     01 TO 03      628000.0   \n",
       "\n",
       "         predictions         error  \n",
       "92405   3.646865e+05  1.724853e+11  \n",
       "90957   6.144983e+05  1.249634e+11  \n",
       "112128  6.555936e+05  1.172421e+11  \n",
       "90608   1.020589e+06  1.152001e+11  \n",
       "106192  6.359389e+05  1.102646e+11  \n",
       "91871   3.583568e+05  1.040264e+11  \n",
       "93825   6.179542e+05  1.024293e+11  \n",
       "92504   3.760023e+05  1.017595e+11  \n",
       "105695  6.124678e+05  1.008267e+11  \n",
       "90432   9.629781e+05  1.005029e+11  \n",
       "92299   3.759402e+05  9.863355e+10  \n",
       "92442   8.518172e+05  9.808343e+10  \n",
       "93895   6.479514e+05  9.613015e+10  \n",
       "105699  7.242338e+05  9.526745e+10  \n",
       "88081   7.917689e+05  9.500639e+10  \n",
       "106057  6.501535e+05  9.476947e+10  \n",
       "90521   6.803419e+05  9.465352e+10  \n",
       "92340   9.410489e+05  9.238625e+10  \n",
       "91694   3.766706e+05  9.200875e+10  \n",
       "98379   5.709140e+05  9.125595e+10  \n",
       "92226   9.209056e+05  8.945748e+10  \n",
       "105468  6.215141e+05  8.909382e+10  \n",
       "92533   8.315202e+05  8.909016e+10  \n",
       "105966  6.728788e+05  8.756935e+10  \n",
       "92066   3.324645e+05  8.734125e+10  "
      ]
     },
     "execution_count": 30,
     "metadata": {},
     "output_type": "execute_result"
    }
   ],
   "source": [
    "worst"
   ]
  },
  {
   "cell_type": "code",
   "execution_count": 29,
   "metadata": {},
   "outputs": [],
   "source": [
    "worst.to_csv('worst.csv')\n",
    "best.to_csv('best.csv')\n",
    "test_data.to_csv('test_data.csv')"
   ]
  },
  {
   "cell_type": "code",
   "execution_count": null,
   "metadata": {},
   "outputs": [],
   "source": []
  }
 ],
 "metadata": {
  "colab": {
   "authorship_tag": "ABX9TyOG8ZhA98h3O6fnefkjOU9w",
   "provenance": []
  },
  "kernelspec": {
   "display_name": "Python 3 (ipykernel)",
   "language": "python",
   "name": "python3"
  },
  "language_info": {
   "codemirror_mode": {
    "name": "ipython",
    "version": 3
   },
   "file_extension": ".py",
   "mimetype": "text/x-python",
   "name": "python",
   "nbconvert_exporter": "python",
   "pygments_lexer": "ipython3",
   "version": "3.9.7"
  }
 },
 "nbformat": 4,
 "nbformat_minor": 1
}
